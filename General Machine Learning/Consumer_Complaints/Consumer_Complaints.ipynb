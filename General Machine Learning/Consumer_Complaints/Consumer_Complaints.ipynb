{
 "cells": [
  {
   "cell_type": "code",
   "execution_count": null,
   "metadata": {},
   "outputs": [],
   "source": [
    "import warnings\n",
    "warnings.filterwarnings('ignore')\n",
    "import pandas as pd\n",
    "import math\n",
    "from sklearn.model_selection import train_test_split,KFold\n",
    "import numpy as np\n"
   ]
  },
  {
   "cell_type": "code",
   "execution_count": null,
   "metadata": {},
   "outputs": [],
   "source": [
    "datafile_train=r'F:\\Python(ML)\\Project 1\\Consumer_Complaints_train.csv'\n",
    "datafile_test=r'F:\\Python(ML)\\Project 1\\Consumer_Complaints_test_share.csv'\n",
    "cd_train=pd.read_csv(datafile_train)\n",
    "cd_test=pd.read_csv(datafile_test)"
   ]
  },
  {
   "cell_type": "code",
   "execution_count": null,
   "metadata": {},
   "outputs": [],
   "source": [
    "cd_train.dtypes"
   ]
  },
  {
   "cell_type": "code",
   "execution_count": null,
   "metadata": {},
   "outputs": [],
   "source": [
    "cd_train['Complaint ID'].nunique()"
   ]
  },
  {
   "cell_type": "code",
   "execution_count": null,
   "metadata": {},
   "outputs": [],
   "source": [
    "cd_train['Complaint ID'].value_counts()"
   ]
  },
  {
   "cell_type": "code",
   "execution_count": null,
   "metadata": {},
   "outputs": [],
   "source": [
    "cd_train['Product'].nunique()"
   ]
  },
  {
   "cell_type": "code",
   "execution_count": null,
   "metadata": {},
   "outputs": [],
   "source": [
    "pd.isnull(cd_train[['Tags','Sub-product','Consumer disputed?','Product']]).sum()"
   ]
  },
  {
   "cell_type": "code",
   "execution_count": null,
   "metadata": {},
   "outputs": [],
   "source": [
    "for col in ['Date received','Date sent to company']:\n",
    "    cd_train[col]=pd.to_datetime(cd_train[col],infer_datetime_format=True)\n",
    "    cd_test[col]=pd.to_datetime(cd_test[col],infer_datetime_format=True)"
   ]
  },
  {
   "cell_type": "code",
   "execution_count": null,
   "metadata": {
    "scrolled": true
   },
   "outputs": [],
   "source": [
    "cd_train['Date received']"
   ]
  },
  {
   "cell_type": "code",
   "execution_count": null,
   "metadata": {},
   "outputs": [],
   "source": [
    "cd_train['day_diff']=pd.to_numeric(cd_train['Date sent to company']-cd_train['Date received'])\n",
    "cd_test['day_diff']=pd.to_numeric(cd_test['Date sent to company']-cd_test['Date received'])"
   ]
  },
  {
   "cell_type": "code",
   "execution_count": null,
   "metadata": {},
   "outputs": [],
   "source": [
    "cd_train['day_diff']"
   ]
  },
  {
   "cell_type": "code",
   "execution_count": null,
   "metadata": {},
   "outputs": [],
   "source": [
    "for col in ['Date received','Date sent to company']:\n",
    "    cd_train.drop([col],1,inplace=True)\n",
    "    cd_test.drop([col],1,inplace=True)"
   ]
  },
  {
   "cell_type": "code",
   "execution_count": null,
   "metadata": {},
   "outputs": [],
   "source": [
    "for col in cd_train.select_dtypes(['object']).columns:\n",
    "    print(col,':',cd_train[col].nunique())"
   ]
  },
  {
   "cell_type": "code",
   "execution_count": null,
   "metadata": {},
   "outputs": [],
   "source": [
    "cd_train.isnull().sum()"
   ]
  },
  {
   "cell_type": "code",
   "execution_count": null,
   "metadata": {},
   "outputs": [],
   "source": [
    "len(pd.isnull(cd_train['Tags']))\n",
    "len(cd_train)"
   ]
  },
  {
   "cell_type": "code",
   "execution_count": null,
   "metadata": {},
   "outputs": [],
   "source": [
    "for col in ['Sub-product','Sub-issue','Consumer complaint narrative',\n",
    "            'Company public response','Tags','Consumer consent provided?']:\n",
    "    varname=col.replace('-','_').replace('?','').replace(\" \",'_')+'_isNan'\n",
    "    cd_train[varname]=np.where(pd.isnull(cd_train[col]),1,0)\n",
    "    cd_train.drop([col],1,inplace=True)\n",
    "    cd_test[varname]=np.where(pd.isnull(cd_test[col]),1,0)\n",
    "    cd_test.drop([col],1,inplace=True)\n",
    "    "
   ]
  },
  {
   "cell_type": "code",
   "execution_count": null,
   "metadata": {},
   "outputs": [],
   "source": [
    "cd_train.head(4)"
   ]
  },
  {
   "cell_type": "code",
   "execution_count": null,
   "metadata": {},
   "outputs": [],
   "source": [
    "for col in cd_train.select_dtypes(['object']).columns:\n",
    "    print(col,':',cd_train[col].nunique())"
   ]
  },
  {
   "cell_type": "code",
   "execution_count": null,
   "metadata": {},
   "outputs": [],
   "source": [
    "for col in ['ZIP code','Company']:\n",
    "    cd_train.drop([col],1,inplace=True)\n",
    "    cd_test.drop([col],1,inplace=True)"
   ]
  },
  {
   "cell_type": "code",
   "execution_count": null,
   "metadata": {},
   "outputs": [],
   "source": [
    "cd_train['Consumer disputed?']=np.where(cd_train['Consumer disputed?']==\"Yes\",1,0)"
   ]
  },
  {
   "cell_type": "code",
   "execution_count": null,
   "metadata": {},
   "outputs": [],
   "source": [
    "cd_train.dtypes"
   ]
  },
  {
   "cell_type": "code",
   "execution_count": null,
   "metadata": {
    "scrolled": true
   },
   "outputs": [],
   "source": [
    "cd_train['Issue'].value_counts()"
   ]
  },
  {
   "cell_type": "code",
   "execution_count": null,
   "metadata": {},
   "outputs": [],
   "source": [
    "k = cd_train['Issue'].value_counts()\n",
    "for val in k.axes[0][0:10]:\n",
    "    varname='Issue_'+val.replace(',','_').replace(' ','_')\n",
    "    cd_train[varname]=np.where(cd_train['Issue']==val,1,0)\n",
    "    cd_test[varname]=np.where(cd_test['Issue']==val,1,0)\n",
    "del cd_train['Issue']\n",
    "del cd_test['Issue']"
   ]
  },
  {
   "cell_type": "code",
   "execution_count": null,
   "metadata": {},
   "outputs": [],
   "source": [
    "cd_train.head()\n",
    "cd_train.shape"
   ]
  },
  {
   "cell_type": "code",
   "execution_count": null,
   "metadata": {},
   "outputs": [],
   "source": [
    "for col in cd_train.select_dtypes(['object']).columns:\n",
    "    print(col,':',cd_train[col].nunique())"
   ]
  },
  {
   "cell_type": "code",
   "execution_count": null,
   "metadata": {},
   "outputs": [],
   "source": [
    "k=cd_train['State'].value_counts()\n",
    "for val in k.axes[0][0:15]:\n",
    "    varname='State_'+val.replace(',','_').replace(' ','_')\n",
    "    cd_train[varname]=np.where(cd_train['State']==val,1,0)\n",
    "    cd_test[varname]=np.where(cd_test['State']==val,1,0)\n",
    "del cd_train['State']\n",
    "del cd_test['State']"
   ]
  },
  {
   "cell_type": "code",
   "execution_count": null,
   "metadata": {},
   "outputs": [],
   "source": [
    "type(k)"
   ]
  },
  {
   "cell_type": "code",
   "execution_count": null,
   "metadata": {},
   "outputs": [],
   "source": [
    "for col in ['Product','Submitted via','Company response to consumer','Timely response?']:\n",
    "    \n",
    "    temp=pd.get_dummies(cd_train[col],prefix=col,drop_first=True)\n",
    "    cd_train=pd.concat([temp,cd_train],1)\n",
    "    cd_train.drop([col],1,inplace=True)\n",
    "    \n",
    "    temp=pd.get_dummies(cd_test[col],prefix=col,drop_first=True)\n",
    "    cd_test=pd.concat([temp,cd_test],1)\n",
    "    cd_test.drop([col],1,inplace=True)\n"
   ]
  },
  {
   "cell_type": "code",
   "execution_count": null,
   "metadata": {},
   "outputs": [],
   "source": [
    "cd_train.dtypes"
   ]
  },
  {
   "cell_type": "code",
   "execution_count": null,
   "metadata": {},
   "outputs": [],
   "source": [
    "cd_train.head()"
   ]
  },
  {
   "cell_type": "code",
   "execution_count": null,
   "metadata": {},
   "outputs": [],
   "source": [
    "x=cd_train.drop(['Consumer disputed?','Complaint ID'],1)\n",
    "y=cd_train['Consumer disputed?']"
   ]
  },
  {
   "cell_type": "code",
   "execution_count": null,
   "metadata": {},
   "outputs": [],
   "source": [
    "x.head()"
   ]
  },
  {
   "cell_type": "code",
   "execution_count": null,
   "metadata": {},
   "outputs": [],
   "source": [
    "y.head()"
   ]
  },
  {
   "cell_type": "code",
   "execution_count": null,
   "metadata": {},
   "outputs": [],
   "source": [
    "from sklearn.linear_model import LogisticRegression"
   ]
  },
  {
   "cell_type": "code",
   "execution_count": null,
   "metadata": {},
   "outputs": [],
   "source": [
    "clf=LogisticRegression()"
   ]
  },
  {
   "cell_type": "code",
   "execution_count": null,
   "metadata": {},
   "outputs": [],
   "source": [
    "clf.fit(x,y)"
   ]
  },
  {
   "cell_type": "code",
   "execution_count": null,
   "metadata": {},
   "outputs": [],
   "source": [
    "prediction = np.where(clf.predict(cd_test.drop(['Complaint ID'],1))==1,\"Yes\",\"No\")"
   ]
  },
  {
   "cell_type": "code",
   "execution_count": null,
   "metadata": {},
   "outputs": [],
   "source": [
    "prediction"
   ]
  },
  {
   "cell_type": "code",
   "execution_count": null,
   "metadata": {},
   "outputs": [],
   "source": [
    "submission=pd.DataFrame(list(zip(cd_test['Complaint ID'],list(prediction))),\n",
    "                       columns=['Complaint ID','Consumer disputed?'])"
   ]
  },
  {
   "cell_type": "code",
   "execution_count": null,
   "metadata": {},
   "outputs": [],
   "source": [
    "submission.head(4)"
   ]
  },
  {
   "cell_type": "code",
   "execution_count": null,
   "metadata": {},
   "outputs": [],
   "source": [
    "submission.to_csv(r'F:\\Python(ML)\\Project 1\\submission.csv',index=False)"
   ]
  },
  {
   "cell_type": "markdown",
   "metadata": {},
   "source": []
  },
  {
   "cell_type": "markdown",
   "metadata": {
    "collapsed": true
   },
   "source": [
    "# Decision Trees"
   ]
  },
  {
   "cell_type": "code",
   "execution_count": 1,
   "metadata": {},
   "outputs": [],
   "source": [
    "import warnings\n",
    "warnings.filterwarnings('ignore')\n",
    "import pandas as pd\n",
    "import math\n",
    "from sklearn.model_selection import train_test_split,KFold\n",
    "import numpy as np\n"
   ]
  },
  {
   "cell_type": "code",
   "execution_count": 2,
   "metadata": {},
   "outputs": [],
   "source": [
    "datafile_train=r'F:\\Python(ML)\\Project 1\\Consumer_Complaints_train.csv'\n",
    "datafile_test=r'F:\\Python(ML)\\Project 1\\Consumer_Complaints_test_share.csv'\n",
    "cd_train=pd.read_csv(datafile_train)\n",
    "cd_test=pd.read_csv(datafile_test)"
   ]
  },
  {
   "cell_type": "code",
   "execution_count": 3,
   "metadata": {},
   "outputs": [
    {
     "data": {
      "text/plain": [
       "Date received                   object\n",
       "Product                         object\n",
       "Sub-product                     object\n",
       "Issue                           object\n",
       "Sub-issue                       object\n",
       "Consumer complaint narrative    object\n",
       "Company public response         object\n",
       "Company                         object\n",
       "State                           object\n",
       "ZIP code                        object\n",
       "Tags                            object\n",
       "Consumer consent provided?      object\n",
       "Submitted via                   object\n",
       "Date sent to company            object\n",
       "Company response to consumer    object\n",
       "Timely response?                object\n",
       "Consumer disputed?              object\n",
       "Complaint ID                     int64\n",
       "dtype: object"
      ]
     },
     "execution_count": 3,
     "metadata": {},
     "output_type": "execute_result"
    }
   ],
   "source": [
    "cd_train.dtypes"
   ]
  },
  {
   "cell_type": "code",
   "execution_count": 4,
   "metadata": {},
   "outputs": [],
   "source": [
    "for col in ['Date received','Date sent to company']:\n",
    "    cd_train[col]=pd.to_datetime(cd_train[col],infer_datetime_format=True)\n",
    "    cd_test[col]=pd.to_datetime(cd_test[col],infer_datetime_format=True)"
   ]
  },
  {
   "cell_type": "code",
   "execution_count": 5,
   "metadata": {
    "scrolled": true
   },
   "outputs": [
    {
     "data": {
      "text/plain": [
       "0        2014-05-15\n",
       "1        2014-09-18\n",
       "2        2014-03-13\n",
       "3        2015-07-17\n",
       "4        2014-11-20\n",
       "5        2014-06-26\n",
       "6        2012-09-28\n",
       "7        2015-05-06\n",
       "8        2013-02-25\n",
       "9        2016-03-30\n",
       "10       2014-03-21\n",
       "11       2015-11-27\n",
       "12       2012-04-13\n",
       "13       2014-03-18\n",
       "14       2016-04-30\n",
       "15       2015-09-22\n",
       "16       2013-12-13\n",
       "17       2015-11-25\n",
       "18       2014-06-17\n",
       "19       2014-03-11\n",
       "20       2014-04-28\n",
       "21       2013-06-27\n",
       "22       2012-11-17\n",
       "23       2015-05-02\n",
       "24       2015-09-23\n",
       "25       2015-04-07\n",
       "26       2013-08-15\n",
       "27       2015-02-05\n",
       "28       2013-05-29\n",
       "29       2016-06-22\n",
       "            ...    \n",
       "478391   2013-04-16\n",
       "478392   2014-01-30\n",
       "478393   2015-02-02\n",
       "478394   2015-02-21\n",
       "478395   2014-03-03\n",
       "478396   2013-08-16\n",
       "478397   2014-04-18\n",
       "478398   2014-07-16\n",
       "478399   2015-03-17\n",
       "478400   2015-09-22\n",
       "478401   2016-05-19\n",
       "478402   2014-10-14\n",
       "478403   2012-05-30\n",
       "478404   2014-08-21\n",
       "478405   2014-04-16\n",
       "478406   2016-05-10\n",
       "478407   2013-03-19\n",
       "478408   2014-02-26\n",
       "478409   2016-06-03\n",
       "478410   2016-03-25\n",
       "478411   2013-04-05\n",
       "478412   2016-07-11\n",
       "478413   2014-11-21\n",
       "478414   2014-12-31\n",
       "478415   2016-06-15\n",
       "478416   2015-06-30\n",
       "478417   2013-06-20\n",
       "478418   2014-09-09\n",
       "478419   2012-09-21\n",
       "478420   2014-10-30\n",
       "Name: Date received, Length: 478421, dtype: datetime64[ns]"
      ]
     },
     "execution_count": 5,
     "metadata": {},
     "output_type": "execute_result"
    }
   ],
   "source": [
    "cd_train['Date received']"
   ]
  },
  {
   "cell_type": "code",
   "execution_count": 6,
   "metadata": {},
   "outputs": [],
   "source": [
    "cd_train['day_diff']=pd.to_numeric(cd_train['Date sent to company']-cd_train['Date received'])\n",
    "cd_test['day_diff']=pd.to_numeric(cd_test['Date sent to company']-cd_test['Date received'])"
   ]
  },
  {
   "cell_type": "code",
   "execution_count": 7,
   "metadata": {},
   "outputs": [
    {
     "data": {
      "text/plain": [
       "0           86400000000000\n",
       "1          518400000000000\n",
       "2         1814400000000000\n",
       "3                        0\n",
       "4          691200000000000\n",
       "5          432000000000000\n",
       "6          259200000000000\n",
       "7                        0\n",
       "8           86400000000000\n",
       "9          172800000000000\n",
       "10         604800000000000\n",
       "11                       0\n",
       "12                       0\n",
       "13         259200000000000\n",
       "14         259200000000000\n",
       "15         259200000000000\n",
       "16                       0\n",
       "17         604800000000000\n",
       "18        1728000000000000\n",
       "19         172800000000000\n",
       "20                       0\n",
       "21          86400000000000\n",
       "22         172800000000000\n",
       "23         172800000000000\n",
       "24                       0\n",
       "25         518400000000000\n",
       "26         345600000000000\n",
       "27        1209600000000000\n",
       "28          86400000000000\n",
       "29                       0\n",
       "                ...       \n",
       "478391     604800000000000\n",
       "478392     518400000000000\n",
       "478393                   0\n",
       "478394                   0\n",
       "478395     259200000000000\n",
       "478396     345600000000000\n",
       "478397                   0\n",
       "478398     518400000000000\n",
       "478399     604800000000000\n",
       "478400                   0\n",
       "478401    4060800000000000\n",
       "478402     604800000000000\n",
       "478403     172800000000000\n",
       "478404     432000000000000\n",
       "478405     -86400000000000\n",
       "478406                   0\n",
       "478407      86400000000000\n",
       "478408      86400000000000\n",
       "478409                   0\n",
       "478410     518400000000000\n",
       "478411                   0\n",
       "478412                   0\n",
       "478413                   0\n",
       "478414                   0\n",
       "478415                   0\n",
       "478416      86400000000000\n",
       "478417      86400000000000\n",
       "478418                   0\n",
       "478419     259200000000000\n",
       "478420                   0\n",
       "Name: day_diff, Length: 478421, dtype: int64"
      ]
     },
     "execution_count": 7,
     "metadata": {},
     "output_type": "execute_result"
    }
   ],
   "source": [
    "cd_train['day_diff']"
   ]
  },
  {
   "cell_type": "code",
   "execution_count": 8,
   "metadata": {},
   "outputs": [],
   "source": [
    "for col in ['Date received','Date sent to company']:\n",
    "    cd_train.drop([col],1,inplace=True)\n",
    "    cd_test.drop([col],1,inplace=True)"
   ]
  },
  {
   "cell_type": "code",
   "execution_count": 9,
   "metadata": {},
   "outputs": [
    {
     "name": "stdout",
     "output_type": "stream",
     "text": [
      "Product : 12\n",
      "Sub-product : 47\n",
      "Issue : 95\n",
      "Sub-issue : 68\n",
      "Consumer complaint narrative : 74019\n",
      "Company public response : 10\n",
      "Company : 3276\n",
      "State : 62\n",
      "ZIP code : 25962\n",
      "Tags : 3\n",
      "Consumer consent provided? : 4\n",
      "Submitted via : 6\n",
      "Company response to consumer : 7\n",
      "Timely response? : 2\n",
      "Consumer disputed? : 2\n"
     ]
    }
   ],
   "source": [
    "for col in cd_train.select_dtypes(['object']).columns:\n",
    "    print(col,':',cd_train[col].nunique())"
   ]
  },
  {
   "cell_type": "code",
   "execution_count": 10,
   "metadata": {},
   "outputs": [
    {
     "data": {
      "text/plain": [
       "Product                              0\n",
       "Sub-product                     138473\n",
       "Issue                                0\n",
       "Sub-issue                       292625\n",
       "Consumer complaint narrative    403327\n",
       "Company public response         388029\n",
       "Company                              0\n",
       "State                             3839\n",
       "ZIP code                          3848\n",
       "Tags                            411215\n",
       "Consumer consent provided?      342934\n",
       "Submitted via                        0\n",
       "Company response to consumer         0\n",
       "Timely response?                     0\n",
       "Consumer disputed?                   0\n",
       "Complaint ID                         0\n",
       "day_diff                             0\n",
       "dtype: int64"
      ]
     },
     "execution_count": 10,
     "metadata": {},
     "output_type": "execute_result"
    }
   ],
   "source": [
    "cd_train.isnull().sum()"
   ]
  },
  {
   "cell_type": "code",
   "execution_count": 11,
   "metadata": {},
   "outputs": [
    {
     "data": {
      "text/plain": [
       "478421"
      ]
     },
     "execution_count": 11,
     "metadata": {},
     "output_type": "execute_result"
    }
   ],
   "source": [
    "len(pd.isnull(cd_train['Tags']))\n",
    "len(cd_train)"
   ]
  },
  {
   "cell_type": "code",
   "execution_count": 12,
   "metadata": {},
   "outputs": [],
   "source": [
    "for col in ['Sub-product','Sub-issue','Consumer complaint narrative',\n",
    "            'Company public response','Tags','Consumer consent provided?']:\n",
    "    varname=col.replace('-','_').replace('?','').replace(\" \",'_')+'_isNan'\n",
    "    cd_train[varname]=np.where(pd.isnull(cd_train[col]),1,0)\n",
    "    cd_train.drop([col],1,inplace=True)\n",
    "    cd_test[varname]=np.where(pd.isnull(cd_test[col]),1,0)\n",
    "    cd_test.drop([col],1,inplace=True)\n",
    "    "
   ]
  },
  {
   "cell_type": "code",
   "execution_count": 13,
   "metadata": {},
   "outputs": [
    {
     "data": {
      "text/html": [
       "<div>\n",
       "<style scoped>\n",
       "    .dataframe tbody tr th:only-of-type {\n",
       "        vertical-align: middle;\n",
       "    }\n",
       "\n",
       "    .dataframe tbody tr th {\n",
       "        vertical-align: top;\n",
       "    }\n",
       "\n",
       "    .dataframe thead th {\n",
       "        text-align: right;\n",
       "    }\n",
       "</style>\n",
       "<table border=\"1\" class=\"dataframe\">\n",
       "  <thead>\n",
       "    <tr style=\"text-align: right;\">\n",
       "      <th></th>\n",
       "      <th>Product</th>\n",
       "      <th>Issue</th>\n",
       "      <th>Company</th>\n",
       "      <th>State</th>\n",
       "      <th>ZIP code</th>\n",
       "      <th>Submitted via</th>\n",
       "      <th>Company response to consumer</th>\n",
       "      <th>Timely response?</th>\n",
       "      <th>Consumer disputed?</th>\n",
       "      <th>Complaint ID</th>\n",
       "      <th>day_diff</th>\n",
       "      <th>Sub_product_isNan</th>\n",
       "      <th>Sub_issue_isNan</th>\n",
       "      <th>Consumer_complaint_narrative_isNan</th>\n",
       "      <th>Company_public_response_isNan</th>\n",
       "      <th>Tags_isNan</th>\n",
       "      <th>Consumer_consent_provided_isNan</th>\n",
       "    </tr>\n",
       "  </thead>\n",
       "  <tbody>\n",
       "    <tr>\n",
       "      <th>0</th>\n",
       "      <td>Credit card</td>\n",
       "      <td>Billing statement</td>\n",
       "      <td>Wells Fargo &amp; Company</td>\n",
       "      <td>MI</td>\n",
       "      <td>48342</td>\n",
       "      <td>Web</td>\n",
       "      <td>Closed with explanation</td>\n",
       "      <td>Yes</td>\n",
       "      <td>No</td>\n",
       "      <td>856103</td>\n",
       "      <td>86400000000000</td>\n",
       "      <td>1</td>\n",
       "      <td>1</td>\n",
       "      <td>1</td>\n",
       "      <td>1</td>\n",
       "      <td>0</td>\n",
       "      <td>1</td>\n",
       "    </tr>\n",
       "    <tr>\n",
       "      <th>1</th>\n",
       "      <td>Bank account or service</td>\n",
       "      <td>Making/receiving payments, sending money</td>\n",
       "      <td>Santander Bank US</td>\n",
       "      <td>PA</td>\n",
       "      <td>18042</td>\n",
       "      <td>Referral</td>\n",
       "      <td>Closed</td>\n",
       "      <td>Yes</td>\n",
       "      <td>No</td>\n",
       "      <td>1034666</td>\n",
       "      <td>518400000000000</td>\n",
       "      <td>0</td>\n",
       "      <td>1</td>\n",
       "      <td>1</td>\n",
       "      <td>1</td>\n",
       "      <td>1</td>\n",
       "      <td>1</td>\n",
       "    </tr>\n",
       "    <tr>\n",
       "      <th>2</th>\n",
       "      <td>Credit reporting</td>\n",
       "      <td>Incorrect information on credit report</td>\n",
       "      <td>Equifax</td>\n",
       "      <td>CA</td>\n",
       "      <td>92427</td>\n",
       "      <td>Referral</td>\n",
       "      <td>Closed with non-monetary relief</td>\n",
       "      <td>Yes</td>\n",
       "      <td>No</td>\n",
       "      <td>756363</td>\n",
       "      <td>1814400000000000</td>\n",
       "      <td>1</td>\n",
       "      <td>0</td>\n",
       "      <td>1</td>\n",
       "      <td>1</td>\n",
       "      <td>1</td>\n",
       "      <td>1</td>\n",
       "    </tr>\n",
       "    <tr>\n",
       "      <th>3</th>\n",
       "      <td>Credit card</td>\n",
       "      <td>Billing statement</td>\n",
       "      <td>U.S. Bancorp</td>\n",
       "      <td>GA</td>\n",
       "      <td>305XX</td>\n",
       "      <td>Web</td>\n",
       "      <td>Closed with monetary relief</td>\n",
       "      <td>Yes</td>\n",
       "      <td>No</td>\n",
       "      <td>1474177</td>\n",
       "      <td>0</td>\n",
       "      <td>1</td>\n",
       "      <td>1</td>\n",
       "      <td>0</td>\n",
       "      <td>0</td>\n",
       "      <td>0</td>\n",
       "      <td>0</td>\n",
       "    </tr>\n",
       "  </tbody>\n",
       "</table>\n",
       "</div>"
      ],
      "text/plain": [
       "                   Product                                     Issue  \\\n",
       "0              Credit card                         Billing statement   \n",
       "1  Bank account or service  Making/receiving payments, sending money   \n",
       "2         Credit reporting    Incorrect information on credit report   \n",
       "3              Credit card                         Billing statement   \n",
       "\n",
       "                 Company State ZIP code Submitted via  \\\n",
       "0  Wells Fargo & Company    MI    48342           Web   \n",
       "1      Santander Bank US    PA    18042      Referral   \n",
       "2                Equifax    CA    92427      Referral   \n",
       "3           U.S. Bancorp    GA    305XX           Web   \n",
       "\n",
       "      Company response to consumer Timely response? Consumer disputed?  \\\n",
       "0          Closed with explanation              Yes                 No   \n",
       "1                           Closed              Yes                 No   \n",
       "2  Closed with non-monetary relief              Yes                 No   \n",
       "3      Closed with monetary relief              Yes                 No   \n",
       "\n",
       "   Complaint ID          day_diff  Sub_product_isNan  Sub_issue_isNan  \\\n",
       "0        856103    86400000000000                  1                1   \n",
       "1       1034666   518400000000000                  0                1   \n",
       "2        756363  1814400000000000                  1                0   \n",
       "3       1474177                 0                  1                1   \n",
       "\n",
       "   Consumer_complaint_narrative_isNan  Company_public_response_isNan  \\\n",
       "0                                   1                              1   \n",
       "1                                   1                              1   \n",
       "2                                   1                              1   \n",
       "3                                   0                              0   \n",
       "\n",
       "   Tags_isNan  Consumer_consent_provided_isNan  \n",
       "0           0                                1  \n",
       "1           1                                1  \n",
       "2           1                                1  \n",
       "3           0                                0  "
      ]
     },
     "execution_count": 13,
     "metadata": {},
     "output_type": "execute_result"
    }
   ],
   "source": [
    "cd_train.head(4)"
   ]
  },
  {
   "cell_type": "code",
   "execution_count": 14,
   "metadata": {},
   "outputs": [
    {
     "name": "stdout",
     "output_type": "stream",
     "text": [
      "Product : 12\n",
      "Issue : 95\n",
      "Company : 3276\n",
      "State : 62\n",
      "ZIP code : 25962\n",
      "Submitted via : 6\n",
      "Company response to consumer : 7\n",
      "Timely response? : 2\n",
      "Consumer disputed? : 2\n"
     ]
    }
   ],
   "source": [
    "for col in cd_train.select_dtypes(['object']).columns:\n",
    "    print(col,':',cd_train[col].nunique())"
   ]
  },
  {
   "cell_type": "code",
   "execution_count": 15,
   "metadata": {},
   "outputs": [],
   "source": [
    "for col in ['ZIP code','Company']:\n",
    "    cd_train.drop([col],1,inplace=True)\n",
    "    cd_test.drop([col],1,inplace=True)"
   ]
  },
  {
   "cell_type": "code",
   "execution_count": 16,
   "metadata": {},
   "outputs": [],
   "source": [
    "cd_train['Consumer disputed?']=np.where(cd_train['Consumer disputed?']==\"Yes\",1,0)"
   ]
  },
  {
   "cell_type": "code",
   "execution_count": 17,
   "metadata": {},
   "outputs": [
    {
     "data": {
      "text/plain": [
       "Product                               object\n",
       "Issue                                 object\n",
       "State                                 object\n",
       "Submitted via                         object\n",
       "Company response to consumer          object\n",
       "Timely response?                      object\n",
       "Consumer disputed?                     int32\n",
       "Complaint ID                           int64\n",
       "day_diff                               int64\n",
       "Sub_product_isNan                      int32\n",
       "Sub_issue_isNan                        int32\n",
       "Consumer_complaint_narrative_isNan     int32\n",
       "Company_public_response_isNan          int32\n",
       "Tags_isNan                             int32\n",
       "Consumer_consent_provided_isNan        int32\n",
       "dtype: object"
      ]
     },
     "execution_count": 17,
     "metadata": {},
     "output_type": "execute_result"
    }
   ],
   "source": [
    "cd_train.dtypes"
   ]
  },
  {
   "cell_type": "code",
   "execution_count": 18,
   "metadata": {
    "scrolled": true
   },
   "outputs": [
    {
     "data": {
      "text/plain": [
       "Loan modification,collection,foreclosure    80302\n",
       "Incorrect information on credit report      58527\n",
       "Loan servicing, payments, escrow account    51403\n",
       "Cont'd attempts collect debt not owed       36367\n",
       "Account opening, closing, or management     23568\n",
       "Disclosure verification of debt             16235\n",
       "Communication tactics                       15312\n",
       "Deposits and withdrawals                    14721\n",
       "Application, originator, mortgage broker    11201\n",
       "Billing disputes                             9600\n",
       "Credit reporting company's investigation     9492\n",
       "Other                                        9442\n",
       "Managing the loan or lease                   8905\n",
       "Problems caused by my funds being low        7758\n",
       "False statements or representation           7074\n",
       "Unable to get credit report/credit score     7060\n",
       "Dealing with my lender or servicer           6460\n",
       "Improper contact or sharing of info          6182\n",
       "Problems when you are unable to pay          5921\n",
       "Settlement process and costs                 5834\n",
       "Taking/threatening an illegal action         5374\n",
       "Identity theft / Fraud / Embezzlement        5141\n",
       "Making/receiving payments, sending money     4618\n",
       "Closing/Cancelling account                   4088\n",
       "APR or interest rate                         3870\n",
       "Credit decision / Underwriting               3755\n",
       "Using a debit or ATM card                    3738\n",
       "Can't repay my loan                          3668\n",
       "Improper use of my credit report             3283\n",
       "Repaying your loan                           2988\n",
       "                                            ...  \n",
       "Bankruptcy                                    321\n",
       "Can't stop charges to bank account            293\n",
       "Payment to acct not credited                  266\n",
       "Applied for loan/did not receive money        232\n",
       "Arbitration                                   225\n",
       "Sale of account                               223\n",
       "Shopping for a line of credit                 202\n",
       "Wrong amount charged or received              180\n",
       "Charged bank acct wrong day or amt            164\n",
       "Cash advance                                  163\n",
       "Customer service/Customer relations           151\n",
       "Overlimit fee                                 145\n",
       "Adding money                                  143\n",
       "Fees                                          142\n",
       "Balance transfer fee                          141\n",
       "Incorrect/missing disclosures or info         129\n",
       "Cash advance fee                              128\n",
       "Convenience checks                            100\n",
       "Excessive fees                                 52\n",
       "Unexpected/Other fees                          52\n",
       "Advertising, marketing or disclosures          50\n",
       "Lender repossessed or sold the vehicle         39\n",
       "Overdraft, savings or rewards features         29\n",
       "Disclosures                                    26\n",
       "Lost or stolen money order                     25\n",
       "Lost or stolen check                           20\n",
       "Incorrect exchange rate                        13\n",
       "Lender damaged or destroyed vehicle             5\n",
       "Lender sold the property                        2\n",
       "Lender damaged or destroyed property            1\n",
       "Name: Issue, Length: 95, dtype: int64"
      ]
     },
     "execution_count": 18,
     "metadata": {},
     "output_type": "execute_result"
    }
   ],
   "source": [
    "cd_train['Issue'].value_counts()"
   ]
  },
  {
   "cell_type": "code",
   "execution_count": 19,
   "metadata": {},
   "outputs": [],
   "source": [
    "k = cd_train['Issue'].value_counts()"
   ]
  },
  {
   "cell_type": "code",
   "execution_count": 20,
   "metadata": {},
   "outputs": [
    {
     "data": {
      "text/plain": [
       "Index(['Loan modification,collection,foreclosure',\n",
       "       'Incorrect information on credit report',\n",
       "       'Loan servicing, payments, escrow account',\n",
       "       'Cont'd attempts collect debt not owed',\n",
       "       'Account opening, closing, or management',\n",
       "       'Disclosure verification of debt', 'Communication tactics',\n",
       "       'Deposits and withdrawals', 'Application, originator, mortgage broker',\n",
       "       'Billing disputes'],\n",
       "      dtype='object')"
      ]
     },
     "execution_count": 20,
     "metadata": {},
     "output_type": "execute_result"
    }
   ],
   "source": [
    "k.axes[0][0:10]"
   ]
  },
  {
   "cell_type": "code",
   "execution_count": 21,
   "metadata": {},
   "outputs": [],
   "source": [
    "k = cd_train['Issue'].value_counts()\n",
    "for val in k.axes[0][0:10]:\n",
    "    varname='Issue_'+val.replace(',','_').replace(' ','_')\n",
    "    cd_train[varname]=np.where(cd_train['Issue']==val,1,0)\n",
    "    cd_test[varname]=np.where(cd_test['Issue']==val,1,0)\n",
    "del cd_train['Issue']\n",
    "del cd_test['Issue']"
   ]
  },
  {
   "cell_type": "code",
   "execution_count": 22,
   "metadata": {},
   "outputs": [
    {
     "data": {
      "text/plain": [
       "(478421, 24)"
      ]
     },
     "execution_count": 22,
     "metadata": {},
     "output_type": "execute_result"
    }
   ],
   "source": [
    "cd_train.head()\n",
    "cd_train.shape"
   ]
  },
  {
   "cell_type": "code",
   "execution_count": 23,
   "metadata": {},
   "outputs": [
    {
     "name": "stdout",
     "output_type": "stream",
     "text": [
      "Product : 12\n",
      "State : 62\n",
      "Submitted via : 6\n",
      "Company response to consumer : 7\n",
      "Timely response? : 2\n"
     ]
    }
   ],
   "source": [
    "for col in cd_train.select_dtypes(['object']).columns:\n",
    "    print(col,':',cd_train[col].nunique())"
   ]
  },
  {
   "cell_type": "code",
   "execution_count": 24,
   "metadata": {},
   "outputs": [],
   "source": [
    "k=cd_train['State'].value_counts()\n",
    "\n"
   ]
  },
  {
   "cell_type": "code",
   "execution_count": 25,
   "metadata": {},
   "outputs": [
    {
     "data": {
      "text/plain": [
       "Index(['CA', 'FL', 'TX', 'NY', 'GA', 'NJ', 'PA', 'IL', 'VA', 'MD', 'OH', 'NC',\n",
       "       'MI', 'AZ', 'WA'],\n",
       "      dtype='object')"
      ]
     },
     "execution_count": 25,
     "metadata": {},
     "output_type": "execute_result"
    }
   ],
   "source": [
    "k.axes[0][0:15]"
   ]
  },
  {
   "cell_type": "code",
   "execution_count": 26,
   "metadata": {},
   "outputs": [],
   "source": [
    "k=cd_train['State'].value_counts()\n",
    "for val in k.axes[0][0:15]:\n",
    "    varname='State_'+val.replace(',','_').replace(' ','_')\n",
    "    cd_train[varname]=np.where(cd_train['State']==val,1,0)\n",
    "    cd_test[varname]=np.where(cd_test['State']==val,1,0)\n",
    "del cd_train['State']\n",
    "del cd_test['State']"
   ]
  },
  {
   "cell_type": "code",
   "execution_count": 27,
   "metadata": {},
   "outputs": [
    {
     "data": {
      "text/plain": [
       "pandas.core.series.Series"
      ]
     },
     "execution_count": 27,
     "metadata": {},
     "output_type": "execute_result"
    }
   ],
   "source": [
    "type(k)"
   ]
  },
  {
   "cell_type": "code",
   "execution_count": 28,
   "metadata": {},
   "outputs": [],
   "source": [
    "for col in ['Product','Submitted via','Company response to consumer','Timely response?']:\n",
    "    \n",
    "    temp=pd.get_dummies(cd_train[col],prefix=col,drop_first=True)\n",
    "    cd_train=pd.concat([temp,cd_train],1)\n",
    "    cd_train.drop([col],1,inplace=True)\n",
    "    \n",
    "    temp=pd.get_dummies(cd_test[col],prefix=col,drop_first=True)\n",
    "    cd_test=pd.concat([temp,cd_test],1)\n",
    "    cd_test.drop([col],1,inplace=True)\n"
   ]
  },
  {
   "cell_type": "code",
   "execution_count": 29,
   "metadata": {},
   "outputs": [
    {
     "data": {
      "text/plain": [
       "Timely response?_Yes                                            uint8\n",
       "Company response to consumer_Closed with explanation            uint8\n",
       "Company response to consumer_Closed with monetary relief        uint8\n",
       "Company response to consumer_Closed with non-monetary relief    uint8\n",
       "Company response to consumer_Closed with relief                 uint8\n",
       "Company response to consumer_Closed without relief              uint8\n",
       "Company response to consumer_Untimely response                  uint8\n",
       "Submitted via_Fax                                               uint8\n",
       "Submitted via_Phone                                             uint8\n",
       "Submitted via_Postal mail                                       uint8\n",
       "Submitted via_Referral                                          uint8\n",
       "Submitted via_Web                                               uint8\n",
       "Product_Consumer Loan                                           uint8\n",
       "Product_Credit card                                             uint8\n",
       "Product_Credit reporting                                        uint8\n",
       "Product_Debt collection                                         uint8\n",
       "Product_Money transfers                                         uint8\n",
       "Product_Mortgage                                                uint8\n",
       "Product_Other financial service                                 uint8\n",
       "Product_Payday loan                                             uint8\n",
       "Product_Prepaid card                                            uint8\n",
       "Product_Student loan                                            uint8\n",
       "Product_Virtual currency                                        uint8\n",
       "Consumer disputed?                                              int32\n",
       "Complaint ID                                                    int64\n",
       "day_diff                                                        int64\n",
       "Sub_product_isNan                                               int32\n",
       "Sub_issue_isNan                                                 int32\n",
       "Consumer_complaint_narrative_isNan                              int32\n",
       "Company_public_response_isNan                                   int32\n",
       "Tags_isNan                                                      int32\n",
       "Consumer_consent_provided_isNan                                 int32\n",
       "Issue_Loan_modification_collection_foreclosure                  int32\n",
       "Issue_Incorrect_information_on_credit_report                    int32\n",
       "Issue_Loan_servicing__payments__escrow_account                  int32\n",
       "Issue_Cont'd_attempts_collect_debt_not_owed                     int32\n",
       "Issue_Account_opening__closing__or_management                   int32\n",
       "Issue_Disclosure_verification_of_debt                           int32\n",
       "Issue_Communication_tactics                                     int32\n",
       "Issue_Deposits_and_withdrawals                                  int32\n",
       "Issue_Application__originator__mortgage_broker                  int32\n",
       "Issue_Billing_disputes                                          int32\n",
       "State_CA                                                        int32\n",
       "State_FL                                                        int32\n",
       "State_TX                                                        int32\n",
       "State_NY                                                        int32\n",
       "State_GA                                                        int32\n",
       "State_NJ                                                        int32\n",
       "State_PA                                                        int32\n",
       "State_IL                                                        int32\n",
       "State_VA                                                        int32\n",
       "State_MD                                                        int32\n",
       "State_OH                                                        int32\n",
       "State_NC                                                        int32\n",
       "State_MI                                                        int32\n",
       "State_AZ                                                        int32\n",
       "State_WA                                                        int32\n",
       "dtype: object"
      ]
     },
     "execution_count": 29,
     "metadata": {},
     "output_type": "execute_result"
    }
   ],
   "source": [
    "cd_train.dtypes"
   ]
  },
  {
   "cell_type": "code",
   "execution_count": 30,
   "metadata": {},
   "outputs": [
    {
     "data": {
      "text/html": [
       "<div>\n",
       "<style scoped>\n",
       "    .dataframe tbody tr th:only-of-type {\n",
       "        vertical-align: middle;\n",
       "    }\n",
       "\n",
       "    .dataframe tbody tr th {\n",
       "        vertical-align: top;\n",
       "    }\n",
       "\n",
       "    .dataframe thead th {\n",
       "        text-align: right;\n",
       "    }\n",
       "</style>\n",
       "<table border=\"1\" class=\"dataframe\">\n",
       "  <thead>\n",
       "    <tr style=\"text-align: right;\">\n",
       "      <th></th>\n",
       "      <th>Timely response?_Yes</th>\n",
       "      <th>Company response to consumer_Closed with explanation</th>\n",
       "      <th>Company response to consumer_Closed with monetary relief</th>\n",
       "      <th>Company response to consumer_Closed with non-monetary relief</th>\n",
       "      <th>Company response to consumer_Closed with relief</th>\n",
       "      <th>Company response to consumer_Closed without relief</th>\n",
       "      <th>Company response to consumer_Untimely response</th>\n",
       "      <th>Submitted via_Fax</th>\n",
       "      <th>Submitted via_Phone</th>\n",
       "      <th>Submitted via_Postal mail</th>\n",
       "      <th>...</th>\n",
       "      <th>State_NJ</th>\n",
       "      <th>State_PA</th>\n",
       "      <th>State_IL</th>\n",
       "      <th>State_VA</th>\n",
       "      <th>State_MD</th>\n",
       "      <th>State_OH</th>\n",
       "      <th>State_NC</th>\n",
       "      <th>State_MI</th>\n",
       "      <th>State_AZ</th>\n",
       "      <th>State_WA</th>\n",
       "    </tr>\n",
       "  </thead>\n",
       "  <tbody>\n",
       "    <tr>\n",
       "      <th>0</th>\n",
       "      <td>1</td>\n",
       "      <td>1</td>\n",
       "      <td>0</td>\n",
       "      <td>0</td>\n",
       "      <td>0</td>\n",
       "      <td>0</td>\n",
       "      <td>0</td>\n",
       "      <td>0</td>\n",
       "      <td>0</td>\n",
       "      <td>0</td>\n",
       "      <td>...</td>\n",
       "      <td>0</td>\n",
       "      <td>0</td>\n",
       "      <td>0</td>\n",
       "      <td>0</td>\n",
       "      <td>0</td>\n",
       "      <td>0</td>\n",
       "      <td>0</td>\n",
       "      <td>1</td>\n",
       "      <td>0</td>\n",
       "      <td>0</td>\n",
       "    </tr>\n",
       "    <tr>\n",
       "      <th>1</th>\n",
       "      <td>1</td>\n",
       "      <td>0</td>\n",
       "      <td>0</td>\n",
       "      <td>0</td>\n",
       "      <td>0</td>\n",
       "      <td>0</td>\n",
       "      <td>0</td>\n",
       "      <td>0</td>\n",
       "      <td>0</td>\n",
       "      <td>0</td>\n",
       "      <td>...</td>\n",
       "      <td>0</td>\n",
       "      <td>1</td>\n",
       "      <td>0</td>\n",
       "      <td>0</td>\n",
       "      <td>0</td>\n",
       "      <td>0</td>\n",
       "      <td>0</td>\n",
       "      <td>0</td>\n",
       "      <td>0</td>\n",
       "      <td>0</td>\n",
       "    </tr>\n",
       "    <tr>\n",
       "      <th>2</th>\n",
       "      <td>1</td>\n",
       "      <td>0</td>\n",
       "      <td>0</td>\n",
       "      <td>1</td>\n",
       "      <td>0</td>\n",
       "      <td>0</td>\n",
       "      <td>0</td>\n",
       "      <td>0</td>\n",
       "      <td>0</td>\n",
       "      <td>0</td>\n",
       "      <td>...</td>\n",
       "      <td>0</td>\n",
       "      <td>0</td>\n",
       "      <td>0</td>\n",
       "      <td>0</td>\n",
       "      <td>0</td>\n",
       "      <td>0</td>\n",
       "      <td>0</td>\n",
       "      <td>0</td>\n",
       "      <td>0</td>\n",
       "      <td>0</td>\n",
       "    </tr>\n",
       "    <tr>\n",
       "      <th>3</th>\n",
       "      <td>1</td>\n",
       "      <td>0</td>\n",
       "      <td>1</td>\n",
       "      <td>0</td>\n",
       "      <td>0</td>\n",
       "      <td>0</td>\n",
       "      <td>0</td>\n",
       "      <td>0</td>\n",
       "      <td>0</td>\n",
       "      <td>0</td>\n",
       "      <td>...</td>\n",
       "      <td>0</td>\n",
       "      <td>0</td>\n",
       "      <td>0</td>\n",
       "      <td>0</td>\n",
       "      <td>0</td>\n",
       "      <td>0</td>\n",
       "      <td>0</td>\n",
       "      <td>0</td>\n",
       "      <td>0</td>\n",
       "      <td>0</td>\n",
       "    </tr>\n",
       "    <tr>\n",
       "      <th>4</th>\n",
       "      <td>1</td>\n",
       "      <td>1</td>\n",
       "      <td>0</td>\n",
       "      <td>0</td>\n",
       "      <td>0</td>\n",
       "      <td>0</td>\n",
       "      <td>0</td>\n",
       "      <td>0</td>\n",
       "      <td>0</td>\n",
       "      <td>0</td>\n",
       "      <td>...</td>\n",
       "      <td>0</td>\n",
       "      <td>0</td>\n",
       "      <td>0</td>\n",
       "      <td>0</td>\n",
       "      <td>0</td>\n",
       "      <td>0</td>\n",
       "      <td>0</td>\n",
       "      <td>0</td>\n",
       "      <td>0</td>\n",
       "      <td>0</td>\n",
       "    </tr>\n",
       "  </tbody>\n",
       "</table>\n",
       "<p>5 rows × 57 columns</p>\n",
       "</div>"
      ],
      "text/plain": [
       "   Timely response?_Yes  Company response to consumer_Closed with explanation  \\\n",
       "0                     1                                                  1      \n",
       "1                     1                                                  0      \n",
       "2                     1                                                  0      \n",
       "3                     1                                                  0      \n",
       "4                     1                                                  1      \n",
       "\n",
       "   Company response to consumer_Closed with monetary relief  \\\n",
       "0                                                  0          \n",
       "1                                                  0          \n",
       "2                                                  0          \n",
       "3                                                  1          \n",
       "4                                                  0          \n",
       "\n",
       "   Company response to consumer_Closed with non-monetary relief  \\\n",
       "0                                                  0              \n",
       "1                                                  0              \n",
       "2                                                  1              \n",
       "3                                                  0              \n",
       "4                                                  0              \n",
       "\n",
       "   Company response to consumer_Closed with relief  \\\n",
       "0                                                0   \n",
       "1                                                0   \n",
       "2                                                0   \n",
       "3                                                0   \n",
       "4                                                0   \n",
       "\n",
       "   Company response to consumer_Closed without relief  \\\n",
       "0                                                  0    \n",
       "1                                                  0    \n",
       "2                                                  0    \n",
       "3                                                  0    \n",
       "4                                                  0    \n",
       "\n",
       "   Company response to consumer_Untimely response  Submitted via_Fax  \\\n",
       "0                                               0                  0   \n",
       "1                                               0                  0   \n",
       "2                                               0                  0   \n",
       "3                                               0                  0   \n",
       "4                                               0                  0   \n",
       "\n",
       "   Submitted via_Phone  Submitted via_Postal mail    ...     State_NJ  \\\n",
       "0                    0                          0    ...            0   \n",
       "1                    0                          0    ...            0   \n",
       "2                    0                          0    ...            0   \n",
       "3                    0                          0    ...            0   \n",
       "4                    0                          0    ...            0   \n",
       "\n",
       "   State_PA  State_IL  State_VA  State_MD  State_OH  State_NC  State_MI  \\\n",
       "0         0         0         0         0         0         0         1   \n",
       "1         1         0         0         0         0         0         0   \n",
       "2         0         0         0         0         0         0         0   \n",
       "3         0         0         0         0         0         0         0   \n",
       "4         0         0         0         0         0         0         0   \n",
       "\n",
       "   State_AZ  State_WA  \n",
       "0         0         0  \n",
       "1         0         0  \n",
       "2         0         0  \n",
       "3         0         0  \n",
       "4         0         0  \n",
       "\n",
       "[5 rows x 57 columns]"
      ]
     },
     "execution_count": 30,
     "metadata": {},
     "output_type": "execute_result"
    }
   ],
   "source": [
    "cd_train.head()"
   ]
  },
  {
   "cell_type": "code",
   "execution_count": 31,
   "metadata": {},
   "outputs": [],
   "source": [
    "x=cd_train.drop(['Consumer disputed?','Complaint ID'],1)\n",
    "y=cd_train['Consumer disputed?']"
   ]
  },
  {
   "cell_type": "code",
   "execution_count": 32,
   "metadata": {},
   "outputs": [
    {
     "data": {
      "text/html": [
       "<div>\n",
       "<style scoped>\n",
       "    .dataframe tbody tr th:only-of-type {\n",
       "        vertical-align: middle;\n",
       "    }\n",
       "\n",
       "    .dataframe tbody tr th {\n",
       "        vertical-align: top;\n",
       "    }\n",
       "\n",
       "    .dataframe thead th {\n",
       "        text-align: right;\n",
       "    }\n",
       "</style>\n",
       "<table border=\"1\" class=\"dataframe\">\n",
       "  <thead>\n",
       "    <tr style=\"text-align: right;\">\n",
       "      <th></th>\n",
       "      <th>Timely response?_Yes</th>\n",
       "      <th>Company response to consumer_Closed with explanation</th>\n",
       "      <th>Company response to consumer_Closed with monetary relief</th>\n",
       "      <th>Company response to consumer_Closed with non-monetary relief</th>\n",
       "      <th>Company response to consumer_Closed with relief</th>\n",
       "      <th>Company response to consumer_Closed without relief</th>\n",
       "      <th>Company response to consumer_Untimely response</th>\n",
       "      <th>Submitted via_Fax</th>\n",
       "      <th>Submitted via_Phone</th>\n",
       "      <th>Submitted via_Postal mail</th>\n",
       "      <th>...</th>\n",
       "      <th>State_NJ</th>\n",
       "      <th>State_PA</th>\n",
       "      <th>State_IL</th>\n",
       "      <th>State_VA</th>\n",
       "      <th>State_MD</th>\n",
       "      <th>State_OH</th>\n",
       "      <th>State_NC</th>\n",
       "      <th>State_MI</th>\n",
       "      <th>State_AZ</th>\n",
       "      <th>State_WA</th>\n",
       "    </tr>\n",
       "  </thead>\n",
       "  <tbody>\n",
       "    <tr>\n",
       "      <th>0</th>\n",
       "      <td>1</td>\n",
       "      <td>1</td>\n",
       "      <td>0</td>\n",
       "      <td>0</td>\n",
       "      <td>0</td>\n",
       "      <td>0</td>\n",
       "      <td>0</td>\n",
       "      <td>0</td>\n",
       "      <td>0</td>\n",
       "      <td>0</td>\n",
       "      <td>...</td>\n",
       "      <td>0</td>\n",
       "      <td>0</td>\n",
       "      <td>0</td>\n",
       "      <td>0</td>\n",
       "      <td>0</td>\n",
       "      <td>0</td>\n",
       "      <td>0</td>\n",
       "      <td>1</td>\n",
       "      <td>0</td>\n",
       "      <td>0</td>\n",
       "    </tr>\n",
       "    <tr>\n",
       "      <th>1</th>\n",
       "      <td>1</td>\n",
       "      <td>0</td>\n",
       "      <td>0</td>\n",
       "      <td>0</td>\n",
       "      <td>0</td>\n",
       "      <td>0</td>\n",
       "      <td>0</td>\n",
       "      <td>0</td>\n",
       "      <td>0</td>\n",
       "      <td>0</td>\n",
       "      <td>...</td>\n",
       "      <td>0</td>\n",
       "      <td>1</td>\n",
       "      <td>0</td>\n",
       "      <td>0</td>\n",
       "      <td>0</td>\n",
       "      <td>0</td>\n",
       "      <td>0</td>\n",
       "      <td>0</td>\n",
       "      <td>0</td>\n",
       "      <td>0</td>\n",
       "    </tr>\n",
       "    <tr>\n",
       "      <th>2</th>\n",
       "      <td>1</td>\n",
       "      <td>0</td>\n",
       "      <td>0</td>\n",
       "      <td>1</td>\n",
       "      <td>0</td>\n",
       "      <td>0</td>\n",
       "      <td>0</td>\n",
       "      <td>0</td>\n",
       "      <td>0</td>\n",
       "      <td>0</td>\n",
       "      <td>...</td>\n",
       "      <td>0</td>\n",
       "      <td>0</td>\n",
       "      <td>0</td>\n",
       "      <td>0</td>\n",
       "      <td>0</td>\n",
       "      <td>0</td>\n",
       "      <td>0</td>\n",
       "      <td>0</td>\n",
       "      <td>0</td>\n",
       "      <td>0</td>\n",
       "    </tr>\n",
       "    <tr>\n",
       "      <th>3</th>\n",
       "      <td>1</td>\n",
       "      <td>0</td>\n",
       "      <td>1</td>\n",
       "      <td>0</td>\n",
       "      <td>0</td>\n",
       "      <td>0</td>\n",
       "      <td>0</td>\n",
       "      <td>0</td>\n",
       "      <td>0</td>\n",
       "      <td>0</td>\n",
       "      <td>...</td>\n",
       "      <td>0</td>\n",
       "      <td>0</td>\n",
       "      <td>0</td>\n",
       "      <td>0</td>\n",
       "      <td>0</td>\n",
       "      <td>0</td>\n",
       "      <td>0</td>\n",
       "      <td>0</td>\n",
       "      <td>0</td>\n",
       "      <td>0</td>\n",
       "    </tr>\n",
       "    <tr>\n",
       "      <th>4</th>\n",
       "      <td>1</td>\n",
       "      <td>1</td>\n",
       "      <td>0</td>\n",
       "      <td>0</td>\n",
       "      <td>0</td>\n",
       "      <td>0</td>\n",
       "      <td>0</td>\n",
       "      <td>0</td>\n",
       "      <td>0</td>\n",
       "      <td>0</td>\n",
       "      <td>...</td>\n",
       "      <td>0</td>\n",
       "      <td>0</td>\n",
       "      <td>0</td>\n",
       "      <td>0</td>\n",
       "      <td>0</td>\n",
       "      <td>0</td>\n",
       "      <td>0</td>\n",
       "      <td>0</td>\n",
       "      <td>0</td>\n",
       "      <td>0</td>\n",
       "    </tr>\n",
       "  </tbody>\n",
       "</table>\n",
       "<p>5 rows × 55 columns</p>\n",
       "</div>"
      ],
      "text/plain": [
       "   Timely response?_Yes  Company response to consumer_Closed with explanation  \\\n",
       "0                     1                                                  1      \n",
       "1                     1                                                  0      \n",
       "2                     1                                                  0      \n",
       "3                     1                                                  0      \n",
       "4                     1                                                  1      \n",
       "\n",
       "   Company response to consumer_Closed with monetary relief  \\\n",
       "0                                                  0          \n",
       "1                                                  0          \n",
       "2                                                  0          \n",
       "3                                                  1          \n",
       "4                                                  0          \n",
       "\n",
       "   Company response to consumer_Closed with non-monetary relief  \\\n",
       "0                                                  0              \n",
       "1                                                  0              \n",
       "2                                                  1              \n",
       "3                                                  0              \n",
       "4                                                  0              \n",
       "\n",
       "   Company response to consumer_Closed with relief  \\\n",
       "0                                                0   \n",
       "1                                                0   \n",
       "2                                                0   \n",
       "3                                                0   \n",
       "4                                                0   \n",
       "\n",
       "   Company response to consumer_Closed without relief  \\\n",
       "0                                                  0    \n",
       "1                                                  0    \n",
       "2                                                  0    \n",
       "3                                                  0    \n",
       "4                                                  0    \n",
       "\n",
       "   Company response to consumer_Untimely response  Submitted via_Fax  \\\n",
       "0                                               0                  0   \n",
       "1                                               0                  0   \n",
       "2                                               0                  0   \n",
       "3                                               0                  0   \n",
       "4                                               0                  0   \n",
       "\n",
       "   Submitted via_Phone  Submitted via_Postal mail    ...     State_NJ  \\\n",
       "0                    0                          0    ...            0   \n",
       "1                    0                          0    ...            0   \n",
       "2                    0                          0    ...            0   \n",
       "3                    0                          0    ...            0   \n",
       "4                    0                          0    ...            0   \n",
       "\n",
       "   State_PA  State_IL  State_VA  State_MD  State_OH  State_NC  State_MI  \\\n",
       "0         0         0         0         0         0         0         1   \n",
       "1         1         0         0         0         0         0         0   \n",
       "2         0         0         0         0         0         0         0   \n",
       "3         0         0         0         0         0         0         0   \n",
       "4         0         0         0         0         0         0         0   \n",
       "\n",
       "   State_AZ  State_WA  \n",
       "0         0         0  \n",
       "1         0         0  \n",
       "2         0         0  \n",
       "3         0         0  \n",
       "4         0         0  \n",
       "\n",
       "[5 rows x 55 columns]"
      ]
     },
     "execution_count": 32,
     "metadata": {},
     "output_type": "execute_result"
    }
   ],
   "source": [
    "x.head()"
   ]
  },
  {
   "cell_type": "code",
   "execution_count": 33,
   "metadata": {},
   "outputs": [
    {
     "data": {
      "text/plain": [
       "0    0\n",
       "1    0\n",
       "2    0\n",
       "3    0\n",
       "4    0\n",
       "Name: Consumer disputed?, dtype: int32"
      ]
     },
     "execution_count": 33,
     "metadata": {},
     "output_type": "execute_result"
    }
   ],
   "source": [
    "y.head()"
   ]
  },
  {
   "cell_type": "code",
   "execution_count": 34,
   "metadata": {},
   "outputs": [],
   "source": [
    "from sklearn.model_selection import RandomizedSearchCV"
   ]
  },
  {
   "cell_type": "code",
   "execution_count": 35,
   "metadata": {},
   "outputs": [],
   "source": [
    "params={'class_weight':[None,'balanced'], \n",
    "        'criterion':['entropy','gini'],\n",
    "        'max_depth':[None,5,6,8,9,10,11,12],\n",
    "            'min_samples_leaf':[1,2,3,4,5,10], \n",
    "            'min_samples_split':[2,3,4,5,10]\n",
    "       }"
   ]
  },
  {
   "cell_type": "code",
   "execution_count": 36,
   "metadata": {},
   "outputs": [],
   "source": [
    "from sklearn.tree import DecisionTreeClassifier"
   ]
  },
  {
   "cell_type": "code",
   "execution_count": 37,
   "metadata": {},
   "outputs": [],
   "source": [
    "clf = DecisionTreeClassifier()"
   ]
  },
  {
   "cell_type": "code",
   "execution_count": 49,
   "metadata": {},
   "outputs": [],
   "source": [
    "random_search=RandomizedSearchCV(clf,cv=10,\n",
    "                                 param_distributions=params, # param_dist..should be always be dictionary with\n",
    "                                                             #parameters names (string) as keys and distributions or lists \n",
    "                                                             # of parameters to try\n",
    "                                 scoring='roc_auc',\n",
    "                                 n_iter=20,n_jobs= -1\n",
    "                                    )"
   ]
  },
  {
   "cell_type": "code",
   "execution_count": 50,
   "metadata": {},
   "outputs": [
    {
     "data": {
      "text/plain": [
       "RandomizedSearchCV(cv=10, error_score='raise-deprecating',\n",
       "          estimator=DecisionTreeClassifier(class_weight=None, criterion='gini', max_depth=None,\n",
       "            max_features=None, max_leaf_nodes=None,\n",
       "            min_impurity_decrease=0.0, min_impurity_split=None,\n",
       "            min_samples_leaf=1, min_samples_split=2,\n",
       "            min_weight_fraction_leaf=0.0, presort=False, random_state=None,\n",
       "            splitter='best'),\n",
       "          fit_params=None, iid='warn', n_iter=20, n_jobs=-1,\n",
       "          param_distributions={'class_weight': [None, 'balanced'], 'criterion': ['entropy', 'gini'], 'max_depth': [None, 5, 6, 8, 9, 10, 11, 12], 'min_samples_leaf': [1, 2, 3, 4, 5, 10], 'min_samples_split': [2, 3, 4, 5, 10]},\n",
       "          pre_dispatch='2*n_jobs', random_state=None, refit=True,\n",
       "          return_train_score='warn', scoring='roc_auc', verbose=0)"
      ]
     },
     "execution_count": 50,
     "metadata": {},
     "output_type": "execute_result"
    }
   ],
   "source": [
    "random_search.fit(x,y)"
   ]
  },
  {
   "cell_type": "code",
   "execution_count": 51,
   "metadata": {},
   "outputs": [
    {
     "data": {
      "text/plain": [
       "DecisionTreeClassifier(class_weight='balanced', criterion='gini',\n",
       "            max_depth=10, max_features=None, max_leaf_nodes=None,\n",
       "            min_impurity_decrease=0.0, min_impurity_split=None,\n",
       "            min_samples_leaf=2, min_samples_split=2,\n",
       "            min_weight_fraction_leaf=0.0, presort=False, random_state=None,\n",
       "            splitter='best')"
      ]
     },
     "execution_count": 51,
     "metadata": {},
     "output_type": "execute_result"
    }
   ],
   "source": [
    "random_search.best_estimator_"
   ]
  },
  {
   "cell_type": "code",
   "execution_count": 41,
   "metadata": {},
   "outputs": [],
   "source": [
    "def report(results, n_top=3):\n",
    "    for i in range(1, n_top + 1):\n",
    "        candidates = np.flatnonzero(results['rank_test_score'] == i)\n",
    "        for candidate in candidates:\n",
    "            print(\"Model with rank: {0}\".format(i))\n",
    "            print(\"Mean validation score: {0:.3f} (std: {1:.5f})\".format(\n",
    "                  results['mean_test_score'][candidate],\n",
    "                  results['std_test_score'][candidate]))\n",
    "            print(\"Parameters: {0}\".format(results['params'][candidate]))\n",
    "            print(\"\")"
   ]
  },
  {
   "cell_type": "code",
   "execution_count": 52,
   "metadata": {},
   "outputs": [
    {
     "data": {
      "text/plain": [
       "{'mean_fit_time': array([ 6.45611281,  8.08912652,  9.3216866 , 10.18409176,  8.70240417,\n",
       "         6.11667733,  6.71775045,  8.9419338 , 11.32723546,  7.53325195,\n",
       "         7.62016573,  8.96623478, 10.12508271,  8.24124551,  9.10915856,\n",
       "         8.78291237, 15.10071111,  6.04376752, 15.00390422, 10.05577197]),\n",
       " 'std_fit_time': array([0.2783972 , 0.34325301, 0.77291931, 0.48300101, 0.5372116 ,\n",
       "        0.22796197, 0.45738994, 0.65342417, 0.35703536, 0.50735658,\n",
       "        0.37742598, 0.71691312, 0.64794889, 0.26406363, 0.53007858,\n",
       "        0.26895423, 0.60509924, 0.1994526 , 0.60805466, 0.30228619]),\n",
       " 'mean_score_time': array([0.14342184, 0.16652384, 0.1499193 , 0.17872217, 0.16552067,\n",
       "        0.14751983, 0.16242068, 0.15752175, 0.1632211 , 0.16862364,\n",
       "        0.15082042, 0.19132674, 0.16081965, 0.15982089, 0.16071904,\n",
       "        0.15561917, 0.19402618, 0.1547214 , 0.19062231, 0.15531876]),\n",
       " 'std_score_time': array([0.01882773, 0.02418085, 0.01022408, 0.04416029, 0.02376643,\n",
       "        0.00691888, 0.03485642, 0.01147418, 0.01468955, 0.03397253,\n",
       "        0.00698402, 0.05521518, 0.03190789, 0.01033471, 0.01328684,\n",
       "        0.00979507, 0.01762038, 0.0125004 , 0.01561542, 0.01746995]),\n",
       " 'param_min_samples_split': masked_array(data=[5, 2, 10, 5, 3, 5, 5, 4, 5, 3, 2, 5, 2, 5, 5, 2, 3, 10,\n",
       "                    10, 10],\n",
       "              mask=[False, False, False, False, False, False, False, False,\n",
       "                    False, False, False, False, False, False, False, False,\n",
       "                    False, False, False, False],\n",
       "        fill_value='?',\n",
       "             dtype=object),\n",
       " 'param_min_samples_leaf': masked_array(data=[2, 3, 5, 2, 10, 3, 4, 4, 5, 1, 4, 10, 2, 4, 2, 3, 2,\n",
       "                    10, 5, 1],\n",
       "              mask=[False, False, False, False, False, False, False, False,\n",
       "                    False, False, False, False, False, False, False, False,\n",
       "                    False, False, False, False],\n",
       "        fill_value='?',\n",
       "             dtype=object),\n",
       " 'param_max_depth': masked_array(data=[5, 8, 10, 12, 9, 5, 6, 9, 12, 6, 6, 9, 10, 8, 8, 9,\n",
       "                    None, 5, None, 12],\n",
       "              mask=[False, False, False, False, False, False, False, False,\n",
       "                    False, False, False, False, False, False, False, False,\n",
       "                    False, False, False, False],\n",
       "        fill_value='?',\n",
       "             dtype=object),\n",
       " 'param_criterion': masked_array(data=['entropy', 'entropy', 'gini', 'gini', 'gini',\n",
       "                    'entropy', 'entropy', 'entropy', 'entropy', 'gini',\n",
       "                    'gini', 'gini', 'gini', 'entropy', 'entropy',\n",
       "                    'entropy', 'gini', 'gini', 'gini', 'gini'],\n",
       "              mask=[False, False, False, False, False, False, False, False,\n",
       "                    False, False, False, False, False, False, False, False,\n",
       "                    False, False, False, False],\n",
       "        fill_value='?',\n",
       "             dtype=object),\n",
       " 'param_class_weight': masked_array(data=[None, None, None, None, None, None, None, None,\n",
       "                    'balanced', 'balanced', 'balanced', None, 'balanced',\n",
       "                    None, 'balanced', None, 'balanced', None, 'balanced',\n",
       "                    None],\n",
       "              mask=[False, False, False, False, False, False, False, False,\n",
       "                    False, False, False, False, False, False, False, False,\n",
       "                    False, False, False, False],\n",
       "        fill_value='?',\n",
       "             dtype=object),\n",
       " 'params': [{'min_samples_split': 5,\n",
       "   'min_samples_leaf': 2,\n",
       "   'max_depth': 5,\n",
       "   'criterion': 'entropy',\n",
       "   'class_weight': None},\n",
       "  {'min_samples_split': 2,\n",
       "   'min_samples_leaf': 3,\n",
       "   'max_depth': 8,\n",
       "   'criterion': 'entropy',\n",
       "   'class_weight': None},\n",
       "  {'min_samples_split': 10,\n",
       "   'min_samples_leaf': 5,\n",
       "   'max_depth': 10,\n",
       "   'criterion': 'gini',\n",
       "   'class_weight': None},\n",
       "  {'min_samples_split': 5,\n",
       "   'min_samples_leaf': 2,\n",
       "   'max_depth': 12,\n",
       "   'criterion': 'gini',\n",
       "   'class_weight': None},\n",
       "  {'min_samples_split': 3,\n",
       "   'min_samples_leaf': 10,\n",
       "   'max_depth': 9,\n",
       "   'criterion': 'gini',\n",
       "   'class_weight': None},\n",
       "  {'min_samples_split': 5,\n",
       "   'min_samples_leaf': 3,\n",
       "   'max_depth': 5,\n",
       "   'criterion': 'entropy',\n",
       "   'class_weight': None},\n",
       "  {'min_samples_split': 5,\n",
       "   'min_samples_leaf': 4,\n",
       "   'max_depth': 6,\n",
       "   'criterion': 'entropy',\n",
       "   'class_weight': None},\n",
       "  {'min_samples_split': 4,\n",
       "   'min_samples_leaf': 4,\n",
       "   'max_depth': 9,\n",
       "   'criterion': 'entropy',\n",
       "   'class_weight': None},\n",
       "  {'min_samples_split': 5,\n",
       "   'min_samples_leaf': 5,\n",
       "   'max_depth': 12,\n",
       "   'criterion': 'entropy',\n",
       "   'class_weight': 'balanced'},\n",
       "  {'min_samples_split': 3,\n",
       "   'min_samples_leaf': 1,\n",
       "   'max_depth': 6,\n",
       "   'criterion': 'gini',\n",
       "   'class_weight': 'balanced'},\n",
       "  {'min_samples_split': 2,\n",
       "   'min_samples_leaf': 4,\n",
       "   'max_depth': 6,\n",
       "   'criterion': 'gini',\n",
       "   'class_weight': 'balanced'},\n",
       "  {'min_samples_split': 5,\n",
       "   'min_samples_leaf': 10,\n",
       "   'max_depth': 9,\n",
       "   'criterion': 'gini',\n",
       "   'class_weight': None},\n",
       "  {'min_samples_split': 2,\n",
       "   'min_samples_leaf': 2,\n",
       "   'max_depth': 10,\n",
       "   'criterion': 'gini',\n",
       "   'class_weight': 'balanced'},\n",
       "  {'min_samples_split': 5,\n",
       "   'min_samples_leaf': 4,\n",
       "   'max_depth': 8,\n",
       "   'criterion': 'entropy',\n",
       "   'class_weight': None},\n",
       "  {'min_samples_split': 5,\n",
       "   'min_samples_leaf': 2,\n",
       "   'max_depth': 8,\n",
       "   'criterion': 'entropy',\n",
       "   'class_weight': 'balanced'},\n",
       "  {'min_samples_split': 2,\n",
       "   'min_samples_leaf': 3,\n",
       "   'max_depth': 9,\n",
       "   'criterion': 'entropy',\n",
       "   'class_weight': None},\n",
       "  {'min_samples_split': 3,\n",
       "   'min_samples_leaf': 2,\n",
       "   'max_depth': None,\n",
       "   'criterion': 'gini',\n",
       "   'class_weight': 'balanced'},\n",
       "  {'min_samples_split': 10,\n",
       "   'min_samples_leaf': 10,\n",
       "   'max_depth': 5,\n",
       "   'criterion': 'gini',\n",
       "   'class_weight': None},\n",
       "  {'min_samples_split': 10,\n",
       "   'min_samples_leaf': 5,\n",
       "   'max_depth': None,\n",
       "   'criterion': 'gini',\n",
       "   'class_weight': 'balanced'},\n",
       "  {'min_samples_split': 10,\n",
       "   'min_samples_leaf': 1,\n",
       "   'max_depth': 12,\n",
       "   'criterion': 'gini',\n",
       "   'class_weight': None}],\n",
       " 'split0_test_score': array([0.60653871, 0.61332493, 0.61529843, 0.61491568, 0.61353868,\n",
       "        0.60653871, 0.61006608, 0.61487104, 0.6138734 , 0.61004686,\n",
       "        0.61004686, 0.61353962, 0.61531024, 0.61354893, 0.61291445,\n",
       "        0.61489992, 0.57297583, 0.60657449, 0.58088142, 0.61540033]),\n",
       " 'split1_test_score': array([0.60591902, 0.61360692, 0.61650555, 0.61648122, 0.61682429,\n",
       "        0.60591902, 0.60919957, 0.6163844 , 0.6158145 , 0.60943581,\n",
       "        0.60943577, 0.61682429, 0.61766147, 0.61365376, 0.61318371,\n",
       "        0.61632924, 0.5779546 , 0.60600504, 0.58486723, 0.61694183]),\n",
       " 'split2_test_score': array([0.60528612, 0.60982414, 0.61276102, 0.61312777, 0.61267986,\n",
       "        0.60528612, 0.60686189, 0.61258013, 0.61247531, 0.60710029,\n",
       "        0.60712665, 0.61274266, 0.61311695, 0.60964362, 0.61023313,\n",
       "        0.61270484, 0.57539654, 0.60586581, 0.58295826, 0.61336704]),\n",
       " 'split3_test_score': array([0.60636607, 0.60945752, 0.61280812, 0.61393271, 0.61159334,\n",
       "        0.60636607, 0.60670733, 0.61145277, 0.61428345, 0.60670719,\n",
       "        0.60670719, 0.61159334, 0.61258918, 0.60944375, 0.60975257,\n",
       "        0.61158879, 0.57927073, 0.60650079, 0.58680431, 0.61384394]),\n",
       " 'split4_test_score': array([0.60304314, 0.60984151, 0.61002718, 0.60905632, 0.61090058,\n",
       "        0.60304314, 0.60532308, 0.60993158, 0.61010403, 0.60519268,\n",
       "        0.60519199, 0.61090058, 0.60982557, 0.60983755, 0.60952952,\n",
       "        0.61015851, 0.5776916 , 0.60297538, 0.58235968, 0.60854723]),\n",
       " 'split5_test_score': array([0.60634742, 0.61314526, 0.61217482, 0.61134905, 0.6151164 ,\n",
       "        0.60634742, 0.60835064, 0.61452183, 0.61122899, 0.60855215,\n",
       "        0.60854763, 0.61512485, 0.61225739, 0.61318067, 0.61335048,\n",
       "        0.61466294, 0.57394366, 0.60744364, 0.58406293, 0.61140322]),\n",
       " 'split6_test_score': array([0.61150162, 0.61647647, 0.61935976, 0.61723426, 0.61855354,\n",
       "        0.61150162, 0.61297264, 0.61865547, 0.61670845, 0.61289842,\n",
       "        0.61289843, 0.61855354, 0.61991091, 0.61628751, 0.61642295,\n",
       "        0.61854567, 0.57549809, 0.6120028 , 0.58528164, 0.61702112]),\n",
       " 'split7_test_score': array([0.60156831, 0.60855505, 0.61031596, 0.61186698, 0.61079833,\n",
       "        0.60156831, 0.60372074, 0.60985888, 0.61123619, 0.60418603,\n",
       "        0.60420759, 0.61081044, 0.61232646, 0.60850692, 0.60847435,\n",
       "        0.60984021, 0.57218179, 0.60192991, 0.57629046, 0.6117141 ]),\n",
       " 'split8_test_score': array([0.60755663, 0.61792049, 0.61918409, 0.62072616, 0.61979542,\n",
       "        0.60755663, 0.61134748, 0.61970218, 0.62095127, 0.61133165,\n",
       "        0.61133187, 0.61979542, 0.61975967, 0.61783004, 0.61749897,\n",
       "        0.6199752 , 0.58570425, 0.60757104, 0.59101292, 0.62070769]),\n",
       " 'split9_test_score': array([0.60802091, 0.6166921 , 0.61850466, 0.61589331, 0.61804517,\n",
       "        0.60802091, 0.61117396, 0.61853102, 0.61652502, 0.61158383,\n",
       "        0.61158397, 0.61800656, 0.61902806, 0.61668444, 0.61665055,\n",
       "        0.61856156, 0.57939095, 0.60847104, 0.58611177, 0.61622803]),\n",
       " 'mean_test_score': array([0.6062148 , 0.61288444, 0.61469396, 0.61445835, 0.61478456,\n",
       "        0.6062148 , 0.60857235, 0.61464893, 0.61432006, 0.6087035 ,\n",
       "        0.6087078 , 0.61478913, 0.61517859, 0.61286172, 0.61280107,\n",
       "        0.61472669, 0.5770008 , 0.60653399, 0.58406306, 0.61451746]),\n",
       " 'std_test_score': array([0.00256432, 0.00320404, 0.0033865 , 0.00317747, 0.00318366,\n",
       "        0.00256432, 0.00277499, 0.00345585, 0.00311795, 0.00272862,\n",
       "        0.00272366, 0.00317416, 0.00347361, 0.00319974, 0.00309482,\n",
       "        0.00343686, 0.00376302, 0.00264864, 0.00369868, 0.00330376]),\n",
       " 'rank_test_score': array([17, 10,  5,  8,  3, 17, 15,  6,  9, 14, 13,  2,  1, 11, 12,  4, 20,\n",
       "        16, 19,  7]),\n",
       " 'split0_train_score': array([0.6068944 , 0.61728088, 0.6268712 , 0.63810789, 0.62226749,\n",
       "        0.6068944 , 0.61039768, 0.6217748 , 0.63532496, 0.61048116,\n",
       "        0.61047232, 0.62227239, 0.62703705, 0.61723839, 0.61749821,\n",
       "        0.62183561, 0.76150466, 0.60689897, 0.72072108, 0.63726364]),\n",
       " 'split1_train_score': array([0.60696046, 0.61804738, 0.62645607, 0.63730192, 0.6222598 ,\n",
       "        0.60696046, 0.61049867, 0.62205028, 0.63459961, 0.61052607,\n",
       "        0.61051727, 0.6222598 , 0.62677646, 0.61803521, 0.61812069,\n",
       "        0.62211517, 0.76132487, 0.60698809, 0.72038889, 0.63670956]),\n",
       " 'split2_train_score': array([0.60698458, 0.61762999, 0.62638762, 0.63634327, 0.62225839,\n",
       "        0.60698458, 0.61045769, 0.62224635, 0.6344663 , 0.61049219,\n",
       "        0.61048242, 0.62225839, 0.62686706, 0.61761038, 0.61765359,\n",
       "        0.6222533 , 0.76148683, 0.60709471, 0.72091692, 0.63564539]),\n",
       " 'split3_train_score': array([0.60703957, 0.61802448, 0.62688805, 0.63808167, 0.62251587,\n",
       "        0.60703957, 0.61080324, 0.62242124, 0.63566651, 0.61084454,\n",
       "        0.6108357 , 0.62251587, 0.62750642, 0.61800148, 0.61795872,\n",
       "        0.62246454, 0.76083905, 0.60697113, 0.72001397, 0.63729668]),\n",
       " 'split4_train_score': array([0.60730371, 0.61826353, 0.62754461, 0.63871292, 0.62278386,\n",
       "        0.60730371, 0.61083431, 0.62254429, 0.63625448, 0.61086844,\n",
       "        0.61084893, 0.62278386, 0.62782259, 0.61824486, 0.61829047,\n",
       "        0.62255513, 0.76135238, 0.60731594, 0.72092691, 0.63792512]),\n",
       " 'split5_train_score': array([0.60706882, 0.61824674, 0.62688729, 0.63739403, 0.62250349,\n",
       "        0.60706882, 0.61059995, 0.62233173, 0.63453218, 0.61062576,\n",
       "        0.6106005 , 0.62250293, 0.6268895 , 0.61821341, 0.61803878,\n",
       "        0.62237567, 0.76124154, 0.60679222, 0.72000728, 0.63679358]),\n",
       " 'split6_train_score': array([0.60619145, 0.61744145, 0.626677  , 0.63821445, 0.62172642,\n",
       "        0.60619145, 0.60989899, 0.62178564, 0.63527575, 0.60984595,\n",
       "        0.60982707, 0.62172642, 0.62667107, 0.61741006, 0.6174432 ,\n",
       "        0.62182969, 0.76137732, 0.60624267, 0.72075693, 0.63743757]),\n",
       " 'split7_train_score': array([0.60739056, 0.61803714, 0.62752439, 0.63880116, 0.62307039,\n",
       "        0.60739056, 0.61065173, 0.6223204 , 0.635463  , 0.61086317,\n",
       "        0.61085614, 0.62307578, 0.62727384, 0.61803675, 0.61797583,\n",
       "        0.62230867, 0.76219324, 0.60747152, 0.72129093, 0.6378897 ]),\n",
       " 'split8_train_score': array([0.60691154, 0.61755059, 0.62631334, 0.63756268, 0.62198727,\n",
       "        0.60691154, 0.61028617, 0.62176718, 0.63412213, 0.61029522,\n",
       "        0.61028107, 0.62198727, 0.62612536, 0.61752356, 0.61745394,\n",
       "        0.62186252, 0.76066828, 0.60687246, 0.7203445 , 0.63651657]),\n",
       " 'split9_train_score': array([0.60699259, 0.61775216, 0.62588071, 0.63665778, 0.62146496,\n",
       "        0.60699259, 0.61032048, 0.62161375, 0.63463932, 0.61049455,\n",
       "        0.61047479, 0.62146496, 0.62649445, 0.61771965, 0.61751753,\n",
       "        0.62165137, 0.76079383, 0.60672836, 0.72012377, 0.63600427]),\n",
       " 'mean_train_score': array([0.60697377, 0.61782744, 0.62674303, 0.63771778, 0.62228379,\n",
       "        0.60697377, 0.61047489, 0.62208557, 0.63503442, 0.6105337 ,\n",
       "        0.61051962, 0.62228477, 0.62694638, 0.61780337, 0.6177951 ,\n",
       "        0.62212517, 0.7612782 , 0.60693761, 0.72054912, 0.63694821]),\n",
       " 'std_train_score': array([0.00030312, 0.00032652, 0.00049524, 0.00077524, 0.00045183,\n",
       "        0.00030312, 0.00026112, 0.00031248, 0.00062983, 0.00029354,\n",
       "        0.00029501, 0.00045273, 0.00046791, 0.00033271, 0.00029928,\n",
       "        0.00029624, 0.00041838, 0.00031783, 0.00041587, 0.0007181 ])}"
      ]
     },
     "execution_count": 52,
     "metadata": {},
     "output_type": "execute_result"
    }
   ],
   "source": [
    "random_search.cv_results_"
   ]
  },
  {
   "cell_type": "code",
   "execution_count": 53,
   "metadata": {},
   "outputs": [
    {
     "name": "stdout",
     "output_type": "stream",
     "text": [
      "Model with rank: 1\n",
      "Mean validation score: 0.615 (std: 0.00347)\n",
      "Parameters: {'min_samples_split': 2, 'min_samples_leaf': 2, 'max_depth': 10, 'criterion': 'gini', 'class_weight': 'balanced'}\n",
      "\n",
      "Model with rank: 2\n",
      "Mean validation score: 0.615 (std: 0.00317)\n",
      "Parameters: {'min_samples_split': 5, 'min_samples_leaf': 10, 'max_depth': 9, 'criterion': 'gini', 'class_weight': None}\n",
      "\n",
      "Model with rank: 3\n",
      "Mean validation score: 0.615 (std: 0.00318)\n",
      "Parameters: {'min_samples_split': 3, 'min_samples_leaf': 10, 'max_depth': 9, 'criterion': 'gini', 'class_weight': None}\n",
      "\n"
     ]
    }
   ],
   "source": [
    "report(random_search.cv_results_,3)"
   ]
  },
  {
   "cell_type": "code",
   "execution_count": 54,
   "metadata": {},
   "outputs": [],
   "source": [
    "dtree=random_search.best_estimator_"
   ]
  },
  {
   "cell_type": "code",
   "execution_count": 55,
   "metadata": {},
   "outputs": [
    {
     "data": {
      "text/plain": [
       "DecisionTreeClassifier(class_weight='balanced', criterion='gini',\n",
       "            max_depth=10, max_features=None, max_leaf_nodes=None,\n",
       "            min_impurity_decrease=0.0, min_impurity_split=None,\n",
       "            min_samples_leaf=2, min_samples_split=2,\n",
       "            min_weight_fraction_leaf=0.0, presort=False, random_state=None,\n",
       "            splitter='best')"
      ]
     },
     "execution_count": 55,
     "metadata": {},
     "output_type": "execute_result"
    }
   ],
   "source": [
    "dtree.fit(x,y)"
   ]
  },
  {
   "cell_type": "code",
   "execution_count": 56,
   "metadata": {},
   "outputs": [],
   "source": [
    "prediction = np.where(dtree.predict(cd_test.drop(['Complaint ID'],1))==1,\"Yes\",\"No\")"
   ]
  },
  {
   "cell_type": "code",
   "execution_count": null,
   "metadata": {},
   "outputs": [],
   "source": [
    "prediction"
   ]
  },
  {
   "cell_type": "code",
   "execution_count": 53,
   "metadata": {},
   "outputs": [],
   "source": [
    "pd.DataFrame(prediction).to_csv(r'F:\\Python(ML)\\Project 2\\pred1.csv')"
   ]
  },
  {
   "cell_type": "code",
   "execution_count": 57,
   "metadata": {},
   "outputs": [],
   "source": [
    "from sklearn.metrics import fbeta_score"
   ]
  },
  {
   "cell_type": "code",
   "execution_count": 58,
   "metadata": {},
   "outputs": [],
   "source": [
    "submission=pd.DataFrame(list(zip(cd_test['Complaint ID'],list(prediction))),\n",
    "                       columns=['Complaint ID','Consumer disputed?'])"
   ]
  },
  {
   "cell_type": "code",
   "execution_count": 55,
   "metadata": {},
   "outputs": [
    {
     "data": {
      "text/html": [
       "<div>\n",
       "<style scoped>\n",
       "    .dataframe tbody tr th:only-of-type {\n",
       "        vertical-align: middle;\n",
       "    }\n",
       "\n",
       "    .dataframe tbody tr th {\n",
       "        vertical-align: top;\n",
       "    }\n",
       "\n",
       "    .dataframe thead th {\n",
       "        text-align: right;\n",
       "    }\n",
       "</style>\n",
       "<table border=\"1\" class=\"dataframe\">\n",
       "  <thead>\n",
       "    <tr style=\"text-align: right;\">\n",
       "      <th></th>\n",
       "      <th>Complaint ID</th>\n",
       "      <th>Consumer disputed?</th>\n",
       "    </tr>\n",
       "  </thead>\n",
       "  <tbody>\n",
       "    <tr>\n",
       "      <th>0</th>\n",
       "      <td>675956</td>\n",
       "      <td>No</td>\n",
       "    </tr>\n",
       "    <tr>\n",
       "      <th>1</th>\n",
       "      <td>1858795</td>\n",
       "      <td>No</td>\n",
       "    </tr>\n",
       "    <tr>\n",
       "      <th>2</th>\n",
       "      <td>32637</td>\n",
       "      <td>No</td>\n",
       "    </tr>\n",
       "    <tr>\n",
       "      <th>3</th>\n",
       "      <td>1731374</td>\n",
       "      <td>No</td>\n",
       "    </tr>\n",
       "  </tbody>\n",
       "</table>\n",
       "</div>"
      ],
      "text/plain": [
       "   Complaint ID Consumer disputed?\n",
       "0        675956                 No\n",
       "1       1858795                 No\n",
       "2         32637                 No\n",
       "3       1731374                 No"
      ]
     },
     "execution_count": 55,
     "metadata": {},
     "output_type": "execute_result"
    }
   ],
   "source": [
    "submission.head(4)"
   ]
  },
  {
   "cell_type": "code",
   "execution_count": 59,
   "metadata": {},
   "outputs": [],
   "source": [
    "submission.to_csv(r'F:\\Python(ML)\\Project 1\\submission2.csv',index=False)"
   ]
  },
  {
   "cell_type": "markdown",
   "metadata": {},
   "source": [
    "# Random forest"
   ]
  },
  {
   "cell_type": "code",
   "execution_count": 1,
   "metadata": {},
   "outputs": [],
   "source": [
    "import warnings\n",
    "warnings.filterwarnings('ignore')\n",
    "import pandas as pd\n",
    "import math\n",
    "from sklearn.model_selection import train_test_split,KFold\n",
    "import numpy as np\n"
   ]
  },
  {
   "cell_type": "code",
   "execution_count": 2,
   "metadata": {},
   "outputs": [],
   "source": [
    "datafile_train=r'F:\\Python(ML)\\Project 1\\Consumer_Complaints_train.csv'\n",
    "datafile_test=r'F:\\Python(ML)\\Project 1\\Consumer_Complaints_test_share.csv'\n",
    "cd_train=pd.read_csv(datafile_train)\n",
    "cd_test=pd.read_csv(datafile_test)"
   ]
  },
  {
   "cell_type": "code",
   "execution_count": 3,
   "metadata": {},
   "outputs": [
    {
     "data": {
      "text/plain": [
       "Date received                   object\n",
       "Product                         object\n",
       "Sub-product                     object\n",
       "Issue                           object\n",
       "Sub-issue                       object\n",
       "Consumer complaint narrative    object\n",
       "Company public response         object\n",
       "Company                         object\n",
       "State                           object\n",
       "ZIP code                        object\n",
       "Tags                            object\n",
       "Consumer consent provided?      object\n",
       "Submitted via                   object\n",
       "Date sent to company            object\n",
       "Company response to consumer    object\n",
       "Timely response?                object\n",
       "Consumer disputed?              object\n",
       "Complaint ID                     int64\n",
       "dtype: object"
      ]
     },
     "execution_count": 3,
     "metadata": {},
     "output_type": "execute_result"
    }
   ],
   "source": [
    "cd_train.dtypes"
   ]
  },
  {
   "cell_type": "code",
   "execution_count": 4,
   "metadata": {},
   "outputs": [],
   "source": [
    "for col in ['Date received','Date sent to company']:\n",
    "    cd_train[col]=pd.to_datetime(cd_train[col],infer_datetime_format=True)\n",
    "    cd_test[col]=pd.to_datetime(cd_test[col],infer_datetime_format=True)"
   ]
  },
  {
   "cell_type": "code",
   "execution_count": 5,
   "metadata": {
    "scrolled": true
   },
   "outputs": [
    {
     "data": {
      "text/plain": [
       "0        2014-05-15\n",
       "1        2014-09-18\n",
       "2        2014-03-13\n",
       "3        2015-07-17\n",
       "4        2014-11-20\n",
       "5        2014-06-26\n",
       "6        2012-09-28\n",
       "7        2015-05-06\n",
       "8        2013-02-25\n",
       "9        2016-03-30\n",
       "10       2014-03-21\n",
       "11       2015-11-27\n",
       "12       2012-04-13\n",
       "13       2014-03-18\n",
       "14       2016-04-30\n",
       "15       2015-09-22\n",
       "16       2013-12-13\n",
       "17       2015-11-25\n",
       "18       2014-06-17\n",
       "19       2014-03-11\n",
       "20       2014-04-28\n",
       "21       2013-06-27\n",
       "22       2012-11-17\n",
       "23       2015-05-02\n",
       "24       2015-09-23\n",
       "25       2015-04-07\n",
       "26       2013-08-15\n",
       "27       2015-02-05\n",
       "28       2013-05-29\n",
       "29       2016-06-22\n",
       "            ...    \n",
       "478391   2013-04-16\n",
       "478392   2014-01-30\n",
       "478393   2015-02-02\n",
       "478394   2015-02-21\n",
       "478395   2014-03-03\n",
       "478396   2013-08-16\n",
       "478397   2014-04-18\n",
       "478398   2014-07-16\n",
       "478399   2015-03-17\n",
       "478400   2015-09-22\n",
       "478401   2016-05-19\n",
       "478402   2014-10-14\n",
       "478403   2012-05-30\n",
       "478404   2014-08-21\n",
       "478405   2014-04-16\n",
       "478406   2016-05-10\n",
       "478407   2013-03-19\n",
       "478408   2014-02-26\n",
       "478409   2016-06-03\n",
       "478410   2016-03-25\n",
       "478411   2013-04-05\n",
       "478412   2016-07-11\n",
       "478413   2014-11-21\n",
       "478414   2014-12-31\n",
       "478415   2016-06-15\n",
       "478416   2015-06-30\n",
       "478417   2013-06-20\n",
       "478418   2014-09-09\n",
       "478419   2012-09-21\n",
       "478420   2014-10-30\n",
       "Name: Date received, Length: 478421, dtype: datetime64[ns]"
      ]
     },
     "execution_count": 5,
     "metadata": {},
     "output_type": "execute_result"
    }
   ],
   "source": [
    "cd_train['Date received']"
   ]
  },
  {
   "cell_type": "code",
   "execution_count": 6,
   "metadata": {},
   "outputs": [],
   "source": [
    "cd_train['day_diff']=pd.to_numeric(cd_train['Date sent to company']-cd_train['Date received'])\n",
    "cd_test['day_diff']=pd.to_numeric(cd_test['Date sent to company']-cd_test['Date received'])"
   ]
  },
  {
   "cell_type": "code",
   "execution_count": 7,
   "metadata": {
    "scrolled": true
   },
   "outputs": [
    {
     "data": {
      "text/plain": [
       "0           86400000000000\n",
       "1          518400000000000\n",
       "2         1814400000000000\n",
       "3                        0\n",
       "4          691200000000000\n",
       "5          432000000000000\n",
       "6          259200000000000\n",
       "7                        0\n",
       "8           86400000000000\n",
       "9          172800000000000\n",
       "10         604800000000000\n",
       "11                       0\n",
       "12                       0\n",
       "13         259200000000000\n",
       "14         259200000000000\n",
       "15         259200000000000\n",
       "16                       0\n",
       "17         604800000000000\n",
       "18        1728000000000000\n",
       "19         172800000000000\n",
       "20                       0\n",
       "21          86400000000000\n",
       "22         172800000000000\n",
       "23         172800000000000\n",
       "24                       0\n",
       "25         518400000000000\n",
       "26         345600000000000\n",
       "27        1209600000000000\n",
       "28          86400000000000\n",
       "29                       0\n",
       "                ...       \n",
       "478391     604800000000000\n",
       "478392     518400000000000\n",
       "478393                   0\n",
       "478394                   0\n",
       "478395     259200000000000\n",
       "478396     345600000000000\n",
       "478397                   0\n",
       "478398     518400000000000\n",
       "478399     604800000000000\n",
       "478400                   0\n",
       "478401    4060800000000000\n",
       "478402     604800000000000\n",
       "478403     172800000000000\n",
       "478404     432000000000000\n",
       "478405     -86400000000000\n",
       "478406                   0\n",
       "478407      86400000000000\n",
       "478408      86400000000000\n",
       "478409                   0\n",
       "478410     518400000000000\n",
       "478411                   0\n",
       "478412                   0\n",
       "478413                   0\n",
       "478414                   0\n",
       "478415                   0\n",
       "478416      86400000000000\n",
       "478417      86400000000000\n",
       "478418                   0\n",
       "478419     259200000000000\n",
       "478420                   0\n",
       "Name: day_diff, Length: 478421, dtype: int64"
      ]
     },
     "execution_count": 7,
     "metadata": {},
     "output_type": "execute_result"
    }
   ],
   "source": [
    "cd_train['day_diff']"
   ]
  },
  {
   "cell_type": "code",
   "execution_count": 8,
   "metadata": {},
   "outputs": [],
   "source": [
    "for col in ['Date received','Date sent to company']:\n",
    "    cd_train.drop([col],1,inplace=True)\n",
    "    cd_test.drop([col],1,inplace=True)"
   ]
  },
  {
   "cell_type": "code",
   "execution_count": 9,
   "metadata": {},
   "outputs": [
    {
     "name": "stdout",
     "output_type": "stream",
     "text": [
      "Product : 12\n",
      "Sub-product : 47\n",
      "Issue : 95\n",
      "Sub-issue : 68\n",
      "Consumer complaint narrative : 74019\n",
      "Company public response : 10\n",
      "Company : 3276\n",
      "State : 62\n",
      "ZIP code : 25962\n",
      "Tags : 3\n",
      "Consumer consent provided? : 4\n",
      "Submitted via : 6\n",
      "Company response to consumer : 7\n",
      "Timely response? : 2\n",
      "Consumer disputed? : 2\n"
     ]
    }
   ],
   "source": [
    "for col in cd_train.select_dtypes(['object']).columns:\n",
    "    print(col,':',cd_train[col].nunique())"
   ]
  },
  {
   "cell_type": "code",
   "execution_count": 10,
   "metadata": {},
   "outputs": [
    {
     "data": {
      "text/plain": [
       "Product                              0\n",
       "Sub-product                     138473\n",
       "Issue                                0\n",
       "Sub-issue                       292625\n",
       "Consumer complaint narrative    403327\n",
       "Company public response         388029\n",
       "Company                              0\n",
       "State                             3839\n",
       "ZIP code                          3848\n",
       "Tags                            411215\n",
       "Consumer consent provided?      342934\n",
       "Submitted via                        0\n",
       "Company response to consumer         0\n",
       "Timely response?                     0\n",
       "Consumer disputed?                   0\n",
       "Complaint ID                         0\n",
       "day_diff                             0\n",
       "dtype: int64"
      ]
     },
     "execution_count": 10,
     "metadata": {},
     "output_type": "execute_result"
    }
   ],
   "source": [
    "cd_train.isnull().sum()"
   ]
  },
  {
   "cell_type": "code",
   "execution_count": 11,
   "metadata": {},
   "outputs": [
    {
     "data": {
      "text/plain": [
       "478421"
      ]
     },
     "execution_count": 11,
     "metadata": {},
     "output_type": "execute_result"
    }
   ],
   "source": [
    "len(pd.isnull(cd_train['Tags']))\n",
    "len(cd_train)"
   ]
  },
  {
   "cell_type": "code",
   "execution_count": 12,
   "metadata": {},
   "outputs": [],
   "source": [
    "for col in ['Sub-product','Sub-issue','Consumer complaint narrative',\n",
    "            'Company public response','Tags','Consumer consent provided?']:\n",
    "    varname=col.replace('-','_').replace('?','').replace(\" \",'_')+'_isNan'\n",
    "    cd_train[varname]=np.where(pd.isnull(cd_train[col]),1,0)\n",
    "    cd_train.drop([col],1,inplace=True)\n",
    "    cd_test[varname]=np.where(pd.isnull(cd_test[col]),1,0)\n",
    "    cd_test.drop([col],1,inplace=True)\n",
    "    "
   ]
  },
  {
   "cell_type": "code",
   "execution_count": 13,
   "metadata": {},
   "outputs": [
    {
     "data": {
      "text/html": [
       "<div>\n",
       "<style scoped>\n",
       "    .dataframe tbody tr th:only-of-type {\n",
       "        vertical-align: middle;\n",
       "    }\n",
       "\n",
       "    .dataframe tbody tr th {\n",
       "        vertical-align: top;\n",
       "    }\n",
       "\n",
       "    .dataframe thead th {\n",
       "        text-align: right;\n",
       "    }\n",
       "</style>\n",
       "<table border=\"1\" class=\"dataframe\">\n",
       "  <thead>\n",
       "    <tr style=\"text-align: right;\">\n",
       "      <th></th>\n",
       "      <th>Product</th>\n",
       "      <th>Issue</th>\n",
       "      <th>Company</th>\n",
       "      <th>State</th>\n",
       "      <th>ZIP code</th>\n",
       "      <th>Submitted via</th>\n",
       "      <th>Company response to consumer</th>\n",
       "      <th>Timely response?</th>\n",
       "      <th>Consumer disputed?</th>\n",
       "      <th>Complaint ID</th>\n",
       "      <th>day_diff</th>\n",
       "      <th>Sub_product_isNan</th>\n",
       "      <th>Sub_issue_isNan</th>\n",
       "      <th>Consumer_complaint_narrative_isNan</th>\n",
       "      <th>Company_public_response_isNan</th>\n",
       "      <th>Tags_isNan</th>\n",
       "      <th>Consumer_consent_provided_isNan</th>\n",
       "    </tr>\n",
       "  </thead>\n",
       "  <tbody>\n",
       "    <tr>\n",
       "      <th>0</th>\n",
       "      <td>Credit card</td>\n",
       "      <td>Billing statement</td>\n",
       "      <td>Wells Fargo &amp; Company</td>\n",
       "      <td>MI</td>\n",
       "      <td>48342</td>\n",
       "      <td>Web</td>\n",
       "      <td>Closed with explanation</td>\n",
       "      <td>Yes</td>\n",
       "      <td>No</td>\n",
       "      <td>856103</td>\n",
       "      <td>86400000000000</td>\n",
       "      <td>1</td>\n",
       "      <td>1</td>\n",
       "      <td>1</td>\n",
       "      <td>1</td>\n",
       "      <td>0</td>\n",
       "      <td>1</td>\n",
       "    </tr>\n",
       "    <tr>\n",
       "      <th>1</th>\n",
       "      <td>Bank account or service</td>\n",
       "      <td>Making/receiving payments, sending money</td>\n",
       "      <td>Santander Bank US</td>\n",
       "      <td>PA</td>\n",
       "      <td>18042</td>\n",
       "      <td>Referral</td>\n",
       "      <td>Closed</td>\n",
       "      <td>Yes</td>\n",
       "      <td>No</td>\n",
       "      <td>1034666</td>\n",
       "      <td>518400000000000</td>\n",
       "      <td>0</td>\n",
       "      <td>1</td>\n",
       "      <td>1</td>\n",
       "      <td>1</td>\n",
       "      <td>1</td>\n",
       "      <td>1</td>\n",
       "    </tr>\n",
       "    <tr>\n",
       "      <th>2</th>\n",
       "      <td>Credit reporting</td>\n",
       "      <td>Incorrect information on credit report</td>\n",
       "      <td>Equifax</td>\n",
       "      <td>CA</td>\n",
       "      <td>92427</td>\n",
       "      <td>Referral</td>\n",
       "      <td>Closed with non-monetary relief</td>\n",
       "      <td>Yes</td>\n",
       "      <td>No</td>\n",
       "      <td>756363</td>\n",
       "      <td>1814400000000000</td>\n",
       "      <td>1</td>\n",
       "      <td>0</td>\n",
       "      <td>1</td>\n",
       "      <td>1</td>\n",
       "      <td>1</td>\n",
       "      <td>1</td>\n",
       "    </tr>\n",
       "    <tr>\n",
       "      <th>3</th>\n",
       "      <td>Credit card</td>\n",
       "      <td>Billing statement</td>\n",
       "      <td>U.S. Bancorp</td>\n",
       "      <td>GA</td>\n",
       "      <td>305XX</td>\n",
       "      <td>Web</td>\n",
       "      <td>Closed with monetary relief</td>\n",
       "      <td>Yes</td>\n",
       "      <td>No</td>\n",
       "      <td>1474177</td>\n",
       "      <td>0</td>\n",
       "      <td>1</td>\n",
       "      <td>1</td>\n",
       "      <td>0</td>\n",
       "      <td>0</td>\n",
       "      <td>0</td>\n",
       "      <td>0</td>\n",
       "    </tr>\n",
       "  </tbody>\n",
       "</table>\n",
       "</div>"
      ],
      "text/plain": [
       "                   Product                                     Issue  \\\n",
       "0              Credit card                         Billing statement   \n",
       "1  Bank account or service  Making/receiving payments, sending money   \n",
       "2         Credit reporting    Incorrect information on credit report   \n",
       "3              Credit card                         Billing statement   \n",
       "\n",
       "                 Company State ZIP code Submitted via  \\\n",
       "0  Wells Fargo & Company    MI    48342           Web   \n",
       "1      Santander Bank US    PA    18042      Referral   \n",
       "2                Equifax    CA    92427      Referral   \n",
       "3           U.S. Bancorp    GA    305XX           Web   \n",
       "\n",
       "      Company response to consumer Timely response? Consumer disputed?  \\\n",
       "0          Closed with explanation              Yes                 No   \n",
       "1                           Closed              Yes                 No   \n",
       "2  Closed with non-monetary relief              Yes                 No   \n",
       "3      Closed with monetary relief              Yes                 No   \n",
       "\n",
       "   Complaint ID          day_diff  Sub_product_isNan  Sub_issue_isNan  \\\n",
       "0        856103    86400000000000                  1                1   \n",
       "1       1034666   518400000000000                  0                1   \n",
       "2        756363  1814400000000000                  1                0   \n",
       "3       1474177                 0                  1                1   \n",
       "\n",
       "   Consumer_complaint_narrative_isNan  Company_public_response_isNan  \\\n",
       "0                                   1                              1   \n",
       "1                                   1                              1   \n",
       "2                                   1                              1   \n",
       "3                                   0                              0   \n",
       "\n",
       "   Tags_isNan  Consumer_consent_provided_isNan  \n",
       "0           0                                1  \n",
       "1           1                                1  \n",
       "2           1                                1  \n",
       "3           0                                0  "
      ]
     },
     "execution_count": 13,
     "metadata": {},
     "output_type": "execute_result"
    }
   ],
   "source": [
    "cd_train.head(4)"
   ]
  },
  {
   "cell_type": "code",
   "execution_count": 14,
   "metadata": {},
   "outputs": [
    {
     "name": "stdout",
     "output_type": "stream",
     "text": [
      "Product : 12\n",
      "Issue : 95\n",
      "Company : 3276\n",
      "State : 62\n",
      "ZIP code : 25962\n",
      "Submitted via : 6\n",
      "Company response to consumer : 7\n",
      "Timely response? : 2\n",
      "Consumer disputed? : 2\n"
     ]
    }
   ],
   "source": [
    "for col in cd_train.select_dtypes(['object']).columns:\n",
    "    print(col,':',cd_train[col].nunique())"
   ]
  },
  {
   "cell_type": "code",
   "execution_count": 15,
   "metadata": {},
   "outputs": [],
   "source": [
    "for col in ['ZIP code','Company']:\n",
    "    cd_train.drop([col],1,inplace=True)\n",
    "    cd_test.drop([col],1,inplace=True)"
   ]
  },
  {
   "cell_type": "code",
   "execution_count": 16,
   "metadata": {},
   "outputs": [],
   "source": [
    "cd_train['Consumer disputed?']=np.where(cd_train['Consumer disputed?']==\"Yes\",1,0)"
   ]
  },
  {
   "cell_type": "code",
   "execution_count": 17,
   "metadata": {},
   "outputs": [
    {
     "data": {
      "text/plain": [
       "Product                               object\n",
       "Issue                                 object\n",
       "State                                 object\n",
       "Submitted via                         object\n",
       "Company response to consumer          object\n",
       "Timely response?                      object\n",
       "Consumer disputed?                     int32\n",
       "Complaint ID                           int64\n",
       "day_diff                               int64\n",
       "Sub_product_isNan                      int32\n",
       "Sub_issue_isNan                        int32\n",
       "Consumer_complaint_narrative_isNan     int32\n",
       "Company_public_response_isNan          int32\n",
       "Tags_isNan                             int32\n",
       "Consumer_consent_provided_isNan        int32\n",
       "dtype: object"
      ]
     },
     "execution_count": 17,
     "metadata": {},
     "output_type": "execute_result"
    }
   ],
   "source": [
    "cd_train.dtypes"
   ]
  },
  {
   "cell_type": "code",
   "execution_count": 18,
   "metadata": {
    "scrolled": true
   },
   "outputs": [
    {
     "data": {
      "text/plain": [
       "Loan modification,collection,foreclosure    80302\n",
       "Incorrect information on credit report      58527\n",
       "Loan servicing, payments, escrow account    51403\n",
       "Cont'd attempts collect debt not owed       36367\n",
       "Account opening, closing, or management     23568\n",
       "Disclosure verification of debt             16235\n",
       "Communication tactics                       15312\n",
       "Deposits and withdrawals                    14721\n",
       "Application, originator, mortgage broker    11201\n",
       "Billing disputes                             9600\n",
       "Credit reporting company's investigation     9492\n",
       "Other                                        9442\n",
       "Managing the loan or lease                   8905\n",
       "Problems caused by my funds being low        7758\n",
       "False statements or representation           7074\n",
       "Unable to get credit report/credit score     7060\n",
       "Dealing with my lender or servicer           6460\n",
       "Improper contact or sharing of info          6182\n",
       "Problems when you are unable to pay          5921\n",
       "Settlement process and costs                 5834\n",
       "Taking/threatening an illegal action         5374\n",
       "Identity theft / Fraud / Embezzlement        5141\n",
       "Making/receiving payments, sending money     4618\n",
       "Closing/Cancelling account                   4088\n",
       "APR or interest rate                         3870\n",
       "Credit decision / Underwriting               3755\n",
       "Using a debit or ATM card                    3738\n",
       "Can't repay my loan                          3668\n",
       "Improper use of my credit report             3283\n",
       "Repaying your loan                           2988\n",
       "                                            ...  \n",
       "Bankruptcy                                    321\n",
       "Can't stop charges to bank account            293\n",
       "Payment to acct not credited                  266\n",
       "Applied for loan/did not receive money        232\n",
       "Arbitration                                   225\n",
       "Sale of account                               223\n",
       "Shopping for a line of credit                 202\n",
       "Wrong amount charged or received              180\n",
       "Charged bank acct wrong day or amt            164\n",
       "Cash advance                                  163\n",
       "Customer service/Customer relations           151\n",
       "Overlimit fee                                 145\n",
       "Adding money                                  143\n",
       "Fees                                          142\n",
       "Balance transfer fee                          141\n",
       "Incorrect/missing disclosures or info         129\n",
       "Cash advance fee                              128\n",
       "Convenience checks                            100\n",
       "Excessive fees                                 52\n",
       "Unexpected/Other fees                          52\n",
       "Advertising, marketing or disclosures          50\n",
       "Lender repossessed or sold the vehicle         39\n",
       "Overdraft, savings or rewards features         29\n",
       "Disclosures                                    26\n",
       "Lost or stolen money order                     25\n",
       "Lost or stolen check                           20\n",
       "Incorrect exchange rate                        13\n",
       "Lender damaged or destroyed vehicle             5\n",
       "Lender sold the property                        2\n",
       "Lender damaged or destroyed property            1\n",
       "Name: Issue, Length: 95, dtype: int64"
      ]
     },
     "execution_count": 18,
     "metadata": {},
     "output_type": "execute_result"
    }
   ],
   "source": [
    "cd_train['Issue'].value_counts()"
   ]
  },
  {
   "cell_type": "code",
   "execution_count": 19,
   "metadata": {},
   "outputs": [],
   "source": [
    "k = cd_train['Issue'].value_counts()\n"
   ]
  },
  {
   "cell_type": "code",
   "execution_count": 20,
   "metadata": {},
   "outputs": [
    {
     "data": {
      "text/plain": [
       "Index(['Loan modification,collection,foreclosure',\n",
       "       'Incorrect information on credit report',\n",
       "       'Loan servicing, payments, escrow account',\n",
       "       'Cont'd attempts collect debt not owed',\n",
       "       'Account opening, closing, or management',\n",
       "       'Disclosure verification of debt', 'Communication tactics',\n",
       "       'Deposits and withdrawals', 'Application, originator, mortgage broker',\n",
       "       'Billing disputes'],\n",
       "      dtype='object')"
      ]
     },
     "execution_count": 20,
     "metadata": {},
     "output_type": "execute_result"
    }
   ],
   "source": [
    "k.axes[0][0:10]"
   ]
  },
  {
   "cell_type": "code",
   "execution_count": 21,
   "metadata": {},
   "outputs": [],
   "source": [
    "k = cd_train['Issue'].value_counts()\n",
    "for val in k.axes[0][0:10]:\n",
    "    varname='Issue_'+val.replace(',','_').replace(' ','_')\n",
    "    cd_train[varname]=np.where(cd_train['Issue']==val,1,0)\n",
    "    cd_test[varname]=np.where(cd_test['Issue']==val,1,0)\n",
    "del cd_train['Issue']\n",
    "del cd_test['Issue']"
   ]
  },
  {
   "cell_type": "code",
   "execution_count": 22,
   "metadata": {},
   "outputs": [
    {
     "data": {
      "text/plain": [
       "(478421, 24)"
      ]
     },
     "execution_count": 22,
     "metadata": {},
     "output_type": "execute_result"
    }
   ],
   "source": [
    "cd_train.head()\n",
    "cd_train.shape"
   ]
  },
  {
   "cell_type": "code",
   "execution_count": 23,
   "metadata": {},
   "outputs": [
    {
     "name": "stdout",
     "output_type": "stream",
     "text": [
      "Product : 12\n",
      "State : 62\n",
      "Submitted via : 6\n",
      "Company response to consumer : 7\n",
      "Timely response? : 2\n"
     ]
    }
   ],
   "source": [
    "for col in cd_train.select_dtypes(['object']).columns:\n",
    "    print(col,':',cd_train[col].nunique())"
   ]
  },
  {
   "cell_type": "code",
   "execution_count": 24,
   "metadata": {},
   "outputs": [],
   "source": [
    "k=cd_train['State'].value_counts()\n",
    "\n"
   ]
  },
  {
   "cell_type": "code",
   "execution_count": 25,
   "metadata": {},
   "outputs": [
    {
     "data": {
      "text/plain": [
       "Index(['CA', 'FL', 'TX', 'NY', 'GA', 'NJ', 'PA', 'IL', 'VA', 'MD', 'OH', 'NC',\n",
       "       'MI', 'AZ', 'WA'],\n",
       "      dtype='object')"
      ]
     },
     "execution_count": 25,
     "metadata": {},
     "output_type": "execute_result"
    }
   ],
   "source": [
    "k.axes[0][0:15]"
   ]
  },
  {
   "cell_type": "code",
   "execution_count": 26,
   "metadata": {},
   "outputs": [],
   "source": [
    "k=cd_train['State'].value_counts()\n",
    "for val in k.axes[0][0:15]:\n",
    "    varname='State_'+val.replace(',','_').replace(' ','_')\n",
    "    cd_train[varname]=np.where(cd_train['State']==val,1,0)\n",
    "    cd_test[varname]=np.where(cd_test['State']==val,1,0)\n",
    "del cd_train['State']\n",
    "del cd_test['State']"
   ]
  },
  {
   "cell_type": "code",
   "execution_count": 27,
   "metadata": {},
   "outputs": [
    {
     "data": {
      "text/plain": [
       "pandas.core.series.Series"
      ]
     },
     "execution_count": 27,
     "metadata": {},
     "output_type": "execute_result"
    }
   ],
   "source": [
    "type(k)"
   ]
  },
  {
   "cell_type": "code",
   "execution_count": 28,
   "metadata": {},
   "outputs": [],
   "source": [
    "for col in ['Product','Submitted via','Company response to consumer','Timely response?']:\n",
    "    \n",
    "    temp=pd.get_dummies(cd_train[col],prefix=col,drop_first=True)\n",
    "    cd_train=pd.concat([temp,cd_train],1)\n",
    "    cd_train.drop([col],1,inplace=True)\n",
    "    \n",
    "    temp=pd.get_dummies(cd_test[col],prefix=col,drop_first=True)\n",
    "    cd_test=pd.concat([temp,cd_test],1)\n",
    "    cd_test.drop([col],1,inplace=True)\n"
   ]
  },
  {
   "cell_type": "code",
   "execution_count": 29,
   "metadata": {
    "scrolled": true
   },
   "outputs": [
    {
     "data": {
      "text/plain": [
       "Timely response?_Yes                                            uint8\n",
       "Company response to consumer_Closed with explanation            uint8\n",
       "Company response to consumer_Closed with monetary relief        uint8\n",
       "Company response to consumer_Closed with non-monetary relief    uint8\n",
       "Company response to consumer_Closed with relief                 uint8\n",
       "Company response to consumer_Closed without relief              uint8\n",
       "Company response to consumer_Untimely response                  uint8\n",
       "Submitted via_Fax                                               uint8\n",
       "Submitted via_Phone                                             uint8\n",
       "Submitted via_Postal mail                                       uint8\n",
       "Submitted via_Referral                                          uint8\n",
       "Submitted via_Web                                               uint8\n",
       "Product_Consumer Loan                                           uint8\n",
       "Product_Credit card                                             uint8\n",
       "Product_Credit reporting                                        uint8\n",
       "Product_Debt collection                                         uint8\n",
       "Product_Money transfers                                         uint8\n",
       "Product_Mortgage                                                uint8\n",
       "Product_Other financial service                                 uint8\n",
       "Product_Payday loan                                             uint8\n",
       "Product_Prepaid card                                            uint8\n",
       "Product_Student loan                                            uint8\n",
       "Product_Virtual currency                                        uint8\n",
       "Consumer disputed?                                              int32\n",
       "Complaint ID                                                    int64\n",
       "day_diff                                                        int64\n",
       "Sub_product_isNan                                               int32\n",
       "Sub_issue_isNan                                                 int32\n",
       "Consumer_complaint_narrative_isNan                              int32\n",
       "Company_public_response_isNan                                   int32\n",
       "Tags_isNan                                                      int32\n",
       "Consumer_consent_provided_isNan                                 int32\n",
       "Issue_Loan_modification_collection_foreclosure                  int32\n",
       "Issue_Incorrect_information_on_credit_report                    int32\n",
       "Issue_Loan_servicing__payments__escrow_account                  int32\n",
       "Issue_Cont'd_attempts_collect_debt_not_owed                     int32\n",
       "Issue_Account_opening__closing__or_management                   int32\n",
       "Issue_Disclosure_verification_of_debt                           int32\n",
       "Issue_Communication_tactics                                     int32\n",
       "Issue_Deposits_and_withdrawals                                  int32\n",
       "Issue_Application__originator__mortgage_broker                  int32\n",
       "Issue_Billing_disputes                                          int32\n",
       "State_CA                                                        int32\n",
       "State_FL                                                        int32\n",
       "State_TX                                                        int32\n",
       "State_NY                                                        int32\n",
       "State_GA                                                        int32\n",
       "State_NJ                                                        int32\n",
       "State_PA                                                        int32\n",
       "State_IL                                                        int32\n",
       "State_VA                                                        int32\n",
       "State_MD                                                        int32\n",
       "State_OH                                                        int32\n",
       "State_NC                                                        int32\n",
       "State_MI                                                        int32\n",
       "State_AZ                                                        int32\n",
       "State_WA                                                        int32\n",
       "dtype: object"
      ]
     },
     "execution_count": 29,
     "metadata": {},
     "output_type": "execute_result"
    }
   ],
   "source": [
    "cd_train.dtypes"
   ]
  },
  {
   "cell_type": "code",
   "execution_count": 30,
   "metadata": {},
   "outputs": [
    {
     "data": {
      "text/html": [
       "<div>\n",
       "<style scoped>\n",
       "    .dataframe tbody tr th:only-of-type {\n",
       "        vertical-align: middle;\n",
       "    }\n",
       "\n",
       "    .dataframe tbody tr th {\n",
       "        vertical-align: top;\n",
       "    }\n",
       "\n",
       "    .dataframe thead th {\n",
       "        text-align: right;\n",
       "    }\n",
       "</style>\n",
       "<table border=\"1\" class=\"dataframe\">\n",
       "  <thead>\n",
       "    <tr style=\"text-align: right;\">\n",
       "      <th></th>\n",
       "      <th>Timely response?_Yes</th>\n",
       "      <th>Company response to consumer_Closed with explanation</th>\n",
       "      <th>Company response to consumer_Closed with monetary relief</th>\n",
       "      <th>Company response to consumer_Closed with non-monetary relief</th>\n",
       "      <th>Company response to consumer_Closed with relief</th>\n",
       "      <th>Company response to consumer_Closed without relief</th>\n",
       "      <th>Company response to consumer_Untimely response</th>\n",
       "      <th>Submitted via_Fax</th>\n",
       "      <th>Submitted via_Phone</th>\n",
       "      <th>Submitted via_Postal mail</th>\n",
       "      <th>...</th>\n",
       "      <th>State_NJ</th>\n",
       "      <th>State_PA</th>\n",
       "      <th>State_IL</th>\n",
       "      <th>State_VA</th>\n",
       "      <th>State_MD</th>\n",
       "      <th>State_OH</th>\n",
       "      <th>State_NC</th>\n",
       "      <th>State_MI</th>\n",
       "      <th>State_AZ</th>\n",
       "      <th>State_WA</th>\n",
       "    </tr>\n",
       "  </thead>\n",
       "  <tbody>\n",
       "    <tr>\n",
       "      <th>0</th>\n",
       "      <td>1</td>\n",
       "      <td>1</td>\n",
       "      <td>0</td>\n",
       "      <td>0</td>\n",
       "      <td>0</td>\n",
       "      <td>0</td>\n",
       "      <td>0</td>\n",
       "      <td>0</td>\n",
       "      <td>0</td>\n",
       "      <td>0</td>\n",
       "      <td>...</td>\n",
       "      <td>0</td>\n",
       "      <td>0</td>\n",
       "      <td>0</td>\n",
       "      <td>0</td>\n",
       "      <td>0</td>\n",
       "      <td>0</td>\n",
       "      <td>0</td>\n",
       "      <td>1</td>\n",
       "      <td>0</td>\n",
       "      <td>0</td>\n",
       "    </tr>\n",
       "    <tr>\n",
       "      <th>1</th>\n",
       "      <td>1</td>\n",
       "      <td>0</td>\n",
       "      <td>0</td>\n",
       "      <td>0</td>\n",
       "      <td>0</td>\n",
       "      <td>0</td>\n",
       "      <td>0</td>\n",
       "      <td>0</td>\n",
       "      <td>0</td>\n",
       "      <td>0</td>\n",
       "      <td>...</td>\n",
       "      <td>0</td>\n",
       "      <td>1</td>\n",
       "      <td>0</td>\n",
       "      <td>0</td>\n",
       "      <td>0</td>\n",
       "      <td>0</td>\n",
       "      <td>0</td>\n",
       "      <td>0</td>\n",
       "      <td>0</td>\n",
       "      <td>0</td>\n",
       "    </tr>\n",
       "    <tr>\n",
       "      <th>2</th>\n",
       "      <td>1</td>\n",
       "      <td>0</td>\n",
       "      <td>0</td>\n",
       "      <td>1</td>\n",
       "      <td>0</td>\n",
       "      <td>0</td>\n",
       "      <td>0</td>\n",
       "      <td>0</td>\n",
       "      <td>0</td>\n",
       "      <td>0</td>\n",
       "      <td>...</td>\n",
       "      <td>0</td>\n",
       "      <td>0</td>\n",
       "      <td>0</td>\n",
       "      <td>0</td>\n",
       "      <td>0</td>\n",
       "      <td>0</td>\n",
       "      <td>0</td>\n",
       "      <td>0</td>\n",
       "      <td>0</td>\n",
       "      <td>0</td>\n",
       "    </tr>\n",
       "    <tr>\n",
       "      <th>3</th>\n",
       "      <td>1</td>\n",
       "      <td>0</td>\n",
       "      <td>1</td>\n",
       "      <td>0</td>\n",
       "      <td>0</td>\n",
       "      <td>0</td>\n",
       "      <td>0</td>\n",
       "      <td>0</td>\n",
       "      <td>0</td>\n",
       "      <td>0</td>\n",
       "      <td>...</td>\n",
       "      <td>0</td>\n",
       "      <td>0</td>\n",
       "      <td>0</td>\n",
       "      <td>0</td>\n",
       "      <td>0</td>\n",
       "      <td>0</td>\n",
       "      <td>0</td>\n",
       "      <td>0</td>\n",
       "      <td>0</td>\n",
       "      <td>0</td>\n",
       "    </tr>\n",
       "    <tr>\n",
       "      <th>4</th>\n",
       "      <td>1</td>\n",
       "      <td>1</td>\n",
       "      <td>0</td>\n",
       "      <td>0</td>\n",
       "      <td>0</td>\n",
       "      <td>0</td>\n",
       "      <td>0</td>\n",
       "      <td>0</td>\n",
       "      <td>0</td>\n",
       "      <td>0</td>\n",
       "      <td>...</td>\n",
       "      <td>0</td>\n",
       "      <td>0</td>\n",
       "      <td>0</td>\n",
       "      <td>0</td>\n",
       "      <td>0</td>\n",
       "      <td>0</td>\n",
       "      <td>0</td>\n",
       "      <td>0</td>\n",
       "      <td>0</td>\n",
       "      <td>0</td>\n",
       "    </tr>\n",
       "  </tbody>\n",
       "</table>\n",
       "<p>5 rows × 57 columns</p>\n",
       "</div>"
      ],
      "text/plain": [
       "   Timely response?_Yes  Company response to consumer_Closed with explanation  \\\n",
       "0                     1                                                  1      \n",
       "1                     1                                                  0      \n",
       "2                     1                                                  0      \n",
       "3                     1                                                  0      \n",
       "4                     1                                                  1      \n",
       "\n",
       "   Company response to consumer_Closed with monetary relief  \\\n",
       "0                                                  0          \n",
       "1                                                  0          \n",
       "2                                                  0          \n",
       "3                                                  1          \n",
       "4                                                  0          \n",
       "\n",
       "   Company response to consumer_Closed with non-monetary relief  \\\n",
       "0                                                  0              \n",
       "1                                                  0              \n",
       "2                                                  1              \n",
       "3                                                  0              \n",
       "4                                                  0              \n",
       "\n",
       "   Company response to consumer_Closed with relief  \\\n",
       "0                                                0   \n",
       "1                                                0   \n",
       "2                                                0   \n",
       "3                                                0   \n",
       "4                                                0   \n",
       "\n",
       "   Company response to consumer_Closed without relief  \\\n",
       "0                                                  0    \n",
       "1                                                  0    \n",
       "2                                                  0    \n",
       "3                                                  0    \n",
       "4                                                  0    \n",
       "\n",
       "   Company response to consumer_Untimely response  Submitted via_Fax  \\\n",
       "0                                               0                  0   \n",
       "1                                               0                  0   \n",
       "2                                               0                  0   \n",
       "3                                               0                  0   \n",
       "4                                               0                  0   \n",
       "\n",
       "   Submitted via_Phone  Submitted via_Postal mail    ...     State_NJ  \\\n",
       "0                    0                          0    ...            0   \n",
       "1                    0                          0    ...            0   \n",
       "2                    0                          0    ...            0   \n",
       "3                    0                          0    ...            0   \n",
       "4                    0                          0    ...            0   \n",
       "\n",
       "   State_PA  State_IL  State_VA  State_MD  State_OH  State_NC  State_MI  \\\n",
       "0         0         0         0         0         0         0         1   \n",
       "1         1         0         0         0         0         0         0   \n",
       "2         0         0         0         0         0         0         0   \n",
       "3         0         0         0         0         0         0         0   \n",
       "4         0         0         0         0         0         0         0   \n",
       "\n",
       "   State_AZ  State_WA  \n",
       "0         0         0  \n",
       "1         0         0  \n",
       "2         0         0  \n",
       "3         0         0  \n",
       "4         0         0  \n",
       "\n",
       "[5 rows x 57 columns]"
      ]
     },
     "execution_count": 30,
     "metadata": {},
     "output_type": "execute_result"
    }
   ],
   "source": [
    "cd_train.head()"
   ]
  },
  {
   "cell_type": "code",
   "execution_count": 31,
   "metadata": {},
   "outputs": [],
   "source": [
    "x=cd_train.drop(['Consumer disputed?','Complaint ID'],1)\n",
    "y=cd_train['Consumer disputed?']"
   ]
  },
  {
   "cell_type": "code",
   "execution_count": 32,
   "metadata": {},
   "outputs": [
    {
     "data": {
      "text/html": [
       "<div>\n",
       "<style scoped>\n",
       "    .dataframe tbody tr th:only-of-type {\n",
       "        vertical-align: middle;\n",
       "    }\n",
       "\n",
       "    .dataframe tbody tr th {\n",
       "        vertical-align: top;\n",
       "    }\n",
       "\n",
       "    .dataframe thead th {\n",
       "        text-align: right;\n",
       "    }\n",
       "</style>\n",
       "<table border=\"1\" class=\"dataframe\">\n",
       "  <thead>\n",
       "    <tr style=\"text-align: right;\">\n",
       "      <th></th>\n",
       "      <th>Timely response?_Yes</th>\n",
       "      <th>Company response to consumer_Closed with explanation</th>\n",
       "      <th>Company response to consumer_Closed with monetary relief</th>\n",
       "      <th>Company response to consumer_Closed with non-monetary relief</th>\n",
       "      <th>Company response to consumer_Closed with relief</th>\n",
       "      <th>Company response to consumer_Closed without relief</th>\n",
       "      <th>Company response to consumer_Untimely response</th>\n",
       "      <th>Submitted via_Fax</th>\n",
       "      <th>Submitted via_Phone</th>\n",
       "      <th>Submitted via_Postal mail</th>\n",
       "      <th>...</th>\n",
       "      <th>State_NJ</th>\n",
       "      <th>State_PA</th>\n",
       "      <th>State_IL</th>\n",
       "      <th>State_VA</th>\n",
       "      <th>State_MD</th>\n",
       "      <th>State_OH</th>\n",
       "      <th>State_NC</th>\n",
       "      <th>State_MI</th>\n",
       "      <th>State_AZ</th>\n",
       "      <th>State_WA</th>\n",
       "    </tr>\n",
       "  </thead>\n",
       "  <tbody>\n",
       "    <tr>\n",
       "      <th>0</th>\n",
       "      <td>1</td>\n",
       "      <td>1</td>\n",
       "      <td>0</td>\n",
       "      <td>0</td>\n",
       "      <td>0</td>\n",
       "      <td>0</td>\n",
       "      <td>0</td>\n",
       "      <td>0</td>\n",
       "      <td>0</td>\n",
       "      <td>0</td>\n",
       "      <td>...</td>\n",
       "      <td>0</td>\n",
       "      <td>0</td>\n",
       "      <td>0</td>\n",
       "      <td>0</td>\n",
       "      <td>0</td>\n",
       "      <td>0</td>\n",
       "      <td>0</td>\n",
       "      <td>1</td>\n",
       "      <td>0</td>\n",
       "      <td>0</td>\n",
       "    </tr>\n",
       "    <tr>\n",
       "      <th>1</th>\n",
       "      <td>1</td>\n",
       "      <td>0</td>\n",
       "      <td>0</td>\n",
       "      <td>0</td>\n",
       "      <td>0</td>\n",
       "      <td>0</td>\n",
       "      <td>0</td>\n",
       "      <td>0</td>\n",
       "      <td>0</td>\n",
       "      <td>0</td>\n",
       "      <td>...</td>\n",
       "      <td>0</td>\n",
       "      <td>1</td>\n",
       "      <td>0</td>\n",
       "      <td>0</td>\n",
       "      <td>0</td>\n",
       "      <td>0</td>\n",
       "      <td>0</td>\n",
       "      <td>0</td>\n",
       "      <td>0</td>\n",
       "      <td>0</td>\n",
       "    </tr>\n",
       "    <tr>\n",
       "      <th>2</th>\n",
       "      <td>1</td>\n",
       "      <td>0</td>\n",
       "      <td>0</td>\n",
       "      <td>1</td>\n",
       "      <td>0</td>\n",
       "      <td>0</td>\n",
       "      <td>0</td>\n",
       "      <td>0</td>\n",
       "      <td>0</td>\n",
       "      <td>0</td>\n",
       "      <td>...</td>\n",
       "      <td>0</td>\n",
       "      <td>0</td>\n",
       "      <td>0</td>\n",
       "      <td>0</td>\n",
       "      <td>0</td>\n",
       "      <td>0</td>\n",
       "      <td>0</td>\n",
       "      <td>0</td>\n",
       "      <td>0</td>\n",
       "      <td>0</td>\n",
       "    </tr>\n",
       "    <tr>\n",
       "      <th>3</th>\n",
       "      <td>1</td>\n",
       "      <td>0</td>\n",
       "      <td>1</td>\n",
       "      <td>0</td>\n",
       "      <td>0</td>\n",
       "      <td>0</td>\n",
       "      <td>0</td>\n",
       "      <td>0</td>\n",
       "      <td>0</td>\n",
       "      <td>0</td>\n",
       "      <td>...</td>\n",
       "      <td>0</td>\n",
       "      <td>0</td>\n",
       "      <td>0</td>\n",
       "      <td>0</td>\n",
       "      <td>0</td>\n",
       "      <td>0</td>\n",
       "      <td>0</td>\n",
       "      <td>0</td>\n",
       "      <td>0</td>\n",
       "      <td>0</td>\n",
       "    </tr>\n",
       "    <tr>\n",
       "      <th>4</th>\n",
       "      <td>1</td>\n",
       "      <td>1</td>\n",
       "      <td>0</td>\n",
       "      <td>0</td>\n",
       "      <td>0</td>\n",
       "      <td>0</td>\n",
       "      <td>0</td>\n",
       "      <td>0</td>\n",
       "      <td>0</td>\n",
       "      <td>0</td>\n",
       "      <td>...</td>\n",
       "      <td>0</td>\n",
       "      <td>0</td>\n",
       "      <td>0</td>\n",
       "      <td>0</td>\n",
       "      <td>0</td>\n",
       "      <td>0</td>\n",
       "      <td>0</td>\n",
       "      <td>0</td>\n",
       "      <td>0</td>\n",
       "      <td>0</td>\n",
       "    </tr>\n",
       "  </tbody>\n",
       "</table>\n",
       "<p>5 rows × 55 columns</p>\n",
       "</div>"
      ],
      "text/plain": [
       "   Timely response?_Yes  Company response to consumer_Closed with explanation  \\\n",
       "0                     1                                                  1      \n",
       "1                     1                                                  0      \n",
       "2                     1                                                  0      \n",
       "3                     1                                                  0      \n",
       "4                     1                                                  1      \n",
       "\n",
       "   Company response to consumer_Closed with monetary relief  \\\n",
       "0                                                  0          \n",
       "1                                                  0          \n",
       "2                                                  0          \n",
       "3                                                  1          \n",
       "4                                                  0          \n",
       "\n",
       "   Company response to consumer_Closed with non-monetary relief  \\\n",
       "0                                                  0              \n",
       "1                                                  0              \n",
       "2                                                  1              \n",
       "3                                                  0              \n",
       "4                                                  0              \n",
       "\n",
       "   Company response to consumer_Closed with relief  \\\n",
       "0                                                0   \n",
       "1                                                0   \n",
       "2                                                0   \n",
       "3                                                0   \n",
       "4                                                0   \n",
       "\n",
       "   Company response to consumer_Closed without relief  \\\n",
       "0                                                  0    \n",
       "1                                                  0    \n",
       "2                                                  0    \n",
       "3                                                  0    \n",
       "4                                                  0    \n",
       "\n",
       "   Company response to consumer_Untimely response  Submitted via_Fax  \\\n",
       "0                                               0                  0   \n",
       "1                                               0                  0   \n",
       "2                                               0                  0   \n",
       "3                                               0                  0   \n",
       "4                                               0                  0   \n",
       "\n",
       "   Submitted via_Phone  Submitted via_Postal mail    ...     State_NJ  \\\n",
       "0                    0                          0    ...            0   \n",
       "1                    0                          0    ...            0   \n",
       "2                    0                          0    ...            0   \n",
       "3                    0                          0    ...            0   \n",
       "4                    0                          0    ...            0   \n",
       "\n",
       "   State_PA  State_IL  State_VA  State_MD  State_OH  State_NC  State_MI  \\\n",
       "0         0         0         0         0         0         0         1   \n",
       "1         1         0         0         0         0         0         0   \n",
       "2         0         0         0         0         0         0         0   \n",
       "3         0         0         0         0         0         0         0   \n",
       "4         0         0         0         0         0         0         0   \n",
       "\n",
       "   State_AZ  State_WA  \n",
       "0         0         0  \n",
       "1         0         0  \n",
       "2         0         0  \n",
       "3         0         0  \n",
       "4         0         0  \n",
       "\n",
       "[5 rows x 55 columns]"
      ]
     },
     "execution_count": 32,
     "metadata": {},
     "output_type": "execute_result"
    }
   ],
   "source": [
    "x.head()"
   ]
  },
  {
   "cell_type": "code",
   "execution_count": 33,
   "metadata": {},
   "outputs": [
    {
     "data": {
      "text/plain": [
       "0    0\n",
       "1    0\n",
       "2    0\n",
       "3    0\n",
       "4    0\n",
       "Name: Consumer disputed?, dtype: int32"
      ]
     },
     "execution_count": 33,
     "metadata": {},
     "output_type": "execute_result"
    }
   ],
   "source": [
    "y.head()"
   ]
  },
  {
   "cell_type": "code",
   "execution_count": 34,
   "metadata": {},
   "outputs": [],
   "source": [
    "from sklearn.model_selection import RandomizedSearchCV\n",
    "from sklearn.ensemble import RandomForestClassifier"
   ]
  },
  {
   "cell_type": "code",
   "execution_count": 35,
   "metadata": {},
   "outputs": [],
   "source": [
    "clf = RandomForestClassifier()"
   ]
  },
  {
   "cell_type": "code",
   "execution_count": 36,
   "metadata": {},
   "outputs": [],
   "source": [
    "param_dist = {\"n_estimators\":[100,200,300],\n",
    "              \"max_features\": [5,10,20,25,30,35],\n",
    "              \"bootstrap\": [True, False],\n",
    "              'class_weight':[None,'balanced'], \n",
    "                'criterion':['entropy','gini'],\n",
    "                'max_depth':[None,5,10,15,20,30,50,70],\n",
    "                'min_samples_leaf':[1,2,5,10,15,20], \n",
    "                'min_samples_split':[2,5,10,15,20]\n",
    "                  }"
   ]
  },
  {
   "cell_type": "code",
   "execution_count": null,
   "metadata": {},
   "outputs": [],
   "source": []
  },
  {
   "cell_type": "code",
   "execution_count": 37,
   "metadata": {},
   "outputs": [],
   "source": [
    "n_iter_search = 10 # n_iter parameter of RandomizedSeacrhCV controls, how many \n",
    "                   # parameter combination will be tried; out of all possible given values\n",
    "\n",
    "random_search = RandomizedSearchCV(clf, param_distributions=param_dist,\n",
    "                                   n_iter=n_iter_search,scoring='roc_auc',cv=5,n_jobs = -1)\n"
   ]
  },
  {
   "cell_type": "code",
   "execution_count": 38,
   "metadata": {},
   "outputs": [
    {
     "ename": "KeyboardInterrupt",
     "evalue": "",
     "output_type": "error",
     "traceback": [
      "\u001b[1;31m---------------------------------------------------------------------------\u001b[0m",
      "\u001b[1;31mKeyboardInterrupt\u001b[0m                         Traceback (most recent call last)",
      "\u001b[1;32m<ipython-input-38-958dc8a1256d>\u001b[0m in \u001b[0;36m<module>\u001b[1;34m\u001b[0m\n\u001b[1;32m----> 1\u001b[1;33m \u001b[0mrandom_search\u001b[0m\u001b[1;33m.\u001b[0m\u001b[0mfit\u001b[0m\u001b[1;33m(\u001b[0m\u001b[0mx\u001b[0m\u001b[1;33m,\u001b[0m\u001b[0my\u001b[0m\u001b[1;33m)\u001b[0m\u001b[1;33m\u001b[0m\u001b[1;33m\u001b[0m\u001b[0m\n\u001b[0m",
      "\u001b[1;32m~\\Anaconda3\\lib\\site-packages\\sklearn\\model_selection\\_search.py\u001b[0m in \u001b[0;36mfit\u001b[1;34m(self, X, y, groups, **fit_params)\u001b[0m\n\u001b[0;32m    720\u001b[0m                 \u001b[1;32mreturn\u001b[0m \u001b[0mresults_container\u001b[0m\u001b[1;33m[\u001b[0m\u001b[1;36m0\u001b[0m\u001b[1;33m]\u001b[0m\u001b[1;33m\u001b[0m\u001b[1;33m\u001b[0m\u001b[0m\n\u001b[0;32m    721\u001b[0m \u001b[1;33m\u001b[0m\u001b[0m\n\u001b[1;32m--> 722\u001b[1;33m             \u001b[0mself\u001b[0m\u001b[1;33m.\u001b[0m\u001b[0m_run_search\u001b[0m\u001b[1;33m(\u001b[0m\u001b[0mevaluate_candidates\u001b[0m\u001b[1;33m)\u001b[0m\u001b[1;33m\u001b[0m\u001b[1;33m\u001b[0m\u001b[0m\n\u001b[0m\u001b[0;32m    723\u001b[0m \u001b[1;33m\u001b[0m\u001b[0m\n\u001b[0;32m    724\u001b[0m         \u001b[0mresults\u001b[0m \u001b[1;33m=\u001b[0m \u001b[0mresults_container\u001b[0m\u001b[1;33m[\u001b[0m\u001b[1;36m0\u001b[0m\u001b[1;33m]\u001b[0m\u001b[1;33m\u001b[0m\u001b[1;33m\u001b[0m\u001b[0m\n",
      "\u001b[1;32m~\\Anaconda3\\lib\\site-packages\\sklearn\\model_selection\\_search.py\u001b[0m in \u001b[0;36m_run_search\u001b[1;34m(self, evaluate_candidates)\u001b[0m\n\u001b[0;32m   1513\u001b[0m         evaluate_candidates(ParameterSampler(\n\u001b[0;32m   1514\u001b[0m             \u001b[0mself\u001b[0m\u001b[1;33m.\u001b[0m\u001b[0mparam_distributions\u001b[0m\u001b[1;33m,\u001b[0m \u001b[0mself\u001b[0m\u001b[1;33m.\u001b[0m\u001b[0mn_iter\u001b[0m\u001b[1;33m,\u001b[0m\u001b[1;33m\u001b[0m\u001b[1;33m\u001b[0m\u001b[0m\n\u001b[1;32m-> 1515\u001b[1;33m             random_state=self.random_state))\n\u001b[0m",
      "\u001b[1;32m~\\Anaconda3\\lib\\site-packages\\sklearn\\model_selection\\_search.py\u001b[0m in \u001b[0;36mevaluate_candidates\u001b[1;34m(candidate_params)\u001b[0m\n\u001b[0;32m    709\u001b[0m                                \u001b[1;32mfor\u001b[0m \u001b[0mparameters\u001b[0m\u001b[1;33m,\u001b[0m \u001b[1;33m(\u001b[0m\u001b[0mtrain\u001b[0m\u001b[1;33m,\u001b[0m \u001b[0mtest\u001b[0m\u001b[1;33m)\u001b[0m\u001b[1;33m\u001b[0m\u001b[1;33m\u001b[0m\u001b[0m\n\u001b[0;32m    710\u001b[0m                                in product(candidate_params,\n\u001b[1;32m--> 711\u001b[1;33m                                           cv.split(X, y, groups)))\n\u001b[0m\u001b[0;32m    712\u001b[0m \u001b[1;33m\u001b[0m\u001b[0m\n\u001b[0;32m    713\u001b[0m                 \u001b[0mall_candidate_params\u001b[0m\u001b[1;33m.\u001b[0m\u001b[0mextend\u001b[0m\u001b[1;33m(\u001b[0m\u001b[0mcandidate_params\u001b[0m\u001b[1;33m)\u001b[0m\u001b[1;33m\u001b[0m\u001b[1;33m\u001b[0m\u001b[0m\n",
      "\u001b[1;32m~\\Anaconda3\\lib\\site-packages\\sklearn\\externals\\joblib\\parallel.py\u001b[0m in \u001b[0;36m__call__\u001b[1;34m(self, iterable)\u001b[0m\n\u001b[0;32m    928\u001b[0m \u001b[1;33m\u001b[0m\u001b[0m\n\u001b[0;32m    929\u001b[0m             \u001b[1;32mwith\u001b[0m \u001b[0mself\u001b[0m\u001b[1;33m.\u001b[0m\u001b[0m_backend\u001b[0m\u001b[1;33m.\u001b[0m\u001b[0mretrieval_context\u001b[0m\u001b[1;33m(\u001b[0m\u001b[1;33m)\u001b[0m\u001b[1;33m:\u001b[0m\u001b[1;33m\u001b[0m\u001b[1;33m\u001b[0m\u001b[0m\n\u001b[1;32m--> 930\u001b[1;33m                 \u001b[0mself\u001b[0m\u001b[1;33m.\u001b[0m\u001b[0mretrieve\u001b[0m\u001b[1;33m(\u001b[0m\u001b[1;33m)\u001b[0m\u001b[1;33m\u001b[0m\u001b[1;33m\u001b[0m\u001b[0m\n\u001b[0m\u001b[0;32m    931\u001b[0m             \u001b[1;31m# Make sure that we get a last message telling us we are done\u001b[0m\u001b[1;33m\u001b[0m\u001b[1;33m\u001b[0m\u001b[1;33m\u001b[0m\u001b[0m\n\u001b[0;32m    932\u001b[0m             \u001b[0melapsed_time\u001b[0m \u001b[1;33m=\u001b[0m \u001b[0mtime\u001b[0m\u001b[1;33m.\u001b[0m\u001b[0mtime\u001b[0m\u001b[1;33m(\u001b[0m\u001b[1;33m)\u001b[0m \u001b[1;33m-\u001b[0m \u001b[0mself\u001b[0m\u001b[1;33m.\u001b[0m\u001b[0m_start_time\u001b[0m\u001b[1;33m\u001b[0m\u001b[1;33m\u001b[0m\u001b[0m\n",
      "\u001b[1;32m~\\Anaconda3\\lib\\site-packages\\sklearn\\externals\\joblib\\parallel.py\u001b[0m in \u001b[0;36mretrieve\u001b[1;34m(self)\u001b[0m\n\u001b[0;32m    831\u001b[0m             \u001b[1;32mtry\u001b[0m\u001b[1;33m:\u001b[0m\u001b[1;33m\u001b[0m\u001b[1;33m\u001b[0m\u001b[0m\n\u001b[0;32m    832\u001b[0m                 \u001b[1;32mif\u001b[0m \u001b[0mgetattr\u001b[0m\u001b[1;33m(\u001b[0m\u001b[0mself\u001b[0m\u001b[1;33m.\u001b[0m\u001b[0m_backend\u001b[0m\u001b[1;33m,\u001b[0m \u001b[1;34m'supports_timeout'\u001b[0m\u001b[1;33m,\u001b[0m \u001b[1;32mFalse\u001b[0m\u001b[1;33m)\u001b[0m\u001b[1;33m:\u001b[0m\u001b[1;33m\u001b[0m\u001b[1;33m\u001b[0m\u001b[0m\n\u001b[1;32m--> 833\u001b[1;33m                     \u001b[0mself\u001b[0m\u001b[1;33m.\u001b[0m\u001b[0m_output\u001b[0m\u001b[1;33m.\u001b[0m\u001b[0mextend\u001b[0m\u001b[1;33m(\u001b[0m\u001b[0mjob\u001b[0m\u001b[1;33m.\u001b[0m\u001b[0mget\u001b[0m\u001b[1;33m(\u001b[0m\u001b[0mtimeout\u001b[0m\u001b[1;33m=\u001b[0m\u001b[0mself\u001b[0m\u001b[1;33m.\u001b[0m\u001b[0mtimeout\u001b[0m\u001b[1;33m)\u001b[0m\u001b[1;33m)\u001b[0m\u001b[1;33m\u001b[0m\u001b[1;33m\u001b[0m\u001b[0m\n\u001b[0m\u001b[0;32m    834\u001b[0m                 \u001b[1;32melse\u001b[0m\u001b[1;33m:\u001b[0m\u001b[1;33m\u001b[0m\u001b[1;33m\u001b[0m\u001b[0m\n\u001b[0;32m    835\u001b[0m                     \u001b[0mself\u001b[0m\u001b[1;33m.\u001b[0m\u001b[0m_output\u001b[0m\u001b[1;33m.\u001b[0m\u001b[0mextend\u001b[0m\u001b[1;33m(\u001b[0m\u001b[0mjob\u001b[0m\u001b[1;33m.\u001b[0m\u001b[0mget\u001b[0m\u001b[1;33m(\u001b[0m\u001b[1;33m)\u001b[0m\u001b[1;33m)\u001b[0m\u001b[1;33m\u001b[0m\u001b[1;33m\u001b[0m\u001b[0m\n",
      "\u001b[1;32m~\\Anaconda3\\lib\\site-packages\\sklearn\\externals\\joblib\\_parallel_backends.py\u001b[0m in \u001b[0;36mwrap_future_result\u001b[1;34m(future, timeout)\u001b[0m\n\u001b[0;32m    519\u001b[0m         AsyncResults.get from multiprocessing.\"\"\"\n\u001b[0;32m    520\u001b[0m         \u001b[1;32mtry\u001b[0m\u001b[1;33m:\u001b[0m\u001b[1;33m\u001b[0m\u001b[1;33m\u001b[0m\u001b[0m\n\u001b[1;32m--> 521\u001b[1;33m             \u001b[1;32mreturn\u001b[0m \u001b[0mfuture\u001b[0m\u001b[1;33m.\u001b[0m\u001b[0mresult\u001b[0m\u001b[1;33m(\u001b[0m\u001b[0mtimeout\u001b[0m\u001b[1;33m=\u001b[0m\u001b[0mtimeout\u001b[0m\u001b[1;33m)\u001b[0m\u001b[1;33m\u001b[0m\u001b[1;33m\u001b[0m\u001b[0m\n\u001b[0m\u001b[0;32m    522\u001b[0m         \u001b[1;32mexcept\u001b[0m \u001b[0mLokyTimeoutError\u001b[0m\u001b[1;33m:\u001b[0m\u001b[1;33m\u001b[0m\u001b[1;33m\u001b[0m\u001b[0m\n\u001b[0;32m    523\u001b[0m             \u001b[1;32mraise\u001b[0m \u001b[0mTimeoutError\u001b[0m\u001b[1;33m(\u001b[0m\u001b[1;33m)\u001b[0m\u001b[1;33m\u001b[0m\u001b[1;33m\u001b[0m\u001b[0m\n",
      "\u001b[1;32m~\\Anaconda3\\lib\\concurrent\\futures\\_base.py\u001b[0m in \u001b[0;36mresult\u001b[1;34m(self, timeout)\u001b[0m\n\u001b[0;32m    425\u001b[0m                 \u001b[1;32mreturn\u001b[0m \u001b[0mself\u001b[0m\u001b[1;33m.\u001b[0m\u001b[0m__get_result\u001b[0m\u001b[1;33m(\u001b[0m\u001b[1;33m)\u001b[0m\u001b[1;33m\u001b[0m\u001b[1;33m\u001b[0m\u001b[0m\n\u001b[0;32m    426\u001b[0m \u001b[1;33m\u001b[0m\u001b[0m\n\u001b[1;32m--> 427\u001b[1;33m             \u001b[0mself\u001b[0m\u001b[1;33m.\u001b[0m\u001b[0m_condition\u001b[0m\u001b[1;33m.\u001b[0m\u001b[0mwait\u001b[0m\u001b[1;33m(\u001b[0m\u001b[0mtimeout\u001b[0m\u001b[1;33m)\u001b[0m\u001b[1;33m\u001b[0m\u001b[1;33m\u001b[0m\u001b[0m\n\u001b[0m\u001b[0;32m    428\u001b[0m \u001b[1;33m\u001b[0m\u001b[0m\n\u001b[0;32m    429\u001b[0m             \u001b[1;32mif\u001b[0m \u001b[0mself\u001b[0m\u001b[1;33m.\u001b[0m\u001b[0m_state\u001b[0m \u001b[1;32min\u001b[0m \u001b[1;33m[\u001b[0m\u001b[0mCANCELLED\u001b[0m\u001b[1;33m,\u001b[0m \u001b[0mCANCELLED_AND_NOTIFIED\u001b[0m\u001b[1;33m]\u001b[0m\u001b[1;33m:\u001b[0m\u001b[1;33m\u001b[0m\u001b[1;33m\u001b[0m\u001b[0m\n",
      "\u001b[1;32m~\\Anaconda3\\lib\\threading.py\u001b[0m in \u001b[0;36mwait\u001b[1;34m(self, timeout)\u001b[0m\n\u001b[0;32m    293\u001b[0m         \u001b[1;32mtry\u001b[0m\u001b[1;33m:\u001b[0m    \u001b[1;31m# restore state no matter what (e.g., KeyboardInterrupt)\u001b[0m\u001b[1;33m\u001b[0m\u001b[1;33m\u001b[0m\u001b[0m\n\u001b[0;32m    294\u001b[0m             \u001b[1;32mif\u001b[0m \u001b[0mtimeout\u001b[0m \u001b[1;32mis\u001b[0m \u001b[1;32mNone\u001b[0m\u001b[1;33m:\u001b[0m\u001b[1;33m\u001b[0m\u001b[1;33m\u001b[0m\u001b[0m\n\u001b[1;32m--> 295\u001b[1;33m                 \u001b[0mwaiter\u001b[0m\u001b[1;33m.\u001b[0m\u001b[0macquire\u001b[0m\u001b[1;33m(\u001b[0m\u001b[1;33m)\u001b[0m\u001b[1;33m\u001b[0m\u001b[1;33m\u001b[0m\u001b[0m\n\u001b[0m\u001b[0;32m    296\u001b[0m                 \u001b[0mgotit\u001b[0m \u001b[1;33m=\u001b[0m \u001b[1;32mTrue\u001b[0m\u001b[1;33m\u001b[0m\u001b[1;33m\u001b[0m\u001b[0m\n\u001b[0;32m    297\u001b[0m             \u001b[1;32melse\u001b[0m\u001b[1;33m:\u001b[0m\u001b[1;33m\u001b[0m\u001b[1;33m\u001b[0m\u001b[0m\n",
      "\u001b[1;31mKeyboardInterrupt\u001b[0m: "
     ]
    }
   ],
   "source": [
    "random_search.fit(x,y)"
   ]
  },
  {
   "cell_type": "code",
   "execution_count": null,
   "metadata": {},
   "outputs": [],
   "source": []
  }
 ],
 "metadata": {
  "kernelspec": {
   "display_name": "Python 3",
   "language": "python",
   "name": "python3"
  },
  "language_info": {
   "codemirror_mode": {
    "name": "ipython",
    "version": 3
   },
   "file_extension": ".py",
   "mimetype": "text/x-python",
   "name": "python",
   "nbconvert_exporter": "python",
   "pygments_lexer": "ipython3",
   "version": "3.6.7"
  }
 },
 "nbformat": 4,
 "nbformat_minor": 1
}
