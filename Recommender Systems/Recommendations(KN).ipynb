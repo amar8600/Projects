{
  "nbformat": 4,
  "nbformat_minor": 0,
  "metadata": {
    "colab": {
      "name": "Recommendations(KN).ipynb",
      "provenance": [],
      "collapsed_sections": [
        "XDQ-t_6BZipA"
      ]
    },
    "kernelspec": {
      "name": "python3",
      "display_name": "Python 3"
    }
  },
  "cells": [
    {
      "cell_type": "markdown",
      "metadata": {
        "id": "XDQ-t_6BZipA",
        "colab_type": "text"
      },
      "source": [
        "### Content Based Filtering for movie usecase"
      ]
    },
    {
      "cell_type": "code",
      "metadata": {
        "id": "60woQYQekGED",
        "colab_type": "code",
        "colab": {}
      },
      "source": [
        "import pandas as pd\n",
        "import numpy as np\n"
      ],
      "execution_count": 0,
      "outputs": []
    },
    {
      "cell_type": "code",
      "metadata": {
        "id": "IPtmMihQM4z3",
        "colab_type": "code",
        "outputId": "0e02242a-2d39-4efd-ec61-78db0259d475",
        "colab": {
          "base_uri": "https://localhost:8080/",
          "height": 54
        }
      },
      "source": [
        "!unzip tmdb_5000_movies.csv.zip\n"
      ],
      "execution_count": 0,
      "outputs": [
        {
          "output_type": "stream",
          "text": [
            "Archive:  tmdb_5000_movies.csv.zip\n",
            "  inflating: tmdb_5000_movies.csv    \n"
          ],
          "name": "stdout"
        }
      ]
    },
    {
      "cell_type": "code",
      "metadata": {
        "id": "1rl1vnADM_Cs",
        "colab_type": "code",
        "outputId": "134c8bf3-4196-4de1-d424-ed89de289e3e",
        "colab": {
          "base_uri": "https://localhost:8080/",
          "height": 54
        }
      },
      "source": [
        "!unzip tmdb_5000_credits.csv.zip"
      ],
      "execution_count": 0,
      "outputs": [
        {
          "output_type": "stream",
          "text": [
            "Archive:  tmdb_5000_credits.csv.zip\n",
            "  inflating: tmdb_5000_credits.csv   \n"
          ],
          "name": "stdout"
        }
      ]
    },
    {
      "cell_type": "code",
      "metadata": {
        "id": "Wde_4su7NJtw",
        "colab_type": "code",
        "colab": {}
      },
      "source": [
        "movies_df = pd.read_csv('tmdb_5000_movies.csv')\n",
        "credits= pd.read_csv('tmdb_5000_credits.csv')"
      ],
      "execution_count": 0,
      "outputs": []
    },
    {
      "cell_type": "code",
      "metadata": {
        "id": "6LDWtl7UNd6-",
        "colab_type": "code",
        "outputId": "c0ed4b46-41dc-4227-c0b3-06abec08f595",
        "colab": {
          "base_uri": "https://localhost:8080/",
          "height": 318
        }
      },
      "source": [
        "movies_df.head(2)"
      ],
      "execution_count": 0,
      "outputs": [
        {
          "output_type": "execute_result",
          "data": {
            "text/html": [
              "<div>\n",
              "<style scoped>\n",
              "    .dataframe tbody tr th:only-of-type {\n",
              "        vertical-align: middle;\n",
              "    }\n",
              "\n",
              "    .dataframe tbody tr th {\n",
              "        vertical-align: top;\n",
              "    }\n",
              "\n",
              "    .dataframe thead th {\n",
              "        text-align: right;\n",
              "    }\n",
              "</style>\n",
              "<table border=\"1\" class=\"dataframe\">\n",
              "  <thead>\n",
              "    <tr style=\"text-align: right;\">\n",
              "      <th></th>\n",
              "      <th>budget</th>\n",
              "      <th>genres</th>\n",
              "      <th>homepage</th>\n",
              "      <th>id</th>\n",
              "      <th>keywords</th>\n",
              "      <th>original_language</th>\n",
              "      <th>original_title</th>\n",
              "      <th>overview</th>\n",
              "      <th>popularity</th>\n",
              "      <th>production_companies</th>\n",
              "      <th>production_countries</th>\n",
              "      <th>release_date</th>\n",
              "      <th>revenue</th>\n",
              "      <th>runtime</th>\n",
              "      <th>spoken_languages</th>\n",
              "      <th>status</th>\n",
              "      <th>tagline</th>\n",
              "      <th>title</th>\n",
              "      <th>vote_average</th>\n",
              "      <th>vote_count</th>\n",
              "    </tr>\n",
              "  </thead>\n",
              "  <tbody>\n",
              "    <tr>\n",
              "      <th>0</th>\n",
              "      <td>237000000</td>\n",
              "      <td>[{\"id\": 28, \"name\": \"Action\"}, {\"id\": 12, \"nam...</td>\n",
              "      <td>http://www.avatarmovie.com/</td>\n",
              "      <td>19995</td>\n",
              "      <td>[{\"id\": 1463, \"name\": \"culture clash\"}, {\"id\":...</td>\n",
              "      <td>en</td>\n",
              "      <td>Avatar</td>\n",
              "      <td>In the 22nd century, a paraplegic Marine is di...</td>\n",
              "      <td>150.437577</td>\n",
              "      <td>[{\"name\": \"Ingenious Film Partners\", \"id\": 289...</td>\n",
              "      <td>[{\"iso_3166_1\": \"US\", \"name\": \"United States o...</td>\n",
              "      <td>2009-12-10</td>\n",
              "      <td>2787965087</td>\n",
              "      <td>162.0</td>\n",
              "      <td>[{\"iso_639_1\": \"en\", \"name\": \"English\"}, {\"iso...</td>\n",
              "      <td>Released</td>\n",
              "      <td>Enter the World of Pandora.</td>\n",
              "      <td>Avatar</td>\n",
              "      <td>7.2</td>\n",
              "      <td>11800</td>\n",
              "    </tr>\n",
              "    <tr>\n",
              "      <th>1</th>\n",
              "      <td>300000000</td>\n",
              "      <td>[{\"id\": 12, \"name\": \"Adventure\"}, {\"id\": 14, \"...</td>\n",
              "      <td>http://disney.go.com/disneypictures/pirates/</td>\n",
              "      <td>285</td>\n",
              "      <td>[{\"id\": 270, \"name\": \"ocean\"}, {\"id\": 726, \"na...</td>\n",
              "      <td>en</td>\n",
              "      <td>Pirates of the Caribbean: At World's End</td>\n",
              "      <td>Captain Barbossa, long believed to be dead, ha...</td>\n",
              "      <td>139.082615</td>\n",
              "      <td>[{\"name\": \"Walt Disney Pictures\", \"id\": 2}, {\"...</td>\n",
              "      <td>[{\"iso_3166_1\": \"US\", \"name\": \"United States o...</td>\n",
              "      <td>2007-05-19</td>\n",
              "      <td>961000000</td>\n",
              "      <td>169.0</td>\n",
              "      <td>[{\"iso_639_1\": \"en\", \"name\": \"English\"}]</td>\n",
              "      <td>Released</td>\n",
              "      <td>At the end of the world, the adventure begins.</td>\n",
              "      <td>Pirates of the Caribbean: At World's End</td>\n",
              "      <td>6.9</td>\n",
              "      <td>4500</td>\n",
              "    </tr>\n",
              "  </tbody>\n",
              "</table>\n",
              "</div>"
            ],
            "text/plain": [
              "      budget  ... vote_count\n",
              "0  237000000  ...      11800\n",
              "1  300000000  ...       4500\n",
              "\n",
              "[2 rows x 20 columns]"
            ]
          },
          "metadata": {
            "tags": []
          },
          "execution_count": 9
        }
      ]
    },
    {
      "cell_type": "code",
      "metadata": {
        "id": "EBczt00LNgAQ",
        "colab_type": "code",
        "outputId": "6362a304-3246-4729-de87-059595179edc",
        "colab": {
          "base_uri": "https://localhost:8080/",
          "height": 108
        }
      },
      "source": [
        "credits.head(2)"
      ],
      "execution_count": 0,
      "outputs": [
        {
          "output_type": "execute_result",
          "data": {
            "text/html": [
              "<div>\n",
              "<style scoped>\n",
              "    .dataframe tbody tr th:only-of-type {\n",
              "        vertical-align: middle;\n",
              "    }\n",
              "\n",
              "    .dataframe tbody tr th {\n",
              "        vertical-align: top;\n",
              "    }\n",
              "\n",
              "    .dataframe thead th {\n",
              "        text-align: right;\n",
              "    }\n",
              "</style>\n",
              "<table border=\"1\" class=\"dataframe\">\n",
              "  <thead>\n",
              "    <tr style=\"text-align: right;\">\n",
              "      <th></th>\n",
              "      <th>movie_id</th>\n",
              "      <th>title</th>\n",
              "      <th>cast</th>\n",
              "      <th>crew</th>\n",
              "    </tr>\n",
              "  </thead>\n",
              "  <tbody>\n",
              "    <tr>\n",
              "      <th>0</th>\n",
              "      <td>19995</td>\n",
              "      <td>Avatar</td>\n",
              "      <td>[{\"cast_id\": 242, \"character\": \"Jake Sully\", \"...</td>\n",
              "      <td>[{\"credit_id\": \"52fe48009251416c750aca23\", \"de...</td>\n",
              "    </tr>\n",
              "    <tr>\n",
              "      <th>1</th>\n",
              "      <td>285</td>\n",
              "      <td>Pirates of the Caribbean: At World's End</td>\n",
              "      <td>[{\"cast_id\": 4, \"character\": \"Captain Jack Spa...</td>\n",
              "      <td>[{\"credit_id\": \"52fe4232c3a36847f800b579\", \"de...</td>\n",
              "    </tr>\n",
              "  </tbody>\n",
              "</table>\n",
              "</div>"
            ],
            "text/plain": [
              "   movie_id  ...                                               crew\n",
              "0     19995  ...  [{\"credit_id\": \"52fe48009251416c750aca23\", \"de...\n",
              "1       285  ...  [{\"credit_id\": \"52fe4232c3a36847f800b579\", \"de...\n",
              "\n",
              "[2 rows x 4 columns]"
            ]
          },
          "metadata": {
            "tags": []
          },
          "execution_count": 6
        }
      ]
    },
    {
      "cell_type": "markdown",
      "metadata": {
        "id": "GaY3C_FNN0h7",
        "colab_type": "text"
      },
      "source": [
        "#### In order to merge the two df we have to take a common named column so we will rename the movie_id to id"
      ]
    },
    {
      "cell_type": "code",
      "metadata": {
        "id": "TZVKg05COM6b",
        "colab_type": "code",
        "colab": {}
      },
      "source": [
        "credits.rename()"
      ],
      "execution_count": 0,
      "outputs": []
    },
    {
      "cell_type": "code",
      "metadata": {
        "id": "aLX8SYPFNjK5",
        "colab_type": "code",
        "outputId": "6db5062f-812d-43a1-9076-34d11b141f59",
        "colab": {
          "base_uri": "https://localhost:8080/",
          "height": 318
        }
      },
      "source": [
        "credits_column_renamed = credits.rename(index=str, columns={\"movie_id\": \"id\"})\n",
        "movies_df_merge = movies_df.merge(credits_column_renamed, on='id')\n",
        "movies_df_merge.head(2)"
      ],
      "execution_count": 0,
      "outputs": [
        {
          "output_type": "execute_result",
          "data": {
            "text/html": [
              "<div>\n",
              "<style scoped>\n",
              "    .dataframe tbody tr th:only-of-type {\n",
              "        vertical-align: middle;\n",
              "    }\n",
              "\n",
              "    .dataframe tbody tr th {\n",
              "        vertical-align: top;\n",
              "    }\n",
              "\n",
              "    .dataframe thead th {\n",
              "        text-align: right;\n",
              "    }\n",
              "</style>\n",
              "<table border=\"1\" class=\"dataframe\">\n",
              "  <thead>\n",
              "    <tr style=\"text-align: right;\">\n",
              "      <th></th>\n",
              "      <th>budget</th>\n",
              "      <th>genres</th>\n",
              "      <th>homepage</th>\n",
              "      <th>id</th>\n",
              "      <th>keywords</th>\n",
              "      <th>original_language</th>\n",
              "      <th>original_title</th>\n",
              "      <th>overview</th>\n",
              "      <th>popularity</th>\n",
              "      <th>production_companies</th>\n",
              "      <th>production_countries</th>\n",
              "      <th>release_date</th>\n",
              "      <th>revenue</th>\n",
              "      <th>runtime</th>\n",
              "      <th>spoken_languages</th>\n",
              "      <th>status</th>\n",
              "      <th>tagline</th>\n",
              "      <th>title_x</th>\n",
              "      <th>vote_average</th>\n",
              "      <th>vote_count</th>\n",
              "      <th>title_y</th>\n",
              "      <th>cast</th>\n",
              "      <th>crew</th>\n",
              "    </tr>\n",
              "  </thead>\n",
              "  <tbody>\n",
              "    <tr>\n",
              "      <th>0</th>\n",
              "      <td>237000000</td>\n",
              "      <td>[{\"id\": 28, \"name\": \"Action\"}, {\"id\": 12, \"nam...</td>\n",
              "      <td>http://www.avatarmovie.com/</td>\n",
              "      <td>19995</td>\n",
              "      <td>[{\"id\": 1463, \"name\": \"culture clash\"}, {\"id\":...</td>\n",
              "      <td>en</td>\n",
              "      <td>Avatar</td>\n",
              "      <td>In the 22nd century, a paraplegic Marine is di...</td>\n",
              "      <td>150.437577</td>\n",
              "      <td>[{\"name\": \"Ingenious Film Partners\", \"id\": 289...</td>\n",
              "      <td>[{\"iso_3166_1\": \"US\", \"name\": \"United States o...</td>\n",
              "      <td>2009-12-10</td>\n",
              "      <td>2787965087</td>\n",
              "      <td>162.0</td>\n",
              "      <td>[{\"iso_639_1\": \"en\", \"name\": \"English\"}, {\"iso...</td>\n",
              "      <td>Released</td>\n",
              "      <td>Enter the World of Pandora.</td>\n",
              "      <td>Avatar</td>\n",
              "      <td>7.2</td>\n",
              "      <td>11800</td>\n",
              "      <td>Avatar</td>\n",
              "      <td>[{\"cast_id\": 242, \"character\": \"Jake Sully\", \"...</td>\n",
              "      <td>[{\"credit_id\": \"52fe48009251416c750aca23\", \"de...</td>\n",
              "    </tr>\n",
              "    <tr>\n",
              "      <th>1</th>\n",
              "      <td>300000000</td>\n",
              "      <td>[{\"id\": 12, \"name\": \"Adventure\"}, {\"id\": 14, \"...</td>\n",
              "      <td>http://disney.go.com/disneypictures/pirates/</td>\n",
              "      <td>285</td>\n",
              "      <td>[{\"id\": 270, \"name\": \"ocean\"}, {\"id\": 726, \"na...</td>\n",
              "      <td>en</td>\n",
              "      <td>Pirates of the Caribbean: At World's End</td>\n",
              "      <td>Captain Barbossa, long believed to be dead, ha...</td>\n",
              "      <td>139.082615</td>\n",
              "      <td>[{\"name\": \"Walt Disney Pictures\", \"id\": 2}, {\"...</td>\n",
              "      <td>[{\"iso_3166_1\": \"US\", \"name\": \"United States o...</td>\n",
              "      <td>2007-05-19</td>\n",
              "      <td>961000000</td>\n",
              "      <td>169.0</td>\n",
              "      <td>[{\"iso_639_1\": \"en\", \"name\": \"English\"}]</td>\n",
              "      <td>Released</td>\n",
              "      <td>At the end of the world, the adventure begins.</td>\n",
              "      <td>Pirates of the Caribbean: At World's End</td>\n",
              "      <td>6.9</td>\n",
              "      <td>4500</td>\n",
              "      <td>Pirates of the Caribbean: At World's End</td>\n",
              "      <td>[{\"cast_id\": 4, \"character\": \"Captain Jack Spa...</td>\n",
              "      <td>[{\"credit_id\": \"52fe4232c3a36847f800b579\", \"de...</td>\n",
              "    </tr>\n",
              "  </tbody>\n",
              "</table>\n",
              "</div>"
            ],
            "text/plain": [
              "      budget  ...                                               crew\n",
              "0  237000000  ...  [{\"credit_id\": \"52fe48009251416c750aca23\", \"de...\n",
              "1  300000000  ...  [{\"credit_id\": \"52fe4232c3a36847f800b579\", \"de...\n",
              "\n",
              "[2 rows x 23 columns]"
            ]
          },
          "metadata": {
            "tags": []
          },
          "execution_count": 11
        }
      ]
    },
    {
      "cell_type": "code",
      "metadata": {
        "id": "SfamDiwmOkJ8",
        "colab_type": "code",
        "outputId": "17553c71-0460-4ed3-dee4-f00b88ca1e80",
        "colab": {
          "base_uri": "https://localhost:8080/",
          "height": 719
        }
      },
      "source": [
        "## Removing the unneccesary coluns\n",
        "movies_cleaned_df = movies_df_merge.drop(columns=['homepage', 'title_x', 'title_y', 'status','production_countries'])\n",
        "movies_cleaned_df.head()"
      ],
      "execution_count": 0,
      "outputs": [
        {
          "output_type": "execute_result",
          "data": {
            "text/html": [
              "<div>\n",
              "<style scoped>\n",
              "    .dataframe tbody tr th:only-of-type {\n",
              "        vertical-align: middle;\n",
              "    }\n",
              "\n",
              "    .dataframe tbody tr th {\n",
              "        vertical-align: top;\n",
              "    }\n",
              "\n",
              "    .dataframe thead th {\n",
              "        text-align: right;\n",
              "    }\n",
              "</style>\n",
              "<table border=\"1\" class=\"dataframe\">\n",
              "  <thead>\n",
              "    <tr style=\"text-align: right;\">\n",
              "      <th></th>\n",
              "      <th>budget</th>\n",
              "      <th>genres</th>\n",
              "      <th>id</th>\n",
              "      <th>keywords</th>\n",
              "      <th>original_language</th>\n",
              "      <th>original_title</th>\n",
              "      <th>overview</th>\n",
              "      <th>popularity</th>\n",
              "      <th>production_companies</th>\n",
              "      <th>release_date</th>\n",
              "      <th>revenue</th>\n",
              "      <th>runtime</th>\n",
              "      <th>spoken_languages</th>\n",
              "      <th>tagline</th>\n",
              "      <th>vote_average</th>\n",
              "      <th>vote_count</th>\n",
              "      <th>cast</th>\n",
              "      <th>crew</th>\n",
              "    </tr>\n",
              "  </thead>\n",
              "  <tbody>\n",
              "    <tr>\n",
              "      <th>0</th>\n",
              "      <td>237000000</td>\n",
              "      <td>[{\"id\": 28, \"name\": \"Action\"}, {\"id\": 12, \"nam...</td>\n",
              "      <td>19995</td>\n",
              "      <td>[{\"id\": 1463, \"name\": \"culture clash\"}, {\"id\":...</td>\n",
              "      <td>en</td>\n",
              "      <td>Avatar</td>\n",
              "      <td>In the 22nd century, a paraplegic Marine is di...</td>\n",
              "      <td>150.437577</td>\n",
              "      <td>[{\"name\": \"Ingenious Film Partners\", \"id\": 289...</td>\n",
              "      <td>2009-12-10</td>\n",
              "      <td>2787965087</td>\n",
              "      <td>162.0</td>\n",
              "      <td>[{\"iso_639_1\": \"en\", \"name\": \"English\"}, {\"iso...</td>\n",
              "      <td>Enter the World of Pandora.</td>\n",
              "      <td>7.2</td>\n",
              "      <td>11800</td>\n",
              "      <td>[{\"cast_id\": 242, \"character\": \"Jake Sully\", \"...</td>\n",
              "      <td>[{\"credit_id\": \"52fe48009251416c750aca23\", \"de...</td>\n",
              "    </tr>\n",
              "    <tr>\n",
              "      <th>1</th>\n",
              "      <td>300000000</td>\n",
              "      <td>[{\"id\": 12, \"name\": \"Adventure\"}, {\"id\": 14, \"...</td>\n",
              "      <td>285</td>\n",
              "      <td>[{\"id\": 270, \"name\": \"ocean\"}, {\"id\": 726, \"na...</td>\n",
              "      <td>en</td>\n",
              "      <td>Pirates of the Caribbean: At World's End</td>\n",
              "      <td>Captain Barbossa, long believed to be dead, ha...</td>\n",
              "      <td>139.082615</td>\n",
              "      <td>[{\"name\": \"Walt Disney Pictures\", \"id\": 2}, {\"...</td>\n",
              "      <td>2007-05-19</td>\n",
              "      <td>961000000</td>\n",
              "      <td>169.0</td>\n",
              "      <td>[{\"iso_639_1\": \"en\", \"name\": \"English\"}]</td>\n",
              "      <td>At the end of the world, the adventure begins.</td>\n",
              "      <td>6.9</td>\n",
              "      <td>4500</td>\n",
              "      <td>[{\"cast_id\": 4, \"character\": \"Captain Jack Spa...</td>\n",
              "      <td>[{\"credit_id\": \"52fe4232c3a36847f800b579\", \"de...</td>\n",
              "    </tr>\n",
              "    <tr>\n",
              "      <th>2</th>\n",
              "      <td>245000000</td>\n",
              "      <td>[{\"id\": 28, \"name\": \"Action\"}, {\"id\": 12, \"nam...</td>\n",
              "      <td>206647</td>\n",
              "      <td>[{\"id\": 470, \"name\": \"spy\"}, {\"id\": 818, \"name...</td>\n",
              "      <td>en</td>\n",
              "      <td>Spectre</td>\n",
              "      <td>A cryptic message from Bond’s past sends him o...</td>\n",
              "      <td>107.376788</td>\n",
              "      <td>[{\"name\": \"Columbia Pictures\", \"id\": 5}, {\"nam...</td>\n",
              "      <td>2015-10-26</td>\n",
              "      <td>880674609</td>\n",
              "      <td>148.0</td>\n",
              "      <td>[{\"iso_639_1\": \"fr\", \"name\": \"Fran\\u00e7ais\"},...</td>\n",
              "      <td>A Plan No One Escapes</td>\n",
              "      <td>6.3</td>\n",
              "      <td>4466</td>\n",
              "      <td>[{\"cast_id\": 1, \"character\": \"James Bond\", \"cr...</td>\n",
              "      <td>[{\"credit_id\": \"54805967c3a36829b5002c41\", \"de...</td>\n",
              "    </tr>\n",
              "    <tr>\n",
              "      <th>3</th>\n",
              "      <td>250000000</td>\n",
              "      <td>[{\"id\": 28, \"name\": \"Action\"}, {\"id\": 80, \"nam...</td>\n",
              "      <td>49026</td>\n",
              "      <td>[{\"id\": 849, \"name\": \"dc comics\"}, {\"id\": 853,...</td>\n",
              "      <td>en</td>\n",
              "      <td>The Dark Knight Rises</td>\n",
              "      <td>Following the death of District Attorney Harve...</td>\n",
              "      <td>112.312950</td>\n",
              "      <td>[{\"name\": \"Legendary Pictures\", \"id\": 923}, {\"...</td>\n",
              "      <td>2012-07-16</td>\n",
              "      <td>1084939099</td>\n",
              "      <td>165.0</td>\n",
              "      <td>[{\"iso_639_1\": \"en\", \"name\": \"English\"}]</td>\n",
              "      <td>The Legend Ends</td>\n",
              "      <td>7.6</td>\n",
              "      <td>9106</td>\n",
              "      <td>[{\"cast_id\": 2, \"character\": \"Bruce Wayne / Ba...</td>\n",
              "      <td>[{\"credit_id\": \"52fe4781c3a36847f81398c3\", \"de...</td>\n",
              "    </tr>\n",
              "    <tr>\n",
              "      <th>4</th>\n",
              "      <td>260000000</td>\n",
              "      <td>[{\"id\": 28, \"name\": \"Action\"}, {\"id\": 12, \"nam...</td>\n",
              "      <td>49529</td>\n",
              "      <td>[{\"id\": 818, \"name\": \"based on novel\"}, {\"id\":...</td>\n",
              "      <td>en</td>\n",
              "      <td>John Carter</td>\n",
              "      <td>John Carter is a war-weary, former military ca...</td>\n",
              "      <td>43.926995</td>\n",
              "      <td>[{\"name\": \"Walt Disney Pictures\", \"id\": 2}]</td>\n",
              "      <td>2012-03-07</td>\n",
              "      <td>284139100</td>\n",
              "      <td>132.0</td>\n",
              "      <td>[{\"iso_639_1\": \"en\", \"name\": \"English\"}]</td>\n",
              "      <td>Lost in our world, found in another.</td>\n",
              "      <td>6.1</td>\n",
              "      <td>2124</td>\n",
              "      <td>[{\"cast_id\": 5, \"character\": \"John Carter\", \"c...</td>\n",
              "      <td>[{\"credit_id\": \"52fe479ac3a36847f813eaa3\", \"de...</td>\n",
              "    </tr>\n",
              "  </tbody>\n",
              "</table>\n",
              "</div>"
            ],
            "text/plain": [
              "      budget  ...                                               crew\n",
              "0  237000000  ...  [{\"credit_id\": \"52fe48009251416c750aca23\", \"de...\n",
              "1  300000000  ...  [{\"credit_id\": \"52fe4232c3a36847f800b579\", \"de...\n",
              "2  245000000  ...  [{\"credit_id\": \"54805967c3a36829b5002c41\", \"de...\n",
              "3  250000000  ...  [{\"credit_id\": \"52fe4781c3a36847f81398c3\", \"de...\n",
              "4  260000000  ...  [{\"credit_id\": \"52fe479ac3a36847f813eaa3\", \"de...\n",
              "\n",
              "[5 rows x 18 columns]"
            ]
          },
          "metadata": {
            "tags": []
          },
          "execution_count": 12
        }
      ]
    },
    {
      "cell_type": "markdown",
      "metadata": {
        "id": "azvEuiirPgNX",
        "colab_type": "text"
      },
      "source": [
        "#### Content Based Recommendation System\n",
        "Now lets make a recommendations based on the movie’s plot summaries given in the overview column. So if our user gives us a movie title, our goal is to recommend movies that share similar plot summaries."
      ]
    },
    {
      "cell_type": "code",
      "metadata": {
        "id": "nOx_6gR3PE-S",
        "colab_type": "code",
        "outputId": "99cae06b-abbd-46a6-b031-af0814da3919",
        "colab": {
          "base_uri": "https://localhost:8080/",
          "height": 55
        }
      },
      "source": [
        "movies_cleaned_df.overview[0]"
      ],
      "execution_count": 0,
      "outputs": [
        {
          "output_type": "execute_result",
          "data": {
            "text/plain": [
              "'In the 22nd century, a paraplegic Marine is dispatched to the moon Pandora on a unique mission, but becomes torn between following orders and protecting an alien civilization.'"
            ]
          },
          "metadata": {
            "tags": []
          },
          "execution_count": 13
        }
      ]
    },
    {
      "cell_type": "markdown",
      "metadata": {
        "id": "x5jD7OvAQRbz",
        "colab_type": "text"
      },
      "source": [
        "We will convert the overview column in  vector format by using tfidf a document matrix algo  "
      ]
    },
    {
      "cell_type": "code",
      "metadata": {
        "id": "ALByIBuGP3tt",
        "colab_type": "code",
        "colab": {}
      },
      "source": [
        "from sklearn.feature_extraction.text import TfidfVectorizer\n",
        "\n",
        "\n",
        "tfv = TfidfVectorizer(min_df=3,  max_features=None, \n",
        "            strip_accents='unicode', analyzer='word',token_pattern=r'\\w{1,}',\n",
        "            ngram_range=(1, 3),\n",
        "            stop_words = 'english')\n",
        "\n",
        "# Filling NaNs with empty string\n",
        "movies_cleaned_df['overview'] = movies_cleaned_df['overview'].fillna('')"
      ],
      "execution_count": 0,
      "outputs": []
    },
    {
      "cell_type": "code",
      "metadata": {
        "id": "0g6O39IgQPXM",
        "colab_type": "code",
        "colab": {}
      },
      "source": [
        "# Fitting the TF-IDF on the 'overview' text\n",
        "tfv_matrix = tfv.fit_transform(movies_cleaned_df['overview'])"
      ],
      "execution_count": 0,
      "outputs": []
    },
    {
      "cell_type": "code",
      "metadata": {
        "id": "tji6IrLNQvDT",
        "colab_type": "code",
        "outputId": "95d385f3-86ff-4d48-d6b1-352e612dce9b",
        "colab": {
          "base_uri": "https://localhost:8080/",
          "height": 54
        }
      },
      "source": [
        "tfv_matrix"
      ],
      "execution_count": 0,
      "outputs": [
        {
          "output_type": "execute_result",
          "data": {
            "text/plain": [
              "<4803x10417 sparse matrix of type '<class 'numpy.float64'>'\n",
              "\twith 127220 stored elements in Compressed Sparse Row format>"
            ]
          },
          "metadata": {
            "tags": []
          },
          "execution_count": 19
        }
      ]
    },
    {
      "cell_type": "code",
      "metadata": {
        "id": "MFBhaBwcQyJO",
        "colab_type": "code",
        "colab": {}
      },
      "source": [
        "from sklearn.metrics.pairwise import sigmoid_kernel\n",
        "# Compute the sigmoid kernel for comparing the comments with other comments like a correlation and the range for sig function ranges from 0 to 1\n",
        "sig = sigmoid_kernel(tfv_matrix, tfv_matrix)"
      ],
      "execution_count": 0,
      "outputs": []
    },
    {
      "cell_type": "code",
      "metadata": {
        "id": "VqZGvG8iRaO1",
        "colab_type": "code",
        "outputId": "6fd84329-9931-490a-d037-f842e5e46c02",
        "colab": {
          "base_uri": "https://localhost:8080/",
          "height": 1000
        }
      },
      "source": [
        "# Reverse mapping of indices and movie titles\n",
        "indices = pd.Series(movies_cleaned_df.index, index=movies_cleaned_df['original_title']).drop_duplicates()\n",
        "indices"
      ],
      "execution_count": 0,
      "outputs": [
        {
          "output_type": "execute_result",
          "data": {
            "text/plain": [
              "original_title\n",
              "Avatar                                            0\n",
              "Pirates of the Caribbean: At World's End          1\n",
              "Spectre                                           2\n",
              "The Dark Knight Rises                             3\n",
              "John Carter                                       4\n",
              "Spider-Man 3                                      5\n",
              "Tangled                                           6\n",
              "Avengers: Age of Ultron                           7\n",
              "Harry Potter and the Half-Blood Prince            8\n",
              "Batman v Superman: Dawn of Justice                9\n",
              "Superman Returns                                 10\n",
              "Quantum of Solace                                11\n",
              "Pirates of the Caribbean: Dead Man's Chest       12\n",
              "The Lone Ranger                                  13\n",
              "Man of Steel                                     14\n",
              "The Chronicles of Narnia: Prince Caspian         15\n",
              "The Avengers                                     16\n",
              "Pirates of the Caribbean: On Stranger Tides      17\n",
              "Men in Black 3                                   18\n",
              "The Hobbit: The Battle of the Five Armies        19\n",
              "The Amazing Spider-Man                           20\n",
              "Robin Hood                                       21\n",
              "The Hobbit: The Desolation of Smaug              22\n",
              "The Golden Compass                               23\n",
              "King Kong                                        24\n",
              "Titanic                                          25\n",
              "Captain America: Civil War                       26\n",
              "Battleship                                       27\n",
              "Jurassic World                                   28\n",
              "Skyfall                                          29\n",
              "                                               ... \n",
              "Clerks                                         4773\n",
              "Pink Narcissus                                 4774\n",
              "Funny Ha Ha                                    4775\n",
              "In the Company of Men                          4776\n",
              "Manito                                         4777\n",
              "Rampage                                        4778\n",
              "Slacker                                        4779\n",
              "Dutch Kills                                    4780\n",
              "Dry Spell                                      4781\n",
              "Flywheel                                       4782\n",
              "Backmask                                       4783\n",
              "The Puffy Chair                                4784\n",
              "Stories of Our Lives                           4785\n",
              "Breaking Upwards                               4786\n",
              "All Superheroes Must Die                       4787\n",
              "Pink Flamingos                                 4788\n",
              "Clean                                          4789\n",
              "دایره                                          4790\n",
              "Tin Can Man                                    4791\n",
              "キュア                                            4792\n",
              "On The Downlow                                 4793\n",
              "Sanctuary: Quite a Conundrum                   4794\n",
              "Bang                                           4795\n",
              "Primer                                         4796\n",
              "Cavite                                         4797\n",
              "El Mariachi                                    4798\n",
              "Newlyweds                                      4799\n",
              "Signed, Sealed, Delivered                      4800\n",
              "Shanghai Calling                               4801\n",
              "My Date with Drew                              4802\n",
              "Length: 4803, dtype: int64"
            ]
          },
          "metadata": {
            "tags": []
          },
          "execution_count": 23
        }
      ]
    },
    {
      "cell_type": "code",
      "metadata": {
        "id": "5DMVdPRWRwhw",
        "colab_type": "code",
        "outputId": "df6ef9f9-33a0-4b3e-f94a-4ea922a1e6f1",
        "colab": {
          "base_uri": "https://localhost:8080/",
          "height": 35
        }
      },
      "source": [
        "indices['Pirates of the Caribbean: On Stranger Tides']"
      ],
      "execution_count": 0,
      "outputs": [
        {
          "output_type": "execute_result",
          "data": {
            "text/plain": [
              "17"
            ]
          },
          "metadata": {
            "tags": []
          },
          "execution_count": 24
        }
      ]
    },
    {
      "cell_type": "code",
      "metadata": {
        "id": "HkPyNY2SR-PF",
        "colab_type": "code",
        "outputId": "d29cca09-2ddc-49f8-e042-29b74d95ec8f",
        "colab": {
          "base_uri": "https://localhost:8080/",
          "height": 54
        }
      },
      "source": [
        "sig[17]"
      ],
      "execution_count": 0,
      "outputs": [
        {
          "output_type": "execute_result",
          "data": {
            "text/plain": [
              "array([0.76159416, 0.76159541, 0.76159644, ..., 0.7615954 , 0.76159416,\n",
              "       0.76159589])"
            ]
          },
          "metadata": {
            "tags": []
          },
          "execution_count": 25
        }
      ]
    },
    {
      "cell_type": "code",
      "metadata": {
        "id": "YkvCQkzhSELd",
        "colab_type": "code",
        "outputId": "eaaddd3e-cdbe-412b-d2a3-5b0f1fdd38d2",
        "colab": {
          "base_uri": "https://localhost:8080/",
          "height": 1000
        }
      },
      "source": [
        "list(enumerate(sig[indices['Pirates of the Caribbean: On Stranger Tides']]))"
      ],
      "execution_count": 0,
      "outputs": [
        {
          "output_type": "execute_result",
          "data": {
            "text/plain": [
              "[(0, 0.7615941559557649),\n",
              " (1, 0.7615954060634137),\n",
              " (2, 0.761596443626416),\n",
              " (3, 0.7615950693813744),\n",
              " (4, 0.761595905734489),\n",
              " (5, 0.7615948174386417),\n",
              " (6, 0.7615956683856103),\n",
              " (7, 0.7615959222455473),\n",
              " (8, 0.7615958906417087),\n",
              " (9, 0.7615965009429913),\n",
              " (10, 0.7615947498576932),\n",
              " (11, 0.761594874410723),\n",
              " (12, 0.7616039624975609),\n",
              " (13, 0.7615941559557649),\n",
              " (14, 0.7615941559557649),\n",
              " (15, 0.7615941559557649),\n",
              " (16, 0.761595722001724),\n",
              " (17, 0.7616344692549826),\n",
              " (18, 0.7615944434374463),\n",
              " (19, 0.7615949594905843),\n",
              " (20, 0.7615944681707486),\n",
              " (21, 0.7615960430035877),\n",
              " (22, 0.7615941559557649),\n",
              " (23, 0.761595624315122),\n",
              " (24, 0.761595122739979),\n",
              " (25, 0.7615977450530766),\n",
              " (26, 0.7615949769237054),\n",
              " (27, 0.7615948352137702),\n",
              " (28, 0.7615941559557649),\n",
              " (29, 0.7615944967114796),\n",
              " (30, 0.7615949060300907),\n",
              " (31, 0.7615967047477871),\n",
              " (32, 0.7615951121295697),\n",
              " (33, 0.7615947780436787),\n",
              " (34, 0.7615948232749321),\n",
              " (35, 0.7615941559557649),\n",
              " (36, 0.7615952169223588),\n",
              " (37, 0.7615956633578076),\n",
              " (38, 0.7615951864944585),\n",
              " (39, 0.7615946150285908),\n",
              " (40, 0.7615948856580517),\n",
              " (41, 0.7615941559557649),\n",
              " (42, 0.7615949176080306),\n",
              " (43, 0.7615971557189493),\n",
              " (44, 0.7615953347265091),\n",
              " (45, 0.7615941559557649),\n",
              " (46, 0.7615961633436926),\n",
              " (47, 0.7615950372444472),\n",
              " (48, 0.7615956007303801),\n",
              " (49, 0.7615952300771601),\n",
              " (50, 0.761595469578296),\n",
              " (51, 0.761595927309031),\n",
              " (52, 0.7615946334110998),\n",
              " (53, 0.7615949628583178),\n",
              " (54, 0.7615941559557649),\n",
              " (55, 0.7615958557554523),\n",
              " (56, 0.7615941559557649),\n",
              " (57, 0.7615958436310395),\n",
              " (58, 0.7615955505963573),\n",
              " (59, 0.7615953552998052),\n",
              " (60, 0.761595202063764),\n",
              " (61, 0.7615953010846916),\n",
              " (62, 0.7615941559557649),\n",
              " (63, 0.7615945942973151),\n",
              " (64, 0.7615948375400712),\n",
              " (65, 0.7615941559557649),\n",
              " (66, 0.7615941559557649),\n",
              " (67, 0.7615941559557649),\n",
              " (68, 0.7615941559557649),\n",
              " (69, 0.7615963891498724),\n",
              " (70, 0.7615946227551184),\n",
              " (71, 0.7615945926873189),\n",
              " (72, 0.7615941559557649),\n",
              " (73, 0.7615941559557649),\n",
              " (74, 0.7615941559557649),\n",
              " (75, 0.7615980763465199),\n",
              " (76, 0.7615941559557649),\n",
              " (77, 0.7615953422530826),\n",
              " (78, 0.7615948471359926),\n",
              " (79, 0.7615941559557649),\n",
              " (80, 0.7615962555922164),\n",
              " (81, 0.7615967983033545),\n",
              " (82, 0.7615941559557649),\n",
              " (83, 0.7615957860763968),\n",
              " (84, 0.7615949424894207),\n",
              " (85, 0.7615971336347753),\n",
              " (86, 0.7615949344979726),\n",
              " (87, 0.7615941559557649),\n",
              " (88, 0.7615941559557649),\n",
              " (89, 0.7615948551957917),\n",
              " (90, 0.7615941559557649),\n",
              " (91, 0.7615950276640784),\n",
              " (92, 0.7615941559557649),\n",
              " (93, 0.7615965851195177),\n",
              " (94, 0.7615947140118619),\n",
              " (95, 0.7615941559557649),\n",
              " (96, 0.7615952024827148),\n",
              " (97, 0.7615945523333698),\n",
              " (98, 0.7615941559557649),\n",
              " (99, 0.7615949565629978),\n",
              " (100, 0.7615941559557649),\n",
              " (101, 0.7615941559557649),\n",
              " (102, 0.7615941559557649),\n",
              " (103, 0.7615950060846446),\n",
              " (104, 0.7615953757377566),\n",
              " (105, 0.761595802642659),\n",
              " (106, 0.7615952873199484),\n",
              " (107, 0.7615941559557649),\n",
              " (108, 0.7615956954986494),\n",
              " (109, 0.761595687749753),\n",
              " (110, 0.761594805812643),\n",
              " (111, 0.7615941559557649),\n",
              " (112, 0.7615941559557649),\n",
              " (113, 0.7615946148788164),\n",
              " (114, 0.7615941559557649),\n",
              " (115, 0.7615955437717148),\n",
              " (116, 0.7615941559557649),\n",
              " (117, 0.7615948457131387),\n",
              " (118, 0.7615949104359188),\n",
              " (119, 0.7615951354612994),\n",
              " (120, 0.7615941559557649),\n",
              " (121, 0.7615946375629646),\n",
              " (122, 0.7615941559557649),\n",
              " (123, 0.7615941559557649),\n",
              " (124, 0.7615962854701814),\n",
              " (125, 0.7615946238760553),\n",
              " (126, 0.7615941559557649),\n",
              " (127, 0.7615957617187328),\n",
              " (128, 0.7615941559557649),\n",
              " (129, 0.761595086966833),\n",
              " (130, 0.7615950856917957),\n",
              " (131, 0.7615941559557649),\n",
              " (132, 0.7615945250940178),\n",
              " (133, 0.7615941559557649),\n",
              " (134, 0.7615941559557649),\n",
              " (135, 0.7615941559557649),\n",
              " (136, 0.7615945659691163),\n",
              " (137, 0.7615956339180381),\n",
              " (138, 0.7615941559557649),\n",
              " (139, 0.7615941559557649),\n",
              " (140, 0.76159492239805),\n",
              " (141, 0.7615941559557649),\n",
              " (142, 0.761594920176546),\n",
              " (143, 0.7615964902333336),\n",
              " (144, 0.7615941559557649),\n",
              " (145, 0.7615951484274037),\n",
              " (146, 0.7615945722345014),\n",
              " (147, 0.7615946103330385),\n",
              " (148, 0.7615941559557649),\n",
              " (149, 0.7615945163441674),\n",
              " (150, 0.7615951823570212),\n",
              " (151, 0.7615941559557649),\n",
              " (152, 0.7615941559557649),\n",
              " (153, 0.7615941559557649),\n",
              " (154, 0.7615949174062615),\n",
              " (155, 0.7615957410771447),\n",
              " (156, 0.7615949176529178),\n",
              " (157, 0.7615941559557649),\n",
              " (158, 0.7615947013903782),\n",
              " (159, 0.7615941559557649),\n",
              " (160, 0.761594515073983),\n",
              " (161, 0.7615941559557649),\n",
              " (162, 0.7615941559557649),\n",
              " (163, 0.7615941559557649),\n",
              " (164, 0.7615951156946795),\n",
              " (165, 0.7615954664616922),\n",
              " (166, 0.7615948647887598),\n",
              " (167, 0.7615953035546832),\n",
              " (168, 0.7615941559557649),\n",
              " (169, 0.7615973494882081),\n",
              " (170, 0.7615961795829347),\n",
              " (171, 0.7615968503252404),\n",
              " (172, 0.7615941559557649),\n",
              " (173, 0.7615946824736766),\n",
              " (174, 0.7615946173768072),\n",
              " (175, 0.7615946177974268),\n",
              " (176, 0.7615941559557649),\n",
              " (177, 0.7615941559557649),\n",
              " (178, 0.7615945521439851),\n",
              " (179, 0.761595998345642),\n",
              " (180, 0.7615955218427568),\n",
              " (181, 0.7615950065175436),\n",
              " (182, 0.7615941559557649),\n",
              " (183, 0.7615944933935748),\n",
              " (184, 0.7615948715695607),\n",
              " (185, 0.7615941559557649),\n",
              " (186, 0.7615941559557649),\n",
              " (187, 0.7615948320681893),\n",
              " (188, 0.7615952777873739),\n",
              " (189, 0.7615941559557649),\n",
              " (190, 0.7615964927040798),\n",
              " (191, 0.7615941559557649),\n",
              " (192, 0.7615946843834118),\n",
              " (193, 0.7615951369130431),\n",
              " (194, 0.7615941559557649),\n",
              " (195, 0.7615941559557649),\n",
              " (196, 0.7615941559557649),\n",
              " (197, 0.7615957437698719),\n",
              " (198, 0.7615941559557649),\n",
              " (199, 0.7616037110933859),\n",
              " (200, 0.7615941559557649),\n",
              " (201, 0.7615947859630882),\n",
              " (202, 0.7615947303113519),\n",
              " (203, 0.7615946140877734),\n",
              " (204, 0.7615941559557649),\n",
              " (205, 0.7615941559557649),\n",
              " (206, 0.7615941559557649),\n",
              " (207, 0.7615960979619137),\n",
              " (208, 0.7615941559557649),\n",
              " (209, 0.7615941559557649),\n",
              " (210, 0.7615941559557649),\n",
              " (211, 0.7615944955558249),\n",
              " (212, 0.7615955728057062),\n",
              " (213, 0.7615941559557649),\n",
              " (214, 0.7615947395415904),\n",
              " (215, 0.7615941559557649),\n",
              " (216, 0.761595288468016),\n",
              " (217, 0.7615970816361399),\n",
              " (218, 0.7615962260211729),\n",
              " (219, 0.7615941559557649),\n",
              " (220, 0.7615941559557649),\n",
              " (221, 0.7615946371968453),\n",
              " (222, 0.7615954127458371),\n",
              " (223, 0.7615960991890761),\n",
              " (224, 0.7615941559557649),\n",
              " (225, 0.7615941559557649),\n",
              " (226, 0.7615962728152387),\n",
              " (227, 0.7615959784888712),\n",
              " (228, 0.7615975292351118),\n",
              " (229, 0.7615946502895597),\n",
              " (230, 0.7615949178244179),\n",
              " (231, 0.7615941559557649),\n",
              " (232, 0.7615941559557649),\n",
              " (233, 0.7615950589919398),\n",
              " (234, 0.7615953558310755),\n",
              " (235, 0.7615941559557649),\n",
              " (236, 0.7615941559557649),\n",
              " (237, 0.7615941559557649),\n",
              " (238, 0.7615945167393143),\n",
              " (239, 0.7615948891553745),\n",
              " (240, 0.7615946088547343),\n",
              " (241, 0.7615947299130139),\n",
              " (242, 0.7615941559557649),\n",
              " (243, 0.7615945658052015),\n",
              " (244, 0.7615941559557649),\n",
              " (245, 0.7615946742745228),\n",
              " (246, 0.7615941559557649),\n",
              " (247, 0.7615941559557649),\n",
              " (248, 0.761594633725757),\n",
              " (249, 0.7615941559557649),\n",
              " (250, 0.7615941559557649),\n",
              " (251, 0.7615941559557649),\n",
              " (252, 0.7615951203756249),\n",
              " (253, 0.7615949196221445),\n",
              " (254, 0.7615941559557649),\n",
              " (255, 0.7615947089535188),\n",
              " (256, 0.7615941559557649),\n",
              " (257, 0.761594643296328),\n",
              " (258, 0.7615948258487935),\n",
              " (259, 0.7615941559557649),\n",
              " (260, 0.7615954789650008),\n",
              " (261, 0.7615952446038622),\n",
              " (262, 0.7615952699832195),\n",
              " (263, 0.7615963159726149),\n",
              " (264, 0.7615945256957942),\n",
              " (265, 0.7615947075581662),\n",
              " (266, 0.7615941559557649),\n",
              " (267, 0.7615941559557649),\n",
              " (268, 0.7615941559557649),\n",
              " (269, 0.7615941559557649),\n",
              " (270, 0.7615945304521661),\n",
              " (271, 0.7615941559557649),\n",
              " (272, 0.7615950556754818),\n",
              " (273, 0.7615945711863487),\n",
              " (274, 0.7615944283695284),\n",
              " (275, 0.7615941559557649),\n",
              " (276, 0.7615941559557649),\n",
              " (277, 0.7615945156913813),\n",
              " (278, 0.7615952185450945),\n",
              " (279, 0.7615941559557649),\n",
              " (280, 0.761595328654207),\n",
              " (281, 0.7615941559557649),\n",
              " (282, 0.7615941559557649),\n",
              " (283, 0.7615946856999314),\n",
              " (284, 0.7615980420339221),\n",
              " (285, 0.7615951688030491),\n",
              " (286, 0.7615957223946808),\n",
              " (287, 0.7615941559557649),\n",
              " (288, 0.7615946345610447),\n",
              " (289, 0.7615972486638342),\n",
              " (290, 0.7615960291212724),\n",
              " (291, 0.7615945525045466),\n",
              " (292, 0.7615954860275701),\n",
              " (293, 0.7615941559557649),\n",
              " (294, 0.7615959059300712),\n",
              " (295, 0.7615956642117601),\n",
              " (296, 0.7615952976416147),\n",
              " (297, 0.7615951193105486),\n",
              " (298, 0.7615947528539241),\n",
              " (299, 0.7615948062762681),\n",
              " (300, 0.7615946080422875),\n",
              " (301, 0.7615949401610966),\n",
              " (302, 0.761595115919134),\n",
              " (303, 0.7615957721131008),\n",
              " (304, 0.7615953068563998),\n",
              " (305, 0.7615952897660612),\n",
              " (306, 0.7615941559557649),\n",
              " (307, 0.7615945895684954),\n",
              " (308, 0.7615941559557649),\n",
              " (309, 0.7615946193186572),\n",
              " (310, 0.7615967073813097),\n",
              " (311, 0.7615945314330053),\n",
              " (312, 0.7615945881344077),\n",
              " (313, 0.7615941559557649),\n",
              " (314, 0.7615951527799023),\n",
              " (315, 0.7615964529979043),\n",
              " (316, 0.7615945402231616),\n",
              " (317, 0.761595259589722),\n",
              " (318, 0.761594492105926),\n",
              " (319, 0.7615953036395664),\n",
              " (320, 0.7615947312242005),\n",
              " (321, 0.7615941559557649),\n",
              " (322, 0.7615941559557649),\n",
              " (323, 0.7615941559557649),\n",
              " (324, 0.7615955031832999),\n",
              " (325, 0.7615968713894503),\n",
              " (326, 0.7615950813141327),\n",
              " (327, 0.7615948795774045),\n",
              " (328, 0.7615952063354288),\n",
              " (329, 0.7615959066846154),\n",
              " (330, 0.7615941559557649),\n",
              " (331, 0.7615949646003727),\n",
              " (332, 0.7615946223653612),\n",
              " (333, 0.7615941559557649),\n",
              " (334, 0.761594489280599),\n",
              " (335, 0.7615946288573724),\n",
              " (336, 0.7615941559557649),\n",
              " (337, 0.761596863375967),\n",
              " (338, 0.7615956161136276),\n",
              " (339, 0.76159473992212),\n",
              " (340, 0.7615953438997302),\n",
              " (341, 0.7615946331622463),\n",
              " (342, 0.7615945086024469),\n",
              " (343, 0.7615948206158901),\n",
              " (344, 0.7615941559557649),\n",
              " (345, 0.761595200822436),\n",
              " (346, 0.7615957652532149),\n",
              " (347, 0.7615941559557649),\n",
              " (348, 0.7615941559557649),\n",
              " (349, 0.7615951761125117),\n",
              " (350, 0.7615941559557649),\n",
              " (351, 0.761595119786418),\n",
              " (352, 0.7615950449601203),\n",
              " (353, 0.7615952517071642),\n",
              " (354, 0.7615945857254572),\n",
              " (355, 0.7615944265937816),\n",
              " (356, 0.7615941559557649),\n",
              " (357, 0.7615941559557649),\n",
              " (358, 0.7615947739652631),\n",
              " (359, 0.7615941559557649),\n",
              " (360, 0.7615944712934352),\n",
              " (361, 0.7615946823052686),\n",
              " (362, 0.7615941559557649),\n",
              " (363, 0.7615951248360338),\n",
              " (364, 0.7615945890994079),\n",
              " (365, 0.7615941559557649),\n",
              " (366, 0.7615954319841138),\n",
              " (367, 0.7615941559557649),\n",
              " (368, 0.7615941559557649),\n",
              " (369, 0.761594920061234),\n",
              " (370, 0.7615947396359883),\n",
              " (371, 0.7615948304073616),\n",
              " (372, 0.7615941559557649),\n",
              " (373, 0.7615941559557649),\n",
              " (374, 0.7615946647405163),\n",
              " (375, 0.7615948016558238),\n",
              " (376, 0.7615945612546323),\n",
              " (377, 0.7615958406268142),\n",
              " (378, 0.7615958225975479),\n",
              " (379, 0.7615941559557649),\n",
              " (380, 0.7615948453335113),\n",
              " (381, 0.7615947861988832),\n",
              " (382, 0.7615941559557649),\n",
              " (383, 0.7615941559557649),\n",
              " (384, 0.7615960531509101),\n",
              " (385, 0.7615941559557649),\n",
              " (386, 0.7615941559557649),\n",
              " (387, 0.7615945492739694),\n",
              " (388, 0.7615945620395812),\n",
              " (389, 0.7615941559557649),\n",
              " (390, 0.7615947746322107),\n",
              " (391, 0.7615966496667447),\n",
              " (392, 0.7615946639925223),\n",
              " (393, 0.7615946080279803),\n",
              " (394, 0.7615952920605734),\n",
              " (395, 0.7615972024404575),\n",
              " (396, 0.7615941559557649),\n",
              " (397, 0.761594652082178),\n",
              " (398, 0.76159552588595),\n",
              " (399, 0.7615944771272588),\n",
              " (400, 0.7615956635031207),\n",
              " (401, 0.7615941559557649),\n",
              " (402, 0.7615957468894484),\n",
              " (403, 0.7615985491294994),\n",
              " (404, 0.7615941559557649),\n",
              " (405, 0.7615941559557649),\n",
              " (406, 0.7615945022071289),\n",
              " (407, 0.7615963914646043),\n",
              " (408, 0.7615941559557649),\n",
              " (409, 0.7615946997605989),\n",
              " (410, 0.7615968820983356),\n",
              " (411, 0.7615943986068971),\n",
              " (412, 0.7615956421289443),\n",
              " (413, 0.7615952444880121),\n",
              " (414, 0.7615941559557649),\n",
              " (415, 0.7615943980458011),\n",
              " (416, 0.7615946047879416),\n",
              " (417, 0.7615941559557649),\n",
              " (418, 0.7615949505577682),\n",
              " (419, 0.7615945953903389),\n",
              " (420, 0.761594796960785),\n",
              " (421, 0.7615941559557649),\n",
              " (422, 0.7615941559557649),\n",
              " (423, 0.761594452455081),\n",
              " (424, 0.7615941559557649),\n",
              " (425, 0.7615951142990023),\n",
              " (426, 0.761595015128553),\n",
              " (427, 0.7615952716696568),\n",
              " (428, 0.7615944726463262),\n",
              " (429, 0.7615941559557649),\n",
              " (430, 0.7615958014399071),\n",
              " (431, 0.7615941559557649),\n",
              " (432, 0.7615945636783559),\n",
              " (433, 0.7615941559557649),\n",
              " (434, 0.7615941559557649),\n",
              " (435, 0.7615972403519107),\n",
              " (436, 0.7615941559557649),\n",
              " (437, 0.7615941559557649),\n",
              " (438, 0.7615948657066047),\n",
              " (439, 0.761594648620332),\n",
              " (440, 0.7615941559557649),\n",
              " (441, 0.761594700059875),\n",
              " (442, 0.7615946636211167),\n",
              " (443, 0.7615945643140695),\n",
              " (444, 0.761595020487105),\n",
              " (445, 0.7615946280754847),\n",
              " (446, 0.7615946197974303),\n",
              " (447, 0.7615952051695623),\n",
              " (448, 0.7615944275449206),\n",
              " (449, 0.7615941559557649),\n",
              " (450, 0.7615945859621108),\n",
              " (451, 0.7615941559557649),\n",
              " (452, 0.7615941559557649),\n",
              " (453, 0.7615941559557649),\n",
              " (454, 0.7615941559557649),\n",
              " (455, 0.7615941559557649),\n",
              " (456, 0.7615945211768156),\n",
              " (457, 0.7615941559557649),\n",
              " (458, 0.7615946546559323),\n",
              " (459, 0.7615952912224604),\n",
              " (460, 0.7616005867869151),\n",
              " (461, 0.7615941559557649),\n",
              " (462, 0.7615948763962359),\n",
              " (463, 0.7615945154305547),\n",
              " (464, 0.7615941559557649),\n",
              " (465, 0.7615948150675934),\n",
              " (466, 0.7615959381600624),\n",
              " (467, 0.7615945057990383),\n",
              " (468, 0.7615941559557649),\n",
              " (469, 0.7615965737501896),\n",
              " (470, 0.7615941559557649),\n",
              " (471, 0.7615941559557649),\n",
              " (472, 0.7615941559557649),\n",
              " (473, 0.761594572623529),\n",
              " (474, 0.7615941559557649),\n",
              " (475, 0.7615941559557649),\n",
              " (476, 0.7615941559557649),\n",
              " (477, 0.7615941559557649),\n",
              " (478, 0.7615941559557649),\n",
              " (479, 0.7615941559557649),\n",
              " (480, 0.7615949652973395),\n",
              " (481, 0.7615941559557649),\n",
              " (482, 0.7615945533286983),\n",
              " (483, 0.7615957883595996),\n",
              " (484, 0.7615941559557649),\n",
              " (485, 0.7615946754370679),\n",
              " (486, 0.7615952847350486),\n",
              " (487, 0.7615941559557649),\n",
              " (488, 0.7615944605822426),\n",
              " (489, 0.7615941559557649),\n",
              " (490, 0.7615941559557649),\n",
              " (491, 0.7615947091730418),\n",
              " (492, 0.7615960120670969),\n",
              " (493, 0.7615949916983876),\n",
              " (494, 0.7615948327930021),\n",
              " (495, 0.7615948753214153),\n",
              " (496, 0.7615941559557649),\n",
              " (497, 0.7615941559557649),\n",
              " (498, 0.7615951105236904),\n",
              " (499, 0.7615974286919923),\n",
              " (500, 0.7615946012436611),\n",
              " (501, 0.7615941559557649),\n",
              " (502, 0.7615952123018643),\n",
              " (503, 0.7615941559557649),\n",
              " (504, 0.7615941559557649),\n",
              " (505, 0.7615941559557649),\n",
              " (506, 0.7615941559557649),\n",
              " (507, 0.7615941559557649),\n",
              " (508, 0.7615945667530919),\n",
              " (509, 0.7615954747571274),\n",
              " (510, 0.7615955874622296),\n",
              " (511, 0.7615941559557649),\n",
              " (512, 0.7615941559557649),\n",
              " (513, 0.7615941559557649),\n",
              " (514, 0.7615945715391073),\n",
              " (515, 0.7615964248820698),\n",
              " (516, 0.7615941559557649),\n",
              " (517, 0.7615941559557649),\n",
              " (518, 0.7615941559557649),\n",
              " (519, 0.7615941559557649),\n",
              " (520, 0.7615941559557649),\n",
              " (521, 0.761595105860111),\n",
              " (522, 0.7615959233657109),\n",
              " (523, 0.7615953692569852),\n",
              " (524, 0.7615947300206933),\n",
              " (525, 0.7615945836590148),\n",
              " (526, 0.7615941559557649),\n",
              " (527, 0.7615941559557649),\n",
              " (528, 0.7615941559557649),\n",
              " (529, 0.7615947536039909),\n",
              " (530, 0.7615957345612454),\n",
              " (531, 0.7615945288289974),\n",
              " (532, 0.7615948845067195),\n",
              " (533, 0.7615941559557649),\n",
              " (534, 0.7615947511646934),\n",
              " (535, 0.7615948029888459),\n",
              " (536, 0.761595763237543),\n",
              " (537, 0.7615953336990868),\n",
              " (538, 0.7615941559557649),\n",
              " (539, 0.7615952470407841),\n",
              " (540, 0.7615941559557649),\n",
              " (541, 0.761594625115455),\n",
              " (542, 0.7615941559557649),\n",
              " (543, 0.7615945214265646),\n",
              " (544, 0.761595622892043),\n",
              " (545, 0.7615941559557649),\n",
              " (546, 0.7615941559557649),\n",
              " (547, 0.7615941559557649),\n",
              " (548, 0.7615949937767202),\n",
              " (549, 0.7615941559557649),\n",
              " (550, 0.7615946117247724),\n",
              " (551, 0.7615958672961511),\n",
              " (552, 0.7615961175182384),\n",
              " (553, 0.7615948290912173),\n",
              " (554, 0.7615941559557649),\n",
              " (555, 0.7615944723373559),\n",
              " (556, 0.761595109790963),\n",
              " (557, 0.7615946257392313),\n",
              " (558, 0.7615950094369104),\n",
              " (559, 0.7615941559557649),\n",
              " (560, 0.7615952347973917),\n",
              " (561, 0.761595221281056),\n",
              " (562, 0.7615941559557649),\n",
              " (563, 0.7615945475254747),\n",
              " (564, 0.7615947317671659),\n",
              " (565, 0.7615948415570667),\n",
              " (566, 0.7615955604415339),\n",
              " (567, 0.7615949180448394),\n",
              " (568, 0.7615957164080398),\n",
              " (569, 0.7615951942393799),\n",
              " (570, 0.7615951284422898),\n",
              " (571, 0.7615958997135586),\n",
              " (572, 0.7615953191855247),\n",
              " (573, 0.7615949075528408),\n",
              " (574, 0.7615945251070507),\n",
              " (575, 0.7615946292482217),\n",
              " (576, 0.7615950847661896),\n",
              " (577, 0.761595037435699),\n",
              " (578, 0.7615948421332901),\n",
              " (579, 0.7615941559557649),\n",
              " (580, 0.7615948668849998),\n",
              " (581, 0.7615955904442389),\n",
              " (582, 0.7615957566373363),\n",
              " (583, 0.7615949635766706),\n",
              " (584, 0.7615941559557649),\n",
              " (585, 0.7615941559557649),\n",
              " (586, 0.7615945514943261),\n",
              " (587, 0.7615949574776651),\n",
              " (588, 0.7615945570310129),\n",
              " (589, 0.7615956930276395),\n",
              " (590, 0.7615941559557649),\n",
              " (591, 0.7615941559557649),\n",
              " (592, 0.7615946789454409),\n",
              " (593, 0.7615946017872545),\n",
              " (594, 0.7615941559557649),\n",
              " (595, 0.7615941559557649),\n",
              " (596, 0.7615967891838286),\n",
              " (597, 0.7615945620246396),\n",
              " (598, 0.7615941559557649),\n",
              " (599, 0.7615944425599803),\n",
              " (600, 0.7615945203690349),\n",
              " (601, 0.7615951464054407),\n",
              " (602, 0.7615941559557649),\n",
              " (603, 0.7615941559557649),\n",
              " (604, 0.7615941559557649),\n",
              " (605, 0.7615941559557649),\n",
              " (606, 0.7615941559557649),\n",
              " (607, 0.7615953444158483),\n",
              " (608, 0.7615941559557649),\n",
              " (609, 0.7615949763877439),\n",
              " (610, 0.7615953331364939),\n",
              " (611, 0.7615945559655511),\n",
              " (612, 0.7615951892818181),\n",
              " (613, 0.7615941559557649),\n",
              " (614, 0.7615941559557649),\n",
              " (615, 0.7615941559557649),\n",
              " (616, 0.7615947256316117),\n",
              " (617, 0.7615945642527151),\n",
              " (618, 0.7615962874006975),\n",
              " (619, 0.7615941559557649),\n",
              " (620, 0.7615941559557649),\n",
              " (621, 0.7615941559557649),\n",
              " (622, 0.7615951575386632),\n",
              " (623, 0.7615956800430217),\n",
              " (624, 0.7615948605887153),\n",
              " (625, 0.7615946930345747),\n",
              " (626, 0.761594735310356),\n",
              " (627, 0.7615941559557649),\n",
              " (628, 0.7615955433050834),\n",
              " (629, 0.7615950794529817),\n",
              " (630, 0.7615945773630937),\n",
              " (631, 0.7615941559557649),\n",
              " (632, 0.7615941559557649),\n",
              " (633, 0.7615945568258944),\n",
              " (634, 0.7615941559557649),\n",
              " (635, 0.7615941559557649),\n",
              " (636, 0.761595024314792),\n",
              " (637, 0.7615946583377728),\n",
              " (638, 0.7615951405852422),\n",
              " (639, 0.7615968917592846),\n",
              " (640, 0.7615941559557649),\n",
              " (641, 0.7615941559557649),\n",
              " (642, 0.7615950205628821),\n",
              " (643, 0.761595315750866),\n",
              " (644, 0.7615941559557649),\n",
              " (645, 0.7615950248731398),\n",
              " (646, 0.7615953662092081),\n",
              " (647, 0.7615941559557649),\n",
              " (648, 0.7615946466784533),\n",
              " (649, 0.7615941559557649),\n",
              " (650, 0.7615946562315127),\n",
              " (651, 0.7615953015460027),\n",
              " (652, 0.7615947420971461),\n",
              " (653, 0.7615956589519887),\n",
              " (654, 0.7615946735089685),\n",
              " (655, 0.7615941559557649),\n",
              " (656, 0.7615960525372648),\n",
              " (657, 0.7615957780367241),\n",
              " (658, 0.7615941559557649),\n",
              " (659, 0.7615941559557649),\n",
              " (660, 0.7615941559557649),\n",
              " (661, 0.7615941559557649),\n",
              " (662, 0.7615941559557649),\n",
              " (663, 0.7615946882740737),\n",
              " (664, 0.7615941559557649),\n",
              " (665, 0.7615945665925891),\n",
              " (666, 0.7615950921206706),\n",
              " (667, 0.7615941559557649),\n",
              " (668, 0.7615941559557649),\n",
              " (669, 0.761596357526646),\n",
              " (670, 0.7615958950967765),\n",
              " (671, 0.7615945839158701),\n",
              " (672, 0.7615946987446135),\n",
              " (673, 0.7615946423254978),\n",
              " (674, 0.7615945527547607),\n",
              " (675, 0.7615941559557649),\n",
              " (676, 0.7615950232541282),\n",
              " (677, 0.7615958901255941),\n",
              " (678, 0.7615948083781796),\n",
              " (679, 0.7615944332100685),\n",
              " (680, 0.7615941559557649),\n",
              " (681, 0.7615955077924459),\n",
              " (682, 0.761594605625605),\n",
              " (683, 0.7615945807355691),\n",
              " (684, 0.7615941559557649),\n",
              " (685, 0.7615941559557649),\n",
              " (686, 0.7615950646817619),\n",
              " (687, 0.7615950828957407),\n",
              " (688, 0.7615962079539504),\n",
              " (689, 0.7615951443561753),\n",
              " (690, 0.7615959362840949),\n",
              " (691, 0.7615959715015493),\n",
              " (692, 0.7615946048200628),\n",
              " (693, 0.761595491387352),\n",
              " (694, 0.7615945110652117),\n",
              " (695, 0.7615951983260475),\n",
              " (696, 0.7615945414526786),\n",
              " (697, 0.7615941559557649),\n",
              " (698, 0.7615958945260141),\n",
              " (699, 0.761594817758091),\n",
              " (700, 0.7615941559557649),\n",
              " (701, 0.7615941559557649),\n",
              " (702, 0.7615945516162167),\n",
              " (703, 0.7615947454638972),\n",
              " (704, 0.761595033079717),\n",
              " (705, 0.7615941559557649),\n",
              " (706, 0.7615950683153212),\n",
              " (707, 0.7615941559557649),\n",
              " (708, 0.761595184851449),\n",
              " (709, 0.7615949638767435),\n",
              " (710, 0.7615990083015148),\n",
              " (711, 0.7615941559557649),\n",
              " (712, 0.7615946849769386),\n",
              " (713, 0.7615941559557649),\n",
              " (714, 0.7615941559557649),\n",
              " (715, 0.7615955203959404),\n",
              " (716, 0.7615986901239873),\n",
              " (717, 0.7615965683535545),\n",
              " (718, 0.7615950794833346),\n",
              " (719, 0.7615941559557649),\n",
              " (720, 0.7615941559557649),\n",
              " (721, 0.7615941559557649),\n",
              " (722, 0.7615961662354311),\n",
              " (723, 0.7615941559557649),\n",
              " (724, 0.7615950710533597),\n",
              " (725, 0.761595214363871),\n",
              " (726, 0.7615941559557649),\n",
              " (727, 0.7615947959859829),\n",
              " (728, 0.7615946595947957),\n",
              " (729, 0.7615941559557649),\n",
              " (730, 0.7615950510350127),\n",
              " (731, 0.7615941559557649),\n",
              " (732, 0.7615964282431592),\n",
              " (733, 0.7615947994807641),\n",
              " (734, 0.7615947329913537),\n",
              " (735, 0.7615945608334016),\n",
              " (736, 0.7615941559557649),\n",
              " (737, 0.7615965707026161),\n",
              " (738, 0.7615947997412272),\n",
              " (739, 0.7615948361403517),\n",
              " (740, 0.7615941559557649),\n",
              " (741, 0.7615941559557649),\n",
              " (742, 0.7615941559557649),\n",
              " (743, 0.761594580061517),\n",
              " (744, 0.7615941559557649),\n",
              " (745, 0.761595066690768),\n",
              " (746, 0.761594493545382),\n",
              " (747, 0.7615954002991543),\n",
              " (748, 0.7615941559557649),\n",
              " (749, 0.7615945377862768),\n",
              " (750, 0.761594976967775),\n",
              " (751, 0.7615941559557649),\n",
              " (752, 0.7615941559557649),\n",
              " (753, 0.7615941559557649),\n",
              " (754, 0.7615941559557649),\n",
              " (755, 0.7615959652843547),\n",
              " (756, 0.7615950904368277),\n",
              " (757, 0.7615941559557649),\n",
              " (758, 0.7615949716791022),\n",
              " (759, 0.7615954118210333),\n",
              " (760, 0.7615951301018271),\n",
              " (761, 0.7615941559557649),\n",
              " (762, 0.761594819297449),\n",
              " (763, 0.7615941559557649),\n",
              " (764, 0.7615941559557649),\n",
              " (765, 0.7615945163371859),\n",
              " (766, 0.7615941559557649),\n",
              " (767, 0.76159457111758),\n",
              " (768, 0.7615952771638214),\n",
              " (769, 0.7615941559557649),\n",
              " (770, 0.7615949457001789),\n",
              " (771, 0.7615941559557649),\n",
              " (772, 0.7615941559557649),\n",
              " (773, 0.761595537605907),\n",
              " (774, 0.7615941559557649),\n",
              " (775, 0.7615957281087503),\n",
              " (776, 0.7615941559557649),\n",
              " (777, 0.7615955998915214),\n",
              " (778, 0.7615961206555688),\n",
              " (779, 0.761595107811368),\n",
              " (780, 0.7615941559557649),\n",
              " (781, 0.7615941559557649),\n",
              " (782, 0.7615952047617229),\n",
              " (783, 0.7615941559557649),\n",
              " (784, 0.7615941559557649),\n",
              " (785, 0.7615944678928788),\n",
              " (786, 0.7615941559557649),\n",
              " (787, 0.7615941559557649),\n",
              " (788, 0.7615947142014672),\n",
              " (789, 0.7615945966820016),\n",
              " (790, 0.7615947970694168),\n",
              " (791, 0.7615947937770025),\n",
              " (792, 0.7615950120098759),\n",
              " (793, 0.7615965531802884),\n",
              " (794, 0.7615949625922493),\n",
              " (795, 0.7615941559557649),\n",
              " (796, 0.7615951223228727),\n",
              " (797, 0.7615941559557649),\n",
              " (798, 0.7615941559557649),\n",
              " (799, 0.761594726662424),\n",
              " (800, 0.7615941559557649),\n",
              " (801, 0.7615941559557649),\n",
              " (802, 0.7615953097488346),\n",
              " (803, 0.7615941559557649),\n",
              " (804, 0.7615951653033103),\n",
              " (805, 0.7615941559557649),\n",
              " (806, 0.761595074534086),\n",
              " (807, 0.7615941559557649),\n",
              " (808, 0.7615948840941389),\n",
              " (809, 0.7615948009009211),\n",
              " (810, 0.761594616272523),\n",
              " (811, 0.7615987865549385),\n",
              " (812, 0.7615965051055797),\n",
              " (813, 0.7615959645223942),\n",
              " (814, 0.7615944108795591),\n",
              " (815, 0.7615962498863975),\n",
              " (816, 0.7615952268801921),\n",
              " (817, 0.7615949180734493),\n",
              " (818, 0.7615963982989328),\n",
              " (819, 0.7615951035852645),\n",
              " (820, 0.7615951702249929),\n",
              " (821, 0.7615953151767627),\n",
              " (822, 0.7615947490875137),\n",
              " (823, 0.7615951262303686),\n",
              " (824, 0.7615949346244257),\n",
              " (825, 0.7615951647787251),\n",
              " (826, 0.7615941559557649),\n",
              " (827, 0.7615941559557649),\n",
              " (828, 0.7615951391159428),\n",
              " (829, 0.7615952590904663),\n",
              " (830, 0.7615954183471154),\n",
              " (831, 0.7615944900340006),\n",
              " (832, 0.7615946029329052),\n",
              " (833, 0.7615941559557649),\n",
              " (834, 0.7615941559557649),\n",
              " (835, 0.7615950246945506),\n",
              " (836, 0.7615944442507502),\n",
              " (837, 0.7615941559557649),\n",
              " (838, 0.7615941559557649),\n",
              " (839, 0.7615952122884723),\n",
              " (840, 0.7615941559557649),\n",
              " (841, 0.761595302030927),\n",
              " (842, 0.7615941559557649),\n",
              " (843, 0.7615941559557649),\n",
              " (844, 0.7615945905604053),\n",
              " (845, 0.7615944479045728),\n",
              " (846, 0.761594495704564),\n",
              " (847, 0.7615941559557649),\n",
              " (848, 0.7615991232601026),\n",
              " (849, 0.7615955545637161),\n",
              " (850, 0.7615941559557649),\n",
              " (851, 0.7615941559557649),\n",
              " (852, 0.7615946529432102),\n",
              " (853, 0.7615975621285771),\n",
              " (854, 0.7615946441454),\n",
              " (855, 0.7615941559557649),\n",
              " (856, 0.7615941559557649),\n",
              " (857, 0.7615953779073154),\n",
              " (858, 0.7615941559557649),\n",
              " (859, 0.7615957991377047),\n",
              " (860, 0.7615957949136234),\n",
              " (861, 0.7615953515478502),\n",
              " (862, 0.7615957371829845),\n",
              " (863, 0.7615941559557649),\n",
              " (864, 0.7615941559557649),\n",
              " (865, 0.7615941559557649),\n",
              " (866, 0.7615941559557649),\n",
              " (867, 0.7615941559557649),\n",
              " (868, 0.7615951698708356),\n",
              " (869, 0.7615945935627887),\n",
              " (870, 0.7615945737137125),\n",
              " (871, 0.7615946270944266),\n",
              " (872, 0.7615946808656167),\n",
              " (873, 0.761594543432596),\n",
              " (874, 0.7615950462914669),\n",
              " (875, 0.7615950038595575),\n",
              " (876, 0.761594882802056),\n",
              " (877, 0.7615941559557649),\n",
              " (878, 0.7615947205147475),\n",
              " (879, 0.7615947893782146),\n",
              " (880, 0.7615941559557649),\n",
              " (881, 0.761594648846533),\n",
              " (882, 0.7615945084528981),\n",
              " (883, 0.7615941559557649),\n",
              " (884, 0.7615947124907579),\n",
              " (885, 0.7615941559557649),\n",
              " (886, 0.7615949589241747),\n",
              " (887, 0.7615949365186756),\n",
              " (888, 0.7615948850029959),\n",
              " (889, 0.7615941559557649),\n",
              " (890, 0.7615958731995254),\n",
              " (891, 0.7615941559557649),\n",
              " (892, 0.7615941559557649),\n",
              " (893, 0.7615950630176083),\n",
              " (894, 0.7615941559557649),\n",
              " (895, 0.7615952057529296),\n",
              " (896, 0.761594983183427),\n",
              " (897, 0.7615941559557649),\n",
              " (898, 0.7615951987568756),\n",
              " (899, 0.7615945744619077),\n",
              " (900, 0.7615956744817023),\n",
              " (901, 0.7615955947840196),\n",
              " (902, 0.7615945767872488),\n",
              " (903, 0.7615941559557649),\n",
              " (904, 0.7615951203845379),\n",
              " (905, 0.7615966385967974),\n",
              " (906, 0.7615952887052456),\n",
              " (907, 0.7615944326779074),\n",
              " (908, 0.7615941559557649),\n",
              " (909, 0.7615941559557649),\n",
              " (910, 0.7615950969562088),\n",
              " (911, 0.7615944741265067),\n",
              " (912, 0.7615946806760815),\n",
              " (913, 0.7615941559557649),\n",
              " (914, 0.7615941559557649),\n",
              " (915, 0.761594549423191),\n",
              " (916, 0.761594688407981),\n",
              " (917, 0.7615941559557649),\n",
              " (918, 0.7615941559557649),\n",
              " (919, 0.7615950174233004),\n",
              " (920, 0.7615941559557649),\n",
              " (921, 0.7615941559557649),\n",
              " (922, 0.7615947874541402),\n",
              " (923, 0.7615949011420041),\n",
              " (924, 0.7615950433779076),\n",
              " (925, 0.7615944607583083),\n",
              " (926, 0.7615958227061801),\n",
              " (927, 0.7615941559557649),\n",
              " (928, 0.7615948474515205),\n",
              " (929, 0.7615945172827185),\n",
              " (930, 0.7615945539902453),\n",
              " (931, 0.7615941559557649),\n",
              " (932, 0.7615952555737937),\n",
              " (933, 0.7615955861927526),\n",
              " (934, 0.7615941559557649),\n",
              " (935, 0.7615941559557649),\n",
              " (936, 0.7615959549070714),\n",
              " (937, 0.7615952040957175),\n",
              " (938, 0.7615941559557649),\n",
              " (939, 0.7615945766823955),\n",
              " (940, 0.7615941559557649),\n",
              " (941, 0.7615948584101822),\n",
              " (942, 0.7615949927598177),\n",
              " (943, 0.7616000932500293),\n",
              " (944, 0.7615941559557649),\n",
              " (945, 0.761595607374777),\n",
              " (946, 0.7615944845657467),\n",
              " (947, 0.7615955939459516),\n",
              " (948, 0.7615941559557649),\n",
              " (949, 0.7615949554684599),\n",
              " (950, 0.7615952983572629),\n",
              " (951, 0.7615941559557649),\n",
              " (952, 0.7615950457370182),\n",
              " (953, 0.7615941559557649),\n",
              " (954, 0.7615953907219272),\n",
              " (955, 0.7615947614853434),\n",
              " (956, 0.7615949793522372),\n",
              " (957, 0.7615947682371154),\n",
              " (958, 0.7615946278398708),\n",
              " (959, 0.7615966664418702),\n",
              " (960, 0.7615941559557649),\n",
              " (961, 0.7615946218749852),\n",
              " (962, 0.7615950296246472),\n",
              " (963, 0.7615947247025882),\n",
              " (964, 0.761596603245656),\n",
              " (965, 0.7615946252061153),\n",
              " (966, 0.7615947362387601),\n",
              " (967, 0.7615941559557649),\n",
              " (968, 0.7615941559557649),\n",
              " (969, 0.7615941559557649),\n",
              " (970, 0.7615941559557649),\n",
              " (971, 0.7615941559557649),\n",
              " (972, 0.7615947281565535),\n",
              " (973, 0.7615941559557649),\n",
              " (974, 0.7615941559557649),\n",
              " (975, 0.7615946008387884),\n",
              " (976, 0.7615941559557649),\n",
              " (977, 0.7615946180243962),\n",
              " (978, 0.7615951155182941),\n",
              " (979, 0.7615944180012421),\n",
              " (980, 0.7615941559557649),\n",
              " (981, 0.7615941559557649),\n",
              " (982, 0.761595324644052),\n",
              " (983, 0.7615941559557649),\n",
              " (984, 0.7615973174946914),\n",
              " (985, 0.76159503410696),\n",
              " (986, 0.7615948855433624),\n",
              " (987, 0.7615953013905746),\n",
              " (988, 0.7615941559557649),\n",
              " (989, 0.7615951962630803),\n",
              " (990, 0.7615941559557649),\n",
              " (991, 0.761594906885802),\n",
              " (992, 0.7615941559557649),\n",
              " (993, 0.7615941559557649),\n",
              " (994, 0.7615950016724138),\n",
              " (995, 0.7615952439318481),\n",
              " (996, 0.7615956054953025),\n",
              " (997, 0.7615941559557649),\n",
              " (998, 0.7615956783102604),\n",
              " (999, 0.7615954229522532),\n",
              " ...]"
            ]
          },
          "metadata": {
            "tags": []
          },
          "execution_count": 27
        }
      ]
    },
    {
      "cell_type": "code",
      "metadata": {
        "id": "9JMNCt5fSKRV",
        "colab_type": "code",
        "colab": {}
      },
      "source": [
        "def give_rec(title, sig=sig):\n",
        "    # Get the index corresponding to original_title\n",
        "    idx = indices[title]\n",
        "\n",
        "    # Get the pairwsie similarity scores \n",
        "    sig_scores = list(enumerate(sig[idx]))\n",
        "\n",
        "    # Sort the movies \n",
        "    sig_scores = sorted(sig_scores, key=lambda x: x[1], reverse=True)\n",
        "\n",
        "    # Scores of the 10 most similar movies\n",
        "    sig_scores = sig_scores[1:11]\n",
        "\n",
        "    # Movie indices\n",
        "    movie_indices = [i[0] for i in sig_scores]\n",
        "\n",
        "    # Top 10 most similar movies\n",
        "    return movies_cleaned_df['original_title'].iloc[movie_indices]"
      ],
      "execution_count": 0,
      "outputs": []
    },
    {
      "cell_type": "code",
      "metadata": {
        "id": "C7VdfHVkSeqC",
        "colab_type": "code",
        "outputId": "3b3b7c84-4a4e-47c5-b859-36b89bef18ab",
        "colab": {
          "base_uri": "https://localhost:8080/",
          "height": 217
        }
      },
      "source": [
        "give_rec('Avatar')"
      ],
      "execution_count": 0,
      "outputs": [
        {
          "output_type": "execute_result",
          "data": {
            "text/plain": [
              "1341                Obitaemyy Ostrov\n",
              "634                       The Matrix\n",
              "3604                       Apollo 18\n",
              "2130                    The American\n",
              "775                        Supernova\n",
              "529                 Tears of the Sun\n",
              "151                          Beowulf\n",
              "311     The Adventures of Pluto Nash\n",
              "847                         Semi-Pro\n",
              "942                 The Book of Life\n",
              "Name: original_title, dtype: object"
            ]
          },
          "metadata": {
            "tags": []
          },
          "execution_count": 31
        }
      ]
    },
    {
      "cell_type": "code",
      "metadata": {
        "id": "u973NpWiTFpS",
        "colab_type": "code",
        "colab": {}
      },
      "source": [
        ""
      ],
      "execution_count": 0,
      "outputs": []
    },
    {
      "cell_type": "markdown",
      "metadata": {
        "id": "Gyjh0CGZZoyL",
        "colab_type": "text"
      },
      "source": [
        "### Collaborative Filtering for Book usecase"
      ]
    },
    {
      "cell_type": "code",
      "metadata": {
        "id": "YFoDB7cmZr5o",
        "colab_type": "code",
        "outputId": "6622ed6a-c51e-49fb-8072-d512c4f362f6",
        "colab": {
          "base_uri": "https://localhost:8080/",
          "height": 90
        }
      },
      "source": [
        "!unzip BX-CSV-Dump.zip"
      ],
      "execution_count": 0,
      "outputs": [
        {
          "output_type": "stream",
          "text": [
            "Archive:  BX-CSV-Dump.zip\n",
            "  inflating: BX-Book-Ratings.csv     \n",
            "  inflating: BX-Books.csv            \n",
            "  inflating: BX-Users.csv            \n"
          ],
          "name": "stdout"
        }
      ]
    },
    {
      "cell_type": "code",
      "metadata": {
        "id": "_LOUWk0Rckb_",
        "colab_type": "code",
        "outputId": "0aaa107c-f8de-4a3a-9d98-ebc0f2a08aa1",
        "colab": {
          "base_uri": "https://localhost:8080/",
          "height": 146
        }
      },
      "source": [
        "import matplotlib.pyplot as plt\n",
        "books = pd.read_csv('BX-Books.csv', sep=';', error_bad_lines=False, encoding=\"latin-1\")\n",
        "books.columns = ['ISBN', 'bookTitle', 'bookAuthor', 'yearOfPublication', 'publisher', 'imageUrlS', 'imageUrlM', 'imageUrlL']\n",
        "\n",
        "users = pd.read_csv('BX-Users.csv', sep=';', error_bad_lines=False, encoding=\"latin-1\")\n",
        "users.columns = ['userID', 'Location', 'Age']\n",
        "\n",
        "ratings = pd.read_csv('BX-Book-Ratings.csv', sep=';', error_bad_lines=False, encoding=\"latin-1\")\n",
        "ratings.columns = ['userID', 'ISBN', 'bookRating']"
      ],
      "execution_count": 4,
      "outputs": [
        {
          "output_type": "stream",
          "text": [
            "b'Skipping line 6452: expected 8 fields, saw 9\\nSkipping line 43667: expected 8 fields, saw 10\\nSkipping line 51751: expected 8 fields, saw 9\\n'\n",
            "b'Skipping line 92038: expected 8 fields, saw 9\\nSkipping line 104319: expected 8 fields, saw 9\\nSkipping line 121768: expected 8 fields, saw 9\\n'\n",
            "b'Skipping line 144058: expected 8 fields, saw 9\\nSkipping line 150789: expected 8 fields, saw 9\\nSkipping line 157128: expected 8 fields, saw 9\\nSkipping line 180189: expected 8 fields, saw 9\\nSkipping line 185738: expected 8 fields, saw 9\\n'\n",
            "b'Skipping line 209388: expected 8 fields, saw 9\\nSkipping line 220626: expected 8 fields, saw 9\\nSkipping line 227933: expected 8 fields, saw 11\\nSkipping line 228957: expected 8 fields, saw 10\\nSkipping line 245933: expected 8 fields, saw 9\\nSkipping line 251296: expected 8 fields, saw 9\\nSkipping line 259941: expected 8 fields, saw 9\\nSkipping line 261529: expected 8 fields, saw 9\\n'\n",
            "/usr/local/lib/python3.6/dist-packages/IPython/core/interactiveshell.py:2718: DtypeWarning: Columns (3) have mixed types. Specify dtype option on import or set low_memory=False.\n",
            "  interactivity=interactivity, compiler=compiler, result=result)\n"
          ],
          "name": "stderr"
        }
      ]
    },
    {
      "cell_type": "code",
      "metadata": {
        "id": "kWHr4AmKdEx-",
        "colab_type": "code",
        "outputId": "408b0d9a-6688-4f3c-d071-903d50a9a17d",
        "colab": {
          "base_uri": "https://localhost:8080/",
          "height": 197
        }
      },
      "source": [
        "books.head(2)"
      ],
      "execution_count": 4,
      "outputs": [
        {
          "output_type": "execute_result",
          "data": {
            "text/html": [
              "<div>\n",
              "<style scoped>\n",
              "    .dataframe tbody tr th:only-of-type {\n",
              "        vertical-align: middle;\n",
              "    }\n",
              "\n",
              "    .dataframe tbody tr th {\n",
              "        vertical-align: top;\n",
              "    }\n",
              "\n",
              "    .dataframe thead th {\n",
              "        text-align: right;\n",
              "    }\n",
              "</style>\n",
              "<table border=\"1\" class=\"dataframe\">\n",
              "  <thead>\n",
              "    <tr style=\"text-align: right;\">\n",
              "      <th></th>\n",
              "      <th>ISBN</th>\n",
              "      <th>bookTitle</th>\n",
              "      <th>bookAuthor</th>\n",
              "      <th>yearOfPublication</th>\n",
              "      <th>publisher</th>\n",
              "      <th>imageUrlS</th>\n",
              "      <th>imageUrlM</th>\n",
              "      <th>imageUrlL</th>\n",
              "    </tr>\n",
              "  </thead>\n",
              "  <tbody>\n",
              "    <tr>\n",
              "      <th>0</th>\n",
              "      <td>0195153448</td>\n",
              "      <td>Classical Mythology</td>\n",
              "      <td>Mark P. O. Morford</td>\n",
              "      <td>2002</td>\n",
              "      <td>Oxford University Press</td>\n",
              "      <td>http://images.amazon.com/images/P/0195153448.0...</td>\n",
              "      <td>http://images.amazon.com/images/P/0195153448.0...</td>\n",
              "      <td>http://images.amazon.com/images/P/0195153448.0...</td>\n",
              "    </tr>\n",
              "    <tr>\n",
              "      <th>1</th>\n",
              "      <td>0002005018</td>\n",
              "      <td>Clara Callan</td>\n",
              "      <td>Richard Bruce Wright</td>\n",
              "      <td>2001</td>\n",
              "      <td>HarperFlamingo Canada</td>\n",
              "      <td>http://images.amazon.com/images/P/0002005018.0...</td>\n",
              "      <td>http://images.amazon.com/images/P/0002005018.0...</td>\n",
              "      <td>http://images.amazon.com/images/P/0002005018.0...</td>\n",
              "    </tr>\n",
              "  </tbody>\n",
              "</table>\n",
              "</div>"
            ],
            "text/plain": [
              "         ISBN  ...                                          imageUrlL\n",
              "0  0195153448  ...  http://images.amazon.com/images/P/0195153448.0...\n",
              "1  0002005018  ...  http://images.amazon.com/images/P/0002005018.0...\n",
              "\n",
              "[2 rows x 8 columns]"
            ]
          },
          "metadata": {
            "tags": []
          },
          "execution_count": 4
        }
      ]
    },
    {
      "cell_type": "code",
      "metadata": {
        "id": "ss6MK7vYdH1_",
        "colab_type": "code",
        "outputId": "6cf6d0ec-07e9-4f32-92ee-601a0d2c5989",
        "colab": {
          "base_uri": "https://localhost:8080/",
          "height": 108
        }
      },
      "source": [
        "users.head(2)"
      ],
      "execution_count": 0,
      "outputs": [
        {
          "output_type": "execute_result",
          "data": {
            "text/html": [
              "<div>\n",
              "<style scoped>\n",
              "    .dataframe tbody tr th:only-of-type {\n",
              "        vertical-align: middle;\n",
              "    }\n",
              "\n",
              "    .dataframe tbody tr th {\n",
              "        vertical-align: top;\n",
              "    }\n",
              "\n",
              "    .dataframe thead th {\n",
              "        text-align: right;\n",
              "    }\n",
              "</style>\n",
              "<table border=\"1\" class=\"dataframe\">\n",
              "  <thead>\n",
              "    <tr style=\"text-align: right;\">\n",
              "      <th></th>\n",
              "      <th>userID</th>\n",
              "      <th>Location</th>\n",
              "      <th>Age</th>\n",
              "    </tr>\n",
              "  </thead>\n",
              "  <tbody>\n",
              "    <tr>\n",
              "      <th>0</th>\n",
              "      <td>1</td>\n",
              "      <td>nyc, new york, usa</td>\n",
              "      <td>NaN</td>\n",
              "    </tr>\n",
              "    <tr>\n",
              "      <th>1</th>\n",
              "      <td>2</td>\n",
              "      <td>stockton, california, usa</td>\n",
              "      <td>18.0</td>\n",
              "    </tr>\n",
              "  </tbody>\n",
              "</table>\n",
              "</div>"
            ],
            "text/plain": [
              "   userID                   Location   Age\n",
              "0       1         nyc, new york, usa   NaN\n",
              "1       2  stockton, california, usa  18.0"
            ]
          },
          "metadata": {
            "tags": []
          },
          "execution_count": 35
        }
      ]
    },
    {
      "cell_type": "code",
      "metadata": {
        "id": "gjas14JXdKS6",
        "colab_type": "code",
        "outputId": "435be6fc-e990-4d5d-b848-fd0c4e1fc108",
        "colab": {
          "base_uri": "https://localhost:8080/",
          "height": 108
        }
      },
      "source": [
        "ratings.head(2)"
      ],
      "execution_count": 0,
      "outputs": [
        {
          "output_type": "execute_result",
          "data": {
            "text/html": [
              "<div>\n",
              "<style scoped>\n",
              "    .dataframe tbody tr th:only-of-type {\n",
              "        vertical-align: middle;\n",
              "    }\n",
              "\n",
              "    .dataframe tbody tr th {\n",
              "        vertical-align: top;\n",
              "    }\n",
              "\n",
              "    .dataframe thead th {\n",
              "        text-align: right;\n",
              "    }\n",
              "</style>\n",
              "<table border=\"1\" class=\"dataframe\">\n",
              "  <thead>\n",
              "    <tr style=\"text-align: right;\">\n",
              "      <th></th>\n",
              "      <th>userID</th>\n",
              "      <th>ISBN</th>\n",
              "      <th>bookRating</th>\n",
              "    </tr>\n",
              "  </thead>\n",
              "  <tbody>\n",
              "    <tr>\n",
              "      <th>0</th>\n",
              "      <td>276725</td>\n",
              "      <td>034545104X</td>\n",
              "      <td>0</td>\n",
              "    </tr>\n",
              "    <tr>\n",
              "      <th>1</th>\n",
              "      <td>276726</td>\n",
              "      <td>0155061224</td>\n",
              "      <td>5</td>\n",
              "    </tr>\n",
              "  </tbody>\n",
              "</table>\n",
              "</div>"
            ],
            "text/plain": [
              "   userID        ISBN  bookRating\n",
              "0  276725  034545104X           0\n",
              "1  276726  0155061224           5"
            ]
          },
          "metadata": {
            "tags": []
          },
          "execution_count": 37
        }
      ]
    },
    {
      "cell_type": "markdown",
      "metadata": {
        "id": "w_0t4zbKdr6D",
        "colab_type": "text"
      },
      "source": [
        "To ensure statistical significance, users with less than 200 ratings, and books with less than 100 ratings are excluded."
      ]
    },
    {
      "cell_type": "code",
      "metadata": {
        "id": "-bUUXvH1eKA9",
        "colab_type": "code",
        "outputId": "7998faf6-4af8-43b7-bdf9-4f2fb5aec78b",
        "colab": {
          "base_uri": "https://localhost:8080/",
          "height": 235
        }
      },
      "source": [
        "ratings['bookRating'].value_counts()"
      ],
      "execution_count": 0,
      "outputs": [
        {
          "output_type": "execute_result",
          "data": {
            "text/plain": [
              "0     716109\n",
              "8     103736\n",
              "10     78610\n",
              "7      76457\n",
              "9      67541\n",
              "5      50974\n",
              "6      36924\n",
              "4       8904\n",
              "3       5996\n",
              "2       2759\n",
              "1       1770\n",
              "Name: bookRating, dtype: int64"
            ]
          },
          "metadata": {
            "tags": []
          },
          "execution_count": 39
        }
      ]
    },
    {
      "cell_type": "code",
      "metadata": {
        "id": "U22wEj9zdM8I",
        "colab_type": "code",
        "colab": {}
      },
      "source": [
        "counts1 = ratings['userID'].value_counts()\n",
        "ratings = ratings[ratings['userID'].isin(counts1[counts1 >= 200].index)]\n",
        "counts = ratings['bookRating'].value_counts()\n",
        "ratings = ratings[ratings['bookRating'].isin(counts[counts >= 100].index)]"
      ],
      "execution_count": 0,
      "outputs": []
    },
    {
      "cell_type": "markdown",
      "metadata": {
        "id": "Q3t8aHhjeZas",
        "colab_type": "text"
      },
      "source": [
        "### Collaborative Filtering Using k-Nearest Neighbors (kNN)\n",
        "kNN is a machine learning algorithm to find clusters of similar users based on common book ratings, and make predictions using the average rating of top-k nearest neighbors. For example, we first present ratings in a matrix with the matrix having one row for each item (book) and one column for each user,"
      ]
    },
    {
      "cell_type": "code",
      "metadata": {
        "id": "dINtRHvseXDR",
        "colab_type": "code",
        "outputId": "ffb8e425-a791-4227-cacd-fff80bf721f6",
        "colab": {
          "base_uri": "https://localhost:8080/",
          "height": 198
        }
      },
      "source": [
        "combine_book_rating = pd.merge(ratings, books, on='ISBN')\n",
        "combine_book_rating = combine_book_rating.drop(['yearOfPublication', 'publisher', 'bookAuthor', 'imageUrlS', 'imageUrlM', 'imageUrlL'], axis=1)\n",
        "combine_book_rating.head()"
      ],
      "execution_count": 6,
      "outputs": [
        {
          "output_type": "execute_result",
          "data": {
            "text/html": [
              "<div>\n",
              "<style scoped>\n",
              "    .dataframe tbody tr th:only-of-type {\n",
              "        vertical-align: middle;\n",
              "    }\n",
              "\n",
              "    .dataframe tbody tr th {\n",
              "        vertical-align: top;\n",
              "    }\n",
              "\n",
              "    .dataframe thead th {\n",
              "        text-align: right;\n",
              "    }\n",
              "</style>\n",
              "<table border=\"1\" class=\"dataframe\">\n",
              "  <thead>\n",
              "    <tr style=\"text-align: right;\">\n",
              "      <th></th>\n",
              "      <th>userID</th>\n",
              "      <th>ISBN</th>\n",
              "      <th>bookRating</th>\n",
              "      <th>bookTitle</th>\n",
              "    </tr>\n",
              "  </thead>\n",
              "  <tbody>\n",
              "    <tr>\n",
              "      <th>0</th>\n",
              "      <td>277427</td>\n",
              "      <td>002542730X</td>\n",
              "      <td>10</td>\n",
              "      <td>Politically Correct Bedtime Stories: Modern Ta...</td>\n",
              "    </tr>\n",
              "    <tr>\n",
              "      <th>1</th>\n",
              "      <td>3363</td>\n",
              "      <td>002542730X</td>\n",
              "      <td>0</td>\n",
              "      <td>Politically Correct Bedtime Stories: Modern Ta...</td>\n",
              "    </tr>\n",
              "    <tr>\n",
              "      <th>2</th>\n",
              "      <td>11676</td>\n",
              "      <td>002542730X</td>\n",
              "      <td>6</td>\n",
              "      <td>Politically Correct Bedtime Stories: Modern Ta...</td>\n",
              "    </tr>\n",
              "    <tr>\n",
              "      <th>3</th>\n",
              "      <td>12538</td>\n",
              "      <td>002542730X</td>\n",
              "      <td>10</td>\n",
              "      <td>Politically Correct Bedtime Stories: Modern Ta...</td>\n",
              "    </tr>\n",
              "    <tr>\n",
              "      <th>4</th>\n",
              "      <td>13552</td>\n",
              "      <td>002542730X</td>\n",
              "      <td>0</td>\n",
              "      <td>Politically Correct Bedtime Stories: Modern Ta...</td>\n",
              "    </tr>\n",
              "  </tbody>\n",
              "</table>\n",
              "</div>"
            ],
            "text/plain": [
              "   userID  ...                                          bookTitle\n",
              "0  277427  ...  Politically Correct Bedtime Stories: Modern Ta...\n",
              "1    3363  ...  Politically Correct Bedtime Stories: Modern Ta...\n",
              "2   11676  ...  Politically Correct Bedtime Stories: Modern Ta...\n",
              "3   12538  ...  Politically Correct Bedtime Stories: Modern Ta...\n",
              "4   13552  ...  Politically Correct Bedtime Stories: Modern Ta...\n",
              "\n",
              "[5 rows x 4 columns]"
            ]
          },
          "metadata": {
            "tags": []
          },
          "execution_count": 6
        }
      ]
    },
    {
      "cell_type": "markdown",
      "metadata": {
        "id": "Cid-II5Lfaei",
        "colab_type": "text"
      },
      "source": [
        "We then group by book titles and create a new column for total rating count."
      ]
    },
    {
      "cell_type": "code",
      "metadata": {
        "id": "R3OPmaBKfs4_",
        "colab_type": "code",
        "outputId": "32cc2d6f-1228-43a4-c80c-7fd7ecd2276e",
        "colab": {
          "base_uri": "https://localhost:8080/",
          "height": 108
        }
      },
      "source": [
        "combine_book_rating.isna().sum()"
      ],
      "execution_count": 0,
      "outputs": [
        {
          "output_type": "execute_result",
          "data": {
            "text/plain": [
              "userID        0\n",
              "ISBN          0\n",
              "bookRating    0\n",
              "bookTitle     0\n",
              "dtype: int64"
            ]
          },
          "metadata": {
            "tags": []
          },
          "execution_count": 42
        }
      ]
    },
    {
      "cell_type": "code",
      "metadata": {
        "id": "QjctrfnYfS0r",
        "colab_type": "code",
        "outputId": "136e1773-9ccb-466e-dec4-b4bd45166f44",
        "colab": {
          "base_uri": "https://localhost:8080/",
          "height": 198
        }
      },
      "source": [
        "# combine_book_rating = combine_book_rating.dropna(axis = 0, subset = ['bookTitle'])\n",
        "\n",
        "book_ratingCount = (combine_book_rating.\n",
        "     groupby(by = ['bookTitle'])['bookRating'].\n",
        "     count().\n",
        "     reset_index().\n",
        "     rename(columns = {'bookRating': 'totalRatingCount'})\n",
        "     [['bookTitle', 'totalRatingCount']]\n",
        "    )\n",
        "book_ratingCount.head()"
      ],
      "execution_count": 0,
      "outputs": [
        {
          "output_type": "execute_result",
          "data": {
            "text/html": [
              "<div>\n",
              "<style scoped>\n",
              "    .dataframe tbody tr th:only-of-type {\n",
              "        vertical-align: middle;\n",
              "    }\n",
              "\n",
              "    .dataframe tbody tr th {\n",
              "        vertical-align: top;\n",
              "    }\n",
              "\n",
              "    .dataframe thead th {\n",
              "        text-align: right;\n",
              "    }\n",
              "</style>\n",
              "<table border=\"1\" class=\"dataframe\">\n",
              "  <thead>\n",
              "    <tr style=\"text-align: right;\">\n",
              "      <th></th>\n",
              "      <th>bookTitle</th>\n",
              "      <th>totalRatingCount</th>\n",
              "    </tr>\n",
              "  </thead>\n",
              "  <tbody>\n",
              "    <tr>\n",
              "      <th>0</th>\n",
              "      <td>A Light in the Storm: The Civil War Diary of ...</td>\n",
              "      <td>2</td>\n",
              "    </tr>\n",
              "    <tr>\n",
              "      <th>1</th>\n",
              "      <td>Always Have Popsicles</td>\n",
              "      <td>1</td>\n",
              "    </tr>\n",
              "    <tr>\n",
              "      <th>2</th>\n",
              "      <td>Apple Magic (The Collector's series)</td>\n",
              "      <td>1</td>\n",
              "    </tr>\n",
              "    <tr>\n",
              "      <th>3</th>\n",
              "      <td>Beyond IBM: Leadership Marketing and Finance ...</td>\n",
              "      <td>1</td>\n",
              "    </tr>\n",
              "    <tr>\n",
              "      <th>4</th>\n",
              "      <td>Clifford Visita El Hospital (Clifford El Gran...</td>\n",
              "      <td>1</td>\n",
              "    </tr>\n",
              "  </tbody>\n",
              "</table>\n",
              "</div>"
            ],
            "text/plain": [
              "                                           bookTitle  totalRatingCount\n",
              "0   A Light in the Storm: The Civil War Diary of ...                 2\n",
              "1                              Always Have Popsicles                 1\n",
              "2               Apple Magic (The Collector's series)                 1\n",
              "3   Beyond IBM: Leadership Marketing and Finance ...                 1\n",
              "4   Clifford Visita El Hospital (Clifford El Gran...                 1"
            ]
          },
          "metadata": {
            "tags": []
          },
          "execution_count": 43
        }
      ]
    },
    {
      "cell_type": "code",
      "metadata": {
        "id": "g8-Hx_vKf0Sq",
        "colab_type": "code",
        "outputId": "c240d665-4aa9-4641-cb0e-b779fd20f0f9",
        "colab": {
          "base_uri": "https://localhost:8080/",
          "height": 198
        }
      },
      "source": [
        "rating_with_totalRatingCount = combine_book_rating.merge(book_ratingCount, left_on = 'bookTitle', right_on = 'bookTitle', how = 'left')\n",
        "rating_with_totalRatingCount.head()"
      ],
      "execution_count": 0,
      "outputs": [
        {
          "output_type": "execute_result",
          "data": {
            "text/html": [
              "<div>\n",
              "<style scoped>\n",
              "    .dataframe tbody tr th:only-of-type {\n",
              "        vertical-align: middle;\n",
              "    }\n",
              "\n",
              "    .dataframe tbody tr th {\n",
              "        vertical-align: top;\n",
              "    }\n",
              "\n",
              "    .dataframe thead th {\n",
              "        text-align: right;\n",
              "    }\n",
              "</style>\n",
              "<table border=\"1\" class=\"dataframe\">\n",
              "  <thead>\n",
              "    <tr style=\"text-align: right;\">\n",
              "      <th></th>\n",
              "      <th>userID</th>\n",
              "      <th>ISBN</th>\n",
              "      <th>bookRating</th>\n",
              "      <th>bookTitle</th>\n",
              "      <th>totalRatingCount</th>\n",
              "    </tr>\n",
              "  </thead>\n",
              "  <tbody>\n",
              "    <tr>\n",
              "      <th>0</th>\n",
              "      <td>277427</td>\n",
              "      <td>002542730X</td>\n",
              "      <td>10</td>\n",
              "      <td>Politically Correct Bedtime Stories: Modern Ta...</td>\n",
              "      <td>82</td>\n",
              "    </tr>\n",
              "    <tr>\n",
              "      <th>1</th>\n",
              "      <td>3363</td>\n",
              "      <td>002542730X</td>\n",
              "      <td>0</td>\n",
              "      <td>Politically Correct Bedtime Stories: Modern Ta...</td>\n",
              "      <td>82</td>\n",
              "    </tr>\n",
              "    <tr>\n",
              "      <th>2</th>\n",
              "      <td>11676</td>\n",
              "      <td>002542730X</td>\n",
              "      <td>6</td>\n",
              "      <td>Politically Correct Bedtime Stories: Modern Ta...</td>\n",
              "      <td>82</td>\n",
              "    </tr>\n",
              "    <tr>\n",
              "      <th>3</th>\n",
              "      <td>12538</td>\n",
              "      <td>002542730X</td>\n",
              "      <td>10</td>\n",
              "      <td>Politically Correct Bedtime Stories: Modern Ta...</td>\n",
              "      <td>82</td>\n",
              "    </tr>\n",
              "    <tr>\n",
              "      <th>4</th>\n",
              "      <td>13552</td>\n",
              "      <td>002542730X</td>\n",
              "      <td>0</td>\n",
              "      <td>Politically Correct Bedtime Stories: Modern Ta...</td>\n",
              "      <td>82</td>\n",
              "    </tr>\n",
              "  </tbody>\n",
              "</table>\n",
              "</div>"
            ],
            "text/plain": [
              "   userID  ... totalRatingCount\n",
              "0  277427  ...               82\n",
              "1    3363  ...               82\n",
              "2   11676  ...               82\n",
              "3   12538  ...               82\n",
              "4   13552  ...               82\n",
              "\n",
              "[5 rows x 5 columns]"
            ]
          },
          "metadata": {
            "tags": []
          },
          "execution_count": 44
        }
      ]
    },
    {
      "cell_type": "code",
      "metadata": {
        "id": "ZRP7fe5tgGwE",
        "colab_type": "code",
        "outputId": "891c6495-22dc-4011-c50d-04e47f485190",
        "colab": {
          "base_uri": "https://localhost:8080/",
          "height": 198
        }
      },
      "source": [
        "popularity_threshold = 50\n",
        "rating_popular_book = rating_with_totalRatingCount.query('totalRatingCount >= @popularity_threshold')\n",
        "rating_popular_book.head()"
      ],
      "execution_count": 0,
      "outputs": [
        {
          "output_type": "execute_result",
          "data": {
            "text/html": [
              "<div>\n",
              "<style scoped>\n",
              "    .dataframe tbody tr th:only-of-type {\n",
              "        vertical-align: middle;\n",
              "    }\n",
              "\n",
              "    .dataframe tbody tr th {\n",
              "        vertical-align: top;\n",
              "    }\n",
              "\n",
              "    .dataframe thead th {\n",
              "        text-align: right;\n",
              "    }\n",
              "</style>\n",
              "<table border=\"1\" class=\"dataframe\">\n",
              "  <thead>\n",
              "    <tr style=\"text-align: right;\">\n",
              "      <th></th>\n",
              "      <th>userID</th>\n",
              "      <th>ISBN</th>\n",
              "      <th>bookRating</th>\n",
              "      <th>bookTitle</th>\n",
              "      <th>totalRatingCount</th>\n",
              "    </tr>\n",
              "  </thead>\n",
              "  <tbody>\n",
              "    <tr>\n",
              "      <th>0</th>\n",
              "      <td>277427</td>\n",
              "      <td>002542730X</td>\n",
              "      <td>10</td>\n",
              "      <td>Politically Correct Bedtime Stories: Modern Ta...</td>\n",
              "      <td>82</td>\n",
              "    </tr>\n",
              "    <tr>\n",
              "      <th>1</th>\n",
              "      <td>3363</td>\n",
              "      <td>002542730X</td>\n",
              "      <td>0</td>\n",
              "      <td>Politically Correct Bedtime Stories: Modern Ta...</td>\n",
              "      <td>82</td>\n",
              "    </tr>\n",
              "    <tr>\n",
              "      <th>2</th>\n",
              "      <td>11676</td>\n",
              "      <td>002542730X</td>\n",
              "      <td>6</td>\n",
              "      <td>Politically Correct Bedtime Stories: Modern Ta...</td>\n",
              "      <td>82</td>\n",
              "    </tr>\n",
              "    <tr>\n",
              "      <th>3</th>\n",
              "      <td>12538</td>\n",
              "      <td>002542730X</td>\n",
              "      <td>10</td>\n",
              "      <td>Politically Correct Bedtime Stories: Modern Ta...</td>\n",
              "      <td>82</td>\n",
              "    </tr>\n",
              "    <tr>\n",
              "      <th>4</th>\n",
              "      <td>13552</td>\n",
              "      <td>002542730X</td>\n",
              "      <td>0</td>\n",
              "      <td>Politically Correct Bedtime Stories: Modern Ta...</td>\n",
              "      <td>82</td>\n",
              "    </tr>\n",
              "  </tbody>\n",
              "</table>\n",
              "</div>"
            ],
            "text/plain": [
              "   userID  ... totalRatingCount\n",
              "0  277427  ...               82\n",
              "1    3363  ...               82\n",
              "2   11676  ...               82\n",
              "3   12538  ...               82\n",
              "4   13552  ...               82\n",
              "\n",
              "[5 rows x 5 columns]"
            ]
          },
          "metadata": {
            "tags": []
          },
          "execution_count": 45
        }
      ]
    },
    {
      "cell_type": "markdown",
      "metadata": {
        "id": "Cze-DRtlgqzz",
        "colab_type": "text"
      },
      "source": [
        "## Filter to users in US and Canada only"
      ]
    },
    {
      "cell_type": "code",
      "metadata": {
        "id": "ORr4lRIggdz1",
        "colab_type": "code",
        "outputId": "ef595ca6-d63f-46b3-f0e7-473f6b3d3b34",
        "colab": {
          "base_uri": "https://localhost:8080/",
          "height": 108
        }
      },
      "source": [
        "combined = rating_popular_book.merge(users, left_on = 'userID', right_on = 'userID', how = 'left')\n",
        "\n",
        "us_canada_user_rating = combined[combined['Location'].str.contains(\"usa|canada\")]\n",
        "us_canada_user_rating=us_canada_user_rating.drop('Age', axis=1)\n",
        "us_canada_user_rating.head(2)"
      ],
      "execution_count": 0,
      "outputs": [
        {
          "output_type": "execute_result",
          "data": {
            "text/html": [
              "<div>\n",
              "<style scoped>\n",
              "    .dataframe tbody tr th:only-of-type {\n",
              "        vertical-align: middle;\n",
              "    }\n",
              "\n",
              "    .dataframe tbody tr th {\n",
              "        vertical-align: top;\n",
              "    }\n",
              "\n",
              "    .dataframe thead th {\n",
              "        text-align: right;\n",
              "    }\n",
              "</style>\n",
              "<table border=\"1\" class=\"dataframe\">\n",
              "  <thead>\n",
              "    <tr style=\"text-align: right;\">\n",
              "      <th></th>\n",
              "      <th>userID</th>\n",
              "      <th>ISBN</th>\n",
              "      <th>bookRating</th>\n",
              "      <th>bookTitle</th>\n",
              "      <th>totalRatingCount</th>\n",
              "      <th>Location</th>\n",
              "    </tr>\n",
              "  </thead>\n",
              "  <tbody>\n",
              "    <tr>\n",
              "      <th>0</th>\n",
              "      <td>277427</td>\n",
              "      <td>002542730X</td>\n",
              "      <td>10</td>\n",
              "      <td>Politically Correct Bedtime Stories: Modern Ta...</td>\n",
              "      <td>82</td>\n",
              "      <td>gilbert, arizona, usa</td>\n",
              "    </tr>\n",
              "    <tr>\n",
              "      <th>1</th>\n",
              "      <td>3363</td>\n",
              "      <td>002542730X</td>\n",
              "      <td>0</td>\n",
              "      <td>Politically Correct Bedtime Stories: Modern Ta...</td>\n",
              "      <td>82</td>\n",
              "      <td>knoxville, tennessee, usa</td>\n",
              "    </tr>\n",
              "  </tbody>\n",
              "</table>\n",
              "</div>"
            ],
            "text/plain": [
              "   userID        ISBN  ...  totalRatingCount                   Location\n",
              "0  277427  002542730X  ...                82      gilbert, arizona, usa\n",
              "1    3363  002542730X  ...                82  knoxville, tennessee, usa\n",
              "\n",
              "[2 rows x 6 columns]"
            ]
          },
          "metadata": {
            "tags": []
          },
          "execution_count": 48
        }
      ]
    },
    {
      "cell_type": "markdown",
      "metadata": {
        "id": "EJ96th-3g2NF",
        "colab_type": "text"
      },
      "source": [
        "### Implementing kNN\n",
        "We convert our table to a 2D matrix, and fill the missing values with zeros (since we will calculate distances between rating vectors). We then transform the values(ratings) of the matrix dataframe into a scipy sparse matrix for more efficient calculations.\n",
        "\n",
        "Finding the Nearest Neighbors We use unsupervised algorithms with sklearn.neighbors. The algorithm we use to compute the nearest neighbors is “brute”, and we specify “metric=cosine” so that the algorithm will calculate the cosine similarity between rating vectors. Finally, we fit the model."
      ]
    },
    {
      "cell_type": "code",
      "metadata": {
        "id": "UTeiI27ZhIIZ",
        "colab_type": "code",
        "outputId": "bcbdc6c3-04a0-4221-dd5b-415fd66f030f",
        "colab": {
          "base_uri": "https://localhost:8080/",
          "height": 108
        }
      },
      "source": [
        "us_canada_user_rating.head(2)"
      ],
      "execution_count": 0,
      "outputs": [
        {
          "output_type": "execute_result",
          "data": {
            "text/html": [
              "<div>\n",
              "<style scoped>\n",
              "    .dataframe tbody tr th:only-of-type {\n",
              "        vertical-align: middle;\n",
              "    }\n",
              "\n",
              "    .dataframe tbody tr th {\n",
              "        vertical-align: top;\n",
              "    }\n",
              "\n",
              "    .dataframe thead th {\n",
              "        text-align: right;\n",
              "    }\n",
              "</style>\n",
              "<table border=\"1\" class=\"dataframe\">\n",
              "  <thead>\n",
              "    <tr style=\"text-align: right;\">\n",
              "      <th></th>\n",
              "      <th>userID</th>\n",
              "      <th>ISBN</th>\n",
              "      <th>bookRating</th>\n",
              "      <th>bookTitle</th>\n",
              "      <th>totalRatingCount</th>\n",
              "      <th>Location</th>\n",
              "    </tr>\n",
              "  </thead>\n",
              "  <tbody>\n",
              "    <tr>\n",
              "      <th>0</th>\n",
              "      <td>277427</td>\n",
              "      <td>002542730X</td>\n",
              "      <td>10</td>\n",
              "      <td>Politically Correct Bedtime Stories: Modern Ta...</td>\n",
              "      <td>82</td>\n",
              "      <td>gilbert, arizona, usa</td>\n",
              "    </tr>\n",
              "    <tr>\n",
              "      <th>1</th>\n",
              "      <td>3363</td>\n",
              "      <td>002542730X</td>\n",
              "      <td>0</td>\n",
              "      <td>Politically Correct Bedtime Stories: Modern Ta...</td>\n",
              "      <td>82</td>\n",
              "      <td>knoxville, tennessee, usa</td>\n",
              "    </tr>\n",
              "  </tbody>\n",
              "</table>\n",
              "</div>"
            ],
            "text/plain": [
              "   userID        ISBN  ...  totalRatingCount                   Location\n",
              "0  277427  002542730X  ...                82      gilbert, arizona, usa\n",
              "1    3363  002542730X  ...                82  knoxville, tennessee, usa\n",
              "\n",
              "[2 rows x 6 columns]"
            ]
          },
          "metadata": {
            "tags": []
          },
          "execution_count": 49
        }
      ]
    },
    {
      "cell_type": "code",
      "metadata": {
        "id": "c0CP6iqOgxof",
        "colab_type": "code",
        "outputId": "34eadd39-ebea-459a-8f00-c0efc1041e04",
        "colab": {
          "base_uri": "https://localhost:8080/",
          "height": 54
        }
      },
      "source": [
        "from scipy.sparse import csr_matrix\n",
        "us_canada_user_rating = us_canada_user_rating.drop_duplicates(['userID', 'bookTitle'])\n",
        "us_canada_user_rating_pivot = us_canada_user_rating.pivot(index = 'bookTitle', columns = 'userID', values = 'bookRating').fillna(0)\n",
        "us_canada_user_rating_pivot\n",
        "us_canada_user_rating_matrix = csr_matrix(us_canada_user_rating_pivot.values)\n",
        "us_canada_user_rating_matrix"
      ],
      "execution_count": 0,
      "outputs": [
        {
          "output_type": "execute_result",
          "data": {
            "text/plain": [
              "<746x734 sparse matrix of type '<class 'numpy.float64'>'\n",
              "\twith 13028 stored elements in Compressed Sparse Row format>"
            ]
          },
          "metadata": {
            "tags": []
          },
          "execution_count": 52
        }
      ]
    },
    {
      "cell_type": "code",
      "metadata": {
        "id": "qqPgU8qyhyKJ",
        "colab_type": "code",
        "outputId": "7dd8ad72-9eb4-46ad-dd29-52a0737ddd95",
        "colab": {
          "base_uri": "https://localhost:8080/",
          "height": 72
        }
      },
      "source": [
        "from sklearn.neighbors import NearestNeighbors\n",
        "model_knn = NearestNeighbors(metric = 'cosine', algorithm = 'brute')\n",
        "model_knn.fit(us_canada_user_rating_matrix)"
      ],
      "execution_count": 0,
      "outputs": [
        {
          "output_type": "execute_result",
          "data": {
            "text/plain": [
              "NearestNeighbors(algorithm='brute', leaf_size=30, metric='cosine',\n",
              "                 metric_params=None, n_jobs=None, n_neighbors=5, p=2,\n",
              "                 radius=1.0)"
            ]
          },
          "metadata": {
            "tags": []
          },
          "execution_count": 53
        }
      ]
    },
    {
      "cell_type": "code",
      "metadata": {
        "id": "koc8hSdGiPxC",
        "colab_type": "code",
        "outputId": "37419100-a063-46a9-ac44-576cadf7905d",
        "colab": {
          "base_uri": "https://localhost:8080/",
          "height": 35
        }
      },
      "source": [
        "query_index = np.random.choice(us_canada_user_rating_pivot.shape[0])\n",
        "print(query_index)"
      ],
      "execution_count": 0,
      "outputs": [
        {
          "output_type": "stream",
          "text": [
            "375\n"
          ],
          "name": "stdout"
        }
      ]
    },
    {
      "cell_type": "code",
      "metadata": {
        "id": "-ZCBpljVh_gP",
        "colab_type": "code",
        "outputId": "fd7ad1c7-096e-4f70-9dec-16606aa81443",
        "colab": {
          "base_uri": "https://localhost:8080/",
          "height": 1000
        }
      },
      "source": [
        "us_canada_user_rating_pivot.iloc[query_index,:].values.reshape(1,-1)"
      ],
      "execution_count": 0,
      "outputs": [
        {
          "output_type": "execute_result",
          "data": {
            "text/plain": [
              "array([[ 0.,  0.,  0.,  0.,  0.,  0.,  0.,  0.,  0.,  0.,  0.,  0.,  0.,\n",
              "         0.,  0.,  0.,  0.,  0.,  0.,  0.,  0.,  0.,  0.,  0.,  0.,  0.,\n",
              "         0.,  0.,  0.,  0.,  0.,  0.,  0.,  0.,  0.,  0.,  0.,  0.,  0.,\n",
              "         0.,  0.,  0.,  0.,  0.,  0.,  0.,  0.,  0.,  0.,  0.,  0.,  7.,\n",
              "         0.,  0.,  0.,  0.,  0.,  0.,  0.,  9.,  0.,  0.,  0.,  0.,  0.,\n",
              "         0.,  0.,  0.,  0.,  0.,  0.,  0.,  0.,  0.,  0.,  0.,  0.,  0.,\n",
              "         0.,  0.,  0.,  0.,  0.,  0.,  0.,  0.,  0.,  0.,  0.,  0.,  0.,\n",
              "         0.,  0.,  0.,  0.,  0.,  0.,  0.,  0.,  0.,  0.,  0.,  0.,  0.,\n",
              "         0.,  0.,  0.,  0.,  0.,  0.,  0.,  0.,  0.,  0.,  0.,  0.,  0.,\n",
              "         0.,  0.,  0.,  0.,  0.,  0.,  0.,  0.,  0.,  0.,  0.,  0., 10.,\n",
              "         0.,  0.,  0.,  0.,  0.,  0.,  0.,  0.,  0.,  0.,  0.,  0.,  0.,\n",
              "         0.,  0.,  0.,  0.,  0.,  0.,  0.,  0.,  0.,  0.,  0.,  0.,  0.,\n",
              "         0.,  0.,  0.,  0.,  8.,  0.,  0.,  0.,  0.,  0.,  0.,  0.,  0.,\n",
              "         0.,  0.,  0.,  0.,  0.,  0.,  0.,  0.,  0.,  0.,  0.,  0.,  0.,\n",
              "         0.,  0.,  0.,  0.,  0.,  0.,  0.,  0.,  0.,  0.,  0.,  0.,  0.,\n",
              "         0.,  0.,  0.,  0.,  0.,  0.,  0.,  0.,  0.,  0.,  0.,  0.,  0.,\n",
              "         0.,  0.,  0.,  0.,  0.,  0.,  0.,  0.,  0.,  0.,  0.,  0.,  0.,\n",
              "         0.,  0.,  0.,  0.,  0.,  0.,  0.,  0.,  0.,  0.,  0.,  0.,  0.,\n",
              "         0.,  0.,  0.,  0.,  0.,  0.,  0.,  0.,  0.,  0.,  0.,  0.,  0.,\n",
              "         0.,  0.,  0.,  0.,  0.,  0.,  0.,  0.,  0.,  0.,  0.,  0.,  0.,\n",
              "         0.,  0.,  0.,  0.,  0.,  0.,  0.,  0.,  0.,  0.,  0.,  0.,  0.,\n",
              "         0.,  0.,  0.,  0.,  0.,  5.,  0.,  0.,  0.,  0.,  0.,  0.,  0.,\n",
              "         0.,  0.,  0.,  0.,  0.,  0.,  0.,  0.,  0.,  0.,  0.,  0.,  3.,\n",
              "         0.,  0.,  0.,  0.,  0.,  0.,  0.,  0.,  0.,  0.,  0.,  0.,  0.,\n",
              "         0.,  0.,  0.,  0.,  0.,  0.,  0.,  0.,  0.,  0.,  0.,  0.,  0.,\n",
              "         0.,  0.,  0.,  0.,  0.,  0.,  0.,  0.,  0.,  0.,  0.,  0.,  0.,\n",
              "         0.,  0.,  0.,  6.,  0.,  0.,  0.,  0.,  0.,  0.,  0.,  0.,  0.,\n",
              "         0.,  0.,  0.,  0.,  0.,  0.,  0.,  0.,  0.,  0.,  0.,  0.,  0.,\n",
              "         0.,  0.,  0.,  0.,  0.,  0.,  0.,  0.,  0.,  0.,  0.,  0.,  0.,\n",
              "         0.,  0.,  0.,  0.,  0.,  0.,  0.,  0.,  0.,  0.,  0.,  0.,  0.,\n",
              "         0.,  0.,  0.,  0.,  0.,  0.,  0.,  0.,  0.,  0.,  0.,  0.,  0.,\n",
              "         0.,  0.,  0.,  0.,  0.,  0.,  0.,  0.,  0.,  0.,  0.,  0.,  0.,\n",
              "         0.,  0.,  0.,  0.,  0.,  0.,  0.,  0.,  0.,  0.,  0.,  0.,  0.,\n",
              "         0.,  0.,  0.,  0.,  0.,  0.,  0.,  0.,  0.,  0.,  0.,  0.,  0.,\n",
              "         0.,  0.,  0.,  0.,  0.,  0.,  0.,  0.,  0.,  0.,  0.,  0.,  0.,\n",
              "         0.,  0.,  0.,  0.,  0.,  0.,  0.,  0.,  0.,  0.,  0.,  0.,  0.,\n",
              "         0.,  0.,  0.,  0.,  0.,  0.,  0.,  0.,  0.,  0.,  0.,  0.,  0.,\n",
              "         0.,  0.,  0.,  0.,  0.,  0.,  0.,  0.,  0.,  0.,  0.,  0.,  0.,\n",
              "         0.,  0.,  0.,  0.,  0.,  0.,  0.,  0.,  0.,  0.,  0.,  0.,  0.,\n",
              "         0.,  0.,  0.,  0.,  0.,  0.,  0.,  0.,  0.,  0.,  7.,  0.,  0.,\n",
              "         0.,  0.,  0.,  0.,  0.,  0.,  0.,  0.,  0.,  0.,  0.,  0.,  0.,\n",
              "         0.,  0.,  0.,  0.,  0.,  0.,  0.,  0.,  0.,  0.,  0.,  0.,  0.,\n",
              "         0.,  0.,  0.,  0.,  0.,  0.,  0.,  0.,  0.,  0.,  0.,  0.,  0.,\n",
              "         0.,  0.,  0.,  0.,  0.,  0.,  0.,  0.,  0.,  0.,  0.,  0.,  0.,\n",
              "         0.,  0.,  0.,  0.,  0.,  0.,  0.,  0.,  0.,  0.,  0.,  0.,  0.,\n",
              "         0.,  0.,  0.,  0.,  0.,  0.,  0.,  0.,  0.,  0.,  0.,  0.,  0.,\n",
              "         0.,  0.,  0.,  0.,  0.,  0.,  0.,  0.,  0.,  0.,  0.,  0.,  0.,\n",
              "         0.,  0.,  0.,  0.,  0.,  0.,  0.,  0.,  0.,  0.,  0.,  0.,  0.,\n",
              "         0.,  0.,  0.,  0.,  0.,  0.,  0.,  0.,  0.,  0.,  0.,  0.,  0.,\n",
              "         0.,  0.,  0.,  0.,  0.,  0.,  0.,  0.,  0.,  0.,  0.,  0.,  0.,\n",
              "         0.,  0.,  0.,  0.,  0.,  0.,  0.,  0.,  0.,  0.,  0.,  0.,  0.,\n",
              "         0.,  0.,  0.,  0.,  0.,  0.,  0.,  0.,  0.,  0.,  0.,  0.,  0.,\n",
              "         0.,  0.,  0.,  0.,  0.,  0.,  0.,  0.,  0.,  0.,  0.,  0.,  0.,\n",
              "         0.,  0.,  0.,  0.,  0.,  0.,  0.,  0.,  0.,  0.,  0.,  0.,  0.,\n",
              "         0.,  0.,  0.,  0.,  0.,  0.,  0.,  0.,  0.,  0.,  0.,  0.,  0.,\n",
              "         0.,  0.,  0.,  0.,  0.,  0.,  0.,  0.,  0.,  0.,  0.,  0.,  0.,\n",
              "         0.,  0.,  0.,  0.,  0.,  0.]])"
            ]
          },
          "metadata": {
            "tags": []
          },
          "execution_count": 57
        }
      ]
    },
    {
      "cell_type": "code",
      "metadata": {
        "id": "HTbMOvCCiIkw",
        "colab_type": "code",
        "colab": {}
      },
      "source": [
        "distances, indices = model_knn.kneighbors(us_canada_user_rating_pivot.iloc[query_index,:].values.reshape(1, -1), n_neighbors = 6)\n"
      ],
      "execution_count": 0,
      "outputs": []
    },
    {
      "cell_type": "code",
      "metadata": {
        "id": "W4faP-6mjAgU",
        "colab_type": "code",
        "outputId": "ae629161-5e04-4c55-8cef-04c4d082b9ae",
        "colab": {
          "base_uri": "https://localhost:8080/",
          "height": 35
        }
      },
      "source": [
        "us_canada_user_rating_pivot.index[375]"
      ],
      "execution_count": 0,
      "outputs": [
        {
          "output_type": "execute_result",
          "data": {
            "text/plain": [
              "'Now You See Her'"
            ]
          },
          "metadata": {
            "tags": []
          },
          "execution_count": 61
        }
      ]
    },
    {
      "cell_type": "code",
      "metadata": {
        "id": "H4Q8GWs6jFmV",
        "colab_type": "code",
        "outputId": "13ed4ab0-72c0-4a9d-9306-d09034325ced",
        "colab": {
          "base_uri": "https://localhost:8080/",
          "height": 145
        }
      },
      "source": [
        "for i in range(0, len(distances.flatten())):\n",
        "    if i == 0:\n",
        "        print('Recommendations for {0}:\\n'.format(us_canada_user_rating_pivot.index[query_index]))\n",
        "    else:\n",
        "        print('{0}: {1}, with distance of {2}:'.format(i, us_canada_user_rating_pivot.index[indices.flatten()[i]], distances.flatten()[i]))"
      ],
      "execution_count": 0,
      "outputs": [
        {
          "output_type": "stream",
          "text": [
            "Recommendations for Now You See Her:\n",
            "\n",
            "1: Irish Hearts, with distance of 0.7632558161539981:\n",
            "2: Dangerous, with distance of 0.7702928820025228:\n",
            "3: Macgregor Grooms (Macgregors), with distance of 0.7761173908086503:\n",
            "4: Servant of the Bones, with distance of 0.7858328877179654:\n",
            "5: Crazy for You, with distance of 0.7964718498705008:\n"
          ],
          "name": "stdout"
        }
      ]
    },
    {
      "cell_type": "code",
      "metadata": {
        "id": "H1W_BFvE6dBE",
        "colab_type": "code",
        "colab": {}
      },
      "source": [
        ""
      ],
      "execution_count": 0,
      "outputs": []
    }
  ]
}