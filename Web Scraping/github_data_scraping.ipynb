{
  "nbformat": 4,
  "nbformat_minor": 0,
  "metadata": {
    "colab": {
      "name": "githubwithoutapi.ipynb",
      "version": "0.3.2",
      "provenance": []
    },
    "kernelspec": {
      "name": "python3",
      "display_name": "Python 3"
    }
  },
  "cells": [
    {
      "cell_type": "code",
      "metadata": {
        "id": "Gb5cMrr00x_X",
        "colab_type": "code",
        "colab": {}
      },
      "source": [
        "from urllib.request import Request, urlopen\n",
        "from urllib.parse import quote_plus\n",
        "from bs4 import BeautifulSoup"
      ],
      "execution_count": 0,
      "outputs": []
    },
    {
      "cell_type": "code",
      "metadata": {
        "id": "ROlVcIfS2K4Y",
        "colab_type": "code",
        "outputId": "4677f29e-eea8-4009-f2df-edef6af74af6",
        "colab": {
          "base_uri": "https://localhost:8080/",
          "height": 35
        }
      },
      "source": [
        "user = input(\"Enter the keyword:\")\n",
        "qstr = quote_plus(user)\n",
        "req = Request('https://github.com/search?q={0}'.format(qstr), headers={'User-Agent': 'Mozilla/5.0'})\n",
        "webpage = urlopen(req).read()\n",
        "soup = BeautifulSoup(webpage)"
      ],
      "execution_count": 0,
      "outputs": [
        {
          "output_type": "stream",
          "text": [
            "Enter the keyword:nltk\n"
          ],
          "name": "stdout"
        }
      ]
    },
    {
      "cell_type": "code",
      "metadata": {
        "id": "0Y1zBvPH2aVp",
        "colab_type": "code",
        "colab": {}
      },
      "source": [
        "print(soup)"
      ],
      "execution_count": 0,
      "outputs": []
    },
    {
      "cell_type": "markdown",
      "metadata": {
        "id": "MwSI3WzfB6OI",
        "colab_type": "text"
      },
      "source": [
        "## Titles"
      ]
    },
    {
      "cell_type": "code",
      "metadata": {
        "id": "aolVW9qJ3lP8",
        "colab_type": "code",
        "outputId": "47101d2e-f68b-4958-d4e8-4b41ebd32595",
        "colab": {
          "base_uri": "https://localhost:8080/",
          "height": 199
        }
      },
      "source": [
        "titles = []\n",
        "x = soup.find_all('a',attrs= {'class':'v-align-middle'})\n",
        "for node in x:\n",
        "      titles.append(' '.join(node.findAll(text=True)))\n",
        "titles"
      ],
      "execution_count": 0,
      "outputs": [
        {
          "output_type": "execute_result",
          "data": {
            "text/plain": [
              "['nltk/ nltk',\n",
              " 'nltk/ nltk _data',\n",
              " 'rockyzhengwu/Fool NLTK',\n",
              " 'japerk/ nltk -trainer',\n",
              " 'nltk/ nltk _book',\n",
              " 'nltk/ nltk _contrib',\n",
              " 'japerk/ nltk 3-cookbook',\n",
              " 'csurfer/rake- nltk',\n",
              " 'susanli2016/NLP-with-Python',\n",
              " 'sujitpal/ nltk -examples']"
            ]
          },
          "metadata": {
            "tags": []
          },
          "execution_count": 74
        }
      ]
    },
    {
      "cell_type": "markdown",
      "metadata": {
        "id": "5N94Y7MVCArW",
        "colab_type": "text"
      },
      "source": [
        "## Links"
      ]
    },
    {
      "cell_type": "code",
      "metadata": {
        "id": "pQ7nEJfu_Vqg",
        "colab_type": "code",
        "outputId": "e5df6784-9ad6-4a09-c276-c4a0a90cd906",
        "colab": {
          "base_uri": "https://localhost:8080/",
          "height": 199
        }
      },
      "source": [
        "links = []\n",
        "for a in soup.find_all('a',attrs= {'class':'v-align-middle'},href = True):\n",
        "    links.append('https://github.com{}'.format(a['href']))\n",
        "links\n"
      ],
      "execution_count": 0,
      "outputs": [
        {
          "output_type": "execute_result",
          "data": {
            "text/plain": [
              "['https://github.com/nltk/nltk',\n",
              " 'https://github.com/nltk/nltk_data',\n",
              " 'https://github.com/rockyzhengwu/FoolNLTK',\n",
              " 'https://github.com/japerk/nltk-trainer',\n",
              " 'https://github.com/nltk/nltk_book',\n",
              " 'https://github.com/nltk/nltk_contrib',\n",
              " 'https://github.com/japerk/nltk3-cookbook',\n",
              " 'https://github.com/csurfer/rake-nltk',\n",
              " 'https://github.com/susanli2016/NLP-with-Python',\n",
              " 'https://github.com/sujitpal/nltk-examples']"
            ]
          },
          "metadata": {
            "tags": []
          },
          "execution_count": 79
        }
      ]
    },
    {
      "cell_type": "markdown",
      "metadata": {
        "id": "M3abkKslJwAJ",
        "colab_type": "text"
      },
      "source": [
        "## Stars"
      ]
    },
    {
      "cell_type": "code",
      "metadata": {
        "id": "M9Ywjg_vBvMs",
        "colab_type": "code",
        "outputId": "edc5f394-50fd-40aa-84ee-c786424b1abb",
        "colab": {
          "base_uri": "https://localhost:8080/",
          "height": 199
        }
      },
      "source": [
        "stars = []\n",
        "y = soup.findAll('div',attrs= {'class':'pl-2 pl-md-0 text-right flex-auto min-width-0'})\n",
        "for node in y:\n",
        "    stars.append(''.join(node.findAll(text=True)))\n",
        "    \n",
        "stars"
      ],
      "execution_count": 0,
      "outputs": [
        {
          "output_type": "execute_result",
          "data": {
            "text/plain": [
              "['\\n\\n\\n          8k\\n        \\n',\n",
              " '\\n\\n\\n          285\\n        \\n',\n",
              " '\\n\\n\\n          1.3k\\n        \\n',\n",
              " '\\n\\n\\n          728\\n        \\n',\n",
              " '\\n\\n\\n          305\\n        \\n',\n",
              " '\\n\\n\\n          145\\n        \\n',\n",
              " '\\n\\n\\n          133\\n        \\n',\n",
              " '\\n\\n\\n          590\\n        \\n',\n",
              " '\\n\\n\\n          838\\n        \\n',\n",
              " '\\n\\n\\n          162\\n        \\n']"
            ]
          },
          "metadata": {
            "tags": []
          },
          "execution_count": 76
        }
      ]
    },
    {
      "cell_type": "code",
      "metadata": {
        "id": "99L1GOCSCyKn",
        "colab_type": "code",
        "outputId": "5f1634c9-aac7-48bb-b17f-82a9813cdfb6",
        "colab": {
          "base_uri": "https://localhost:8080/",
          "height": 35
        }
      },
      "source": [
        "hello = [x.strip('  \\n') for x in stars]\n",
        "hello"
      ],
      "execution_count": 0,
      "outputs": [
        {
          "output_type": "execute_result",
          "data": {
            "text/plain": [
              "['8k', '285', '1.3k', '728', '305', '145', '133', '590', '838', '162']"
            ]
          },
          "metadata": {
            "tags": []
          },
          "execution_count": 77
        }
      ]
    },
    {
      "cell_type": "code",
      "metadata": {
        "id": "y5houOF_EXVF",
        "colab_type": "code",
        "colab": {}
      },
      "source": [
        ""
      ],
      "execution_count": 0,
      "outputs": []
    }
  ]
}